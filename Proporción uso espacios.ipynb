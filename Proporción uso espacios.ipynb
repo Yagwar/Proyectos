{
 "cells": [
  {
   "cell_type": "markdown",
   "metadata": {},
   "source": [
    "Librerías"
   ]
  },
  {
   "cell_type": "code",
   "execution_count": 147,
   "metadata": {},
   "outputs": [],
   "source": [
    "library(RColorBrewer,ggplot2)\n",
    "library(reshape2,viridis)\n",
    "palette(colorRampPalette(brewer.pal(5,\"Set1\"))(9))\n",
    "#palette(brewer.pal(5,\"Set1\"))"
   ]
  },
  {
   "cell_type": "markdown",
   "metadata": {},
   "source": [
    "\n",
    "1. Crear registro de uso de espacios.\n",
    "\n",
    "Matriz de false por espacio y fecha para los periodos 2017-2 y 2018-1\n",
    "\n",
    "2. Cargar uso de espacios\n",
    "\n",
    "Cargar archivos de registro de uso de espacios \n",
    "- Prácticas de laboratorio\n",
    "\n",
    "- Práctica libre y tutorías\n",
    "\n",
    "    - La tutoría tiene una duración de 45 minutos\n",
    "    - La práctica libre dura 90 minutos.\n",
    "\n",
    "3. Asignar los registros a los espacios\n",
    "\n",
    "4. Filtrar los espacios en las horas "
   ]
  },
  {
   "cell_type": "code",
   "execution_count": 148,
   "metadata": {},
   "outputs": [],
   "source": [
    "#Asignar el uso del espacio al evento\n",
    "asig_pr_horario=function(reg_uso_spac,seq_tm_spac, pract_inic,pract_fin){\n",
    "#     reg_uso_spac: Secuencia True/False de registro de uso\n",
    "#     seq_tm_spac: Vector fecha-hora del registro\n",
    "#     pract_inic: registro de fecha-hora de inicio\n",
    "#     pract_fin: registro de fecha-hora de final de la actividad\n",
    "    reg_uso_spac[seq_tm_spac>pract_inic&seq_tm_spac<pract_fin]=TRUE\n",
    "    return (reg_uso_spac)\n",
    "}\n",
    "conteo_pr_horario=function(reg_uso_spac,seq_tm_spac, pract_inic,pract_fin){\n",
    "#     reg_uso_spac: Secuencia True/False de registro de uso\n",
    "#     seq_tm_spac: Vector fecha-hora del registro\n",
    "#     pract_inic: registro de fecha-hora de inicio\n",
    "#     pract_fin: registro de fecha-hora de final de la actividad\n",
    "    reg_uso_spac[seq_tm_spac>pract_inic&seq_tm_spac<pract_fin]=reg_uso_spac[seq_tm_spac>pract_inic&seq_tm_spac<pract_fin]+1\n",
    "    return (reg_uso_spac)\n",
    "}"
   ]
  },
  {
   "cell_type": "code",
   "execution_count": 149,
   "metadata": {},
   "outputs": [
    {
     "name": "stdout",
     "output_type": "stream",
     "text": [
      " [1] FALSE FALSE FALSE FALSE FALSE FALSE FALSE FALSE FALSE FALSE FALSE FALSE\n",
      "[13] FALSE FALSE FALSE FALSE FALSE FALSE FALSE FALSE FALSE FALSE FALSE FALSE\n",
      "[25] FALSE FALSE FALSE FALSE FALSE FALSE FALSE FALSE FALSE FALSE FALSE FALSE\n",
      "[37] FALSE FALSE\n",
      " [1] FALSE  TRUE  TRUE  TRUE  TRUE  TRUE  TRUE  TRUE  TRUE  TRUE  TRUE  TRUE\n",
      "[13]  TRUE  TRUE  TRUE  TRUE  TRUE  TRUE  TRUE  TRUE  TRUE  TRUE FALSE FALSE\n",
      "[25] FALSE FALSE FALSE FALSE FALSE FALSE FALSE FALSE FALSE FALSE FALSE FALSE\n",
      "[37] FALSE FALSE\n",
      " [1] FALSE  TRUE  TRUE  TRUE  TRUE  TRUE  TRUE  TRUE  TRUE  TRUE  TRUE  TRUE\n",
      "[13]  TRUE  TRUE  TRUE  TRUE  TRUE  TRUE  TRUE  TRUE  TRUE  TRUE  TRUE  TRUE\n",
      "[25]  TRUE  TRUE  TRUE  TRUE  TRUE  TRUE  TRUE  TRUE  TRUE  TRUE  TRUE  TRUE\n",
      "[37]  TRUE FALSE\n",
      " [1] 0 0 0 0 0 0 0 0 0 0 0 0 0 0 0 0 0 0 0 0 0 0 0 0 0 0 0 0 0 0 0 0 0 0 0 0 0 0\n",
      " [1] 0 2 2 2 2 2 2 2 2 2 2 2 2 2 2 2 2 2 2 2 2 2 1 1 1 1 1 1 1 1 1 1 1 1 1 1 1 0\n"
     ]
    }
   ],
   "source": [
    "## Validación asignador\n",
    "\n",
    "#evento 1 # inicio y final\n",
    "ev_1=c(strptime(\"07:00:00\", \"%H:%M:%S\"),strptime(\"08:45:00\", \"%H:%M:%S\"))\n",
    "\n",
    "#evento 2 # inicio y final\n",
    "ev_2=c(strptime(\"08:30:00\", \"%H:%M:%S\"),strptime(\"10:00:00\", \"%H:%M:%S\"))\n",
    "\n",
    "#secuencia de tiempo del espacio\n",
    "espac=seq(strptime(\"06:58:00\", \"%H:%M:%S\"),strptime(\"10:05:00\", \"%H:%M:%S\"), by=300)\n",
    "\n",
    "#Registro de uso del espacio\n",
    "uso=rep(FALSE, length(espac))\n",
    "cont=rep(0, length(espac))\n",
    "print(uso)\n",
    "\n",
    "uso=(asig_pr_horario(uso,espac,ev_1[1],ev_1[2]))\n",
    "print(uso)\n",
    "uso=(asig_pr_horario(uso,espac,ev_2[1],ev_2[2]))\n",
    "print(uso)\n",
    "\n",
    "print(cont)\n",
    "cont=(conteo_pr_horario(uso,espac,ev_1[1],ev_1[2]))\n",
    "cont=(conteo_pr_horario(uso,espac,ev_1[1],ev_1[2]))\n",
    "print(cont)"
   ]
  },
  {
   "cell_type": "code",
   "execution_count": 150,
   "metadata": {},
   "outputs": [
    {
     "data": {
      "text/html": [
       "<table>\n",
       "<thead><tr><th></th><th scope=col>gesell</th><th scope=col>auxiliar</th><th scope=col>sistemas</th><th scope=col>mesas_trab</th><th scope=col>mesas_trab_fr</th></tr></thead>\n",
       "<tbody>\n",
       "\t<tr><th scope=row>2017-06-01 07:02:30</th><td>FALSE</td><td>FALSE</td><td>FALSE</td><td>FALSE</td><td>0    </td></tr>\n",
       "\t<tr><th scope=row>2017-06-01 07:07:30</th><td>FALSE</td><td>FALSE</td><td>FALSE</td><td>FALSE</td><td>0    </td></tr>\n",
       "\t<tr><th scope=row>2017-06-01 07:12:30</th><td>FALSE</td><td>FALSE</td><td>FALSE</td><td>FALSE</td><td>0    </td></tr>\n",
       "\t<tr><th scope=row>2017-06-01 07:17:30</th><td>FALSE</td><td>FALSE</td><td>FALSE</td><td>FALSE</td><td>0    </td></tr>\n",
       "\t<tr><th scope=row>2017-06-01 07:22:30</th><td>FALSE</td><td>FALSE</td><td>FALSE</td><td>FALSE</td><td>0    </td></tr>\n",
       "\t<tr><th scope=row>2017-06-01 07:27:30</th><td>FALSE</td><td>FALSE</td><td>FALSE</td><td>FALSE</td><td>0    </td></tr>\n",
       "</tbody>\n",
       "</table>\n"
      ],
      "text/latex": [
       "\\begin{tabular}{r|lllll}\n",
       "  & gesell & auxiliar & sistemas & mesas\\_trab & mesas\\_trab\\_fr\\\\\n",
       "\\hline\n",
       "\t2017-06-01 07:02:30 & FALSE & FALSE & FALSE & FALSE & 0    \\\\\n",
       "\t2017-06-01 07:07:30 & FALSE & FALSE & FALSE & FALSE & 0    \\\\\n",
       "\t2017-06-01 07:12:30 & FALSE & FALSE & FALSE & FALSE & 0    \\\\\n",
       "\t2017-06-01 07:17:30 & FALSE & FALSE & FALSE & FALSE & 0    \\\\\n",
       "\t2017-06-01 07:22:30 & FALSE & FALSE & FALSE & FALSE & 0    \\\\\n",
       "\t2017-06-01 07:27:30 & FALSE & FALSE & FALSE & FALSE & 0    \\\\\n",
       "\\end{tabular}\n"
      ],
      "text/markdown": [
       "\n",
       "| <!--/--> | gesell | auxiliar | sistemas | mesas_trab | mesas_trab_fr | \n",
       "|---|---|---|---|---|---|\n",
       "| 2017-06-01 07:02:30 | FALSE | FALSE | FALSE | FALSE | 0     | \n",
       "| 2017-06-01 07:07:30 | FALSE | FALSE | FALSE | FALSE | 0     | \n",
       "| 2017-06-01 07:12:30 | FALSE | FALSE | FALSE | FALSE | 0     | \n",
       "| 2017-06-01 07:17:30 | FALSE | FALSE | FALSE | FALSE | 0     | \n",
       "| 2017-06-01 07:22:30 | FALSE | FALSE | FALSE | FALSE | 0     | \n",
       "| 2017-06-01 07:27:30 | FALSE | FALSE | FALSE | FALSE | 0     | \n",
       "\n",
       "\n"
      ],
      "text/plain": [
       "                    gesell auxiliar sistemas mesas_trab mesas_trab_fr\n",
       "2017-06-01 07:02:30 FALSE  FALSE    FALSE    FALSE      0            \n",
       "2017-06-01 07:07:30 FALSE  FALSE    FALSE    FALSE      0            \n",
       "2017-06-01 07:12:30 FALSE  FALSE    FALSE    FALSE      0            \n",
       "2017-06-01 07:17:30 FALSE  FALSE    FALSE    FALSE      0            \n",
       "2017-06-01 07:22:30 FALSE  FALSE    FALSE    FALSE      0            \n",
       "2017-06-01 07:27:30 FALSE  FALSE    FALSE    FALSE      0            "
      ]
     },
     "metadata": {},
     "output_type": "display_data"
    }
   ],
   "source": [
    "fechas=seq(strptime(\"2017-06-01 07:02:30\", \"%F %T\"),strptime(\"2018-06-30 22:57:30\", \"%F %T\"), by=300)\n",
    "usos_espac=data.frame(gesell=rep(FALSE, length(fechas)),\n",
    "                      auxiliar=rep(FALSE, length(fechas)),\n",
    "                      sistemas=rep(FALSE, length(fechas)),\n",
    "                      mesas_trab=rep(FALSE, length(fechas)),\n",
    "                      mesas_trab_fr=rep(0, length(fechas)),\n",
    "                     row.names=fechas)\n",
    "\n",
    "head(usos_espac)"
   ]
  },
  {
   "cell_type": "code",
   "execution_count": 151,
   "metadata": {},
   "outputs": [
    {
     "name": "stdout",
     "output_type": "stream",
     "text": [
      "'data.frame':\t3270 obs. of  9 variables:\n",
      " $ No.                : int  4 5 6 72 71 73 74 75 76 212 ...\n",
      " $ NOMBRES.Y.APELLIDOS: Factor w/ 1336 levels \"Adriana Carrasquilla\",..: 970 755 689 1137 574 1110 564 538 235 712 ...\n",
      " $ SEMESTRE           : Factor w/ 12 levels \"\",\"1\",\"10\",\"2\",..: 9 8 8 7 7 7 7 6 6 9 ...\n",
      " $ FECHA              : Factor w/ 185 levels \"1/03/2018\",\"1/09/2017\",..: 170 170 170 171 178 178 178 25 25 93 ...\n",
      " $ HORA               : Factor w/ 598 levels \"\",\"10:00:00\",..: 55 55 55 20 20 20 20 516 516 247 ...\n",
      " $ MOTIVO.SOLICITUD   : Factor w/ 6 levels \"Consulta\",\"Ingreso\",..: 3 3 3 5 5 5 5 5 5 5 ...\n",
      " $ MATERIAL           : Factor w/ 136 levels \"\",\"16 PF\",\"16 PF-5\",..: 1 1 1 92 92 92 92 11 11 6 ...\n",
      " $ ASIGNATURA         : Factor w/ 53 levels \"\",\"ADMON EMPRESAS\",..: 1 1 1 27 33 32 27 30 30 7 ...\n",
      " $ Periodo.acad       : Factor w/ 3 levels \"2017_1\",\"2017_3\",..: 1 1 1 1 1 1 1 1 1 1 ...\n"
     ]
    }
   ],
   "source": [
    "dat_prl_cons=read.csv2(\"pr_lib_cons_171_181.csv\");str(dat_prl_cons)\n",
    "fch_prl=strptime(paste(dat_prl_cons$FECHA,dat_prl_cons$HORA), \"%d/%m/%Y %H:%M\")"
   ]
  },
  {
   "cell_type": "code",
   "execution_count": 152,
   "metadata": {},
   "outputs": [
    {
     "data": {
      "text/plain": [
       "\n",
       " FALSE   TRUE \n",
       "104002   9662 "
      ]
     },
     "metadata": {},
     "output_type": "display_data"
    }
   ],
   "source": [
    "for (i in 1:length(fch_prl)){\n",
    "#     print(paste(i,fch_prl[i],min(fechas),max(fechas)))\n",
    "    if(!is.na(fch_prl[i])){\n",
    "        if((fch_prl[i]>min(fechas))&(fch_prl[i]<max(fechas))){\n",
    "            usos_espac$mesas_trab_fr=conteo_pr_horario(usos_espac$mesas_trab_fr,fechas,fch_prl[i],fch_prl[i]+(60*45))\n",
    "            usos_espac$mesas_trab=     asig_pr_horario(usos_espac$mesas_trab,fechas,fch_prl[i],fch_prl[i]+(60*45))\n",
    "#             print(paste(i,fch_prl[i],min(fechas),max(fechas)))\n",
    "        }\n",
    "    }\n",
    "}\n",
    "table(usos_espac$mesas_trab)"
   ]
  },
  {
   "cell_type": "code",
   "execution_count": 153,
   "metadata": {},
   "outputs": [
    {
     "name": "stdout",
     "output_type": "stream",
     "text": [
      "'data.frame':\t564 obs. of  9 variables:\n",
      " $ Nom_Doc        : Factor w/ 41 levels \"Adolfo Valderrama\",..: 25 6 28 24 28 12 21 1 15 22 ...\n",
      " $ Asignatura     : Factor w/ 30 levels \"Aprendizaje y cognición: modelos cognitivos\",..: 23 1 3 23 3 6 6 21 19 6 ...\n",
      " $ Semestre       : Factor w/ 11 levels \"1\",\"10\",\"2\",\"3\",..: 5 5 3 1 3 4 4 3 5 4 ...\n",
      " $ Num_.Grupo     : Factor w/ 62 levels \"0\",\"101\",\"102\",..: 31 32 9 3 16 25 19 10 29 26 ...\n",
      " $ Num_estudiantes: Factor w/ 43 levels \"07:00 - 09:15\",..: 22 20 25 35 28 9 28 21 28 30 ...\n",
      " $ Fecha_pr       : Factor w/ 149 levels \"1/03/2018\",\"1/11/2017\",..: 5 27 27 27 27 27 34 34 34 34 ...\n",
      " $ h_inic         : Factor w/ 26 levels \"10:00\",\"10:30\",..: 6 19 1 4 14 15 19 22 3 12 ...\n",
      " $ h_fin          : Factor w/ 37 levels \"10:00\",\"10:15\",..: 15 35 9 11 32 32 35 35 12 26 ...\n",
      " $ espacio        : Factor w/ 3 levels \"auxiliar\",\"gesell\",..: 2 2 1 2 1 2 2 3 2 2 ...\n"
     ]
    }
   ],
   "source": [
    "dat_pr_lab=read.csv2(\"reg_pr_labs.csv\");str(dat_pr_lab)\n",
    "pr_inic=strptime(paste(dat_pr_lab$Fecha_pr,dat_pr_lab$h_inic), \"%d/%m/%Y %H:%M\")\n",
    "pr_fin=strptime(paste(dat_pr_lab$Fecha_pr,dat_pr_lab$h_fin), \"%d/%m/%Y %H:%M\")"
   ]
  },
  {
   "cell_type": "code",
   "execution_count": 154,
   "metadata": {},
   "outputs": [],
   "source": [
    "for (i in 1:length(dat_pr_lab$espacio[dat_pr_lab$espacio==\"gesell\"])){\n",
    "    usos_espac$gesell=asig_pr_horario(usos_espac$gesell,\n",
    "                                      fechas,\n",
    "                                      pr_inic[dat_pr_lab$espacio==\"gesell\"][i],\n",
    "                                      pr_fin[dat_pr_lab$espacio==\"gesell\"][i])\n",
    "}\n",
    "\n",
    "for (i in 1:length(dat_pr_lab$espacio[dat_pr_lab$espacio==\"auxiliar\"])){\n",
    "    usos_espac$auxiliar=asig_pr_horario(usos_espac$auxiliar,\n",
    "                                      fechas,\n",
    "                                      pr_inic[dat_pr_lab$espacio==\"auxiliar\"][i],\n",
    "                                      pr_fin[dat_pr_lab$espacio==\"auxiliar\"][i])\n",
    "}\n",
    "\n",
    "for (i in 1:length(dat_pr_lab$espacio[dat_pr_lab$espacio==\"sistemas\"])){\n",
    "    usos_espac$sistemas=asig_pr_horario(usos_espac$sistemas,\n",
    "                                      fechas,\n",
    "                                      pr_inic[dat_pr_lab$espacio==\"sistemas\"][i],\n",
    "                                      pr_fin[dat_pr_lab$espacio==\"sistemas\"][i])\n",
    "}\n"
   ]
  },
  {
   "cell_type": "code",
   "execution_count": 155,
   "metadata": {},
   "outputs": [
    {
     "data": {
      "text/plain": [
       "   gesell         auxiliar        sistemas       mesas_trab     \n",
       " Mode :logical   Mode :logical   Mode :logical   Mode :logical  \n",
       " FALSE:107863    FALSE:108267    FALSE:110556    FALSE:104002   \n",
       " TRUE :5801      TRUE :5397      TRUE :3108      TRUE :9662     \n",
       " NA's :0         NA's :0         NA's :0         NA's :0        \n",
       "                                                                \n",
       "                                                                \n",
       " mesas_trab_fr    \n",
       " Min.   : 0.0000  \n",
       " 1st Qu.: 0.0000  \n",
       " Median : 0.0000  \n",
       " Mean   : 0.2464  \n",
       " 3rd Qu.: 0.0000  \n",
       " Max.   :36.0000  "
      ]
     },
     "metadata": {},
     "output_type": "display_data"
    }
   ],
   "source": [
    "summary(usos_espac)"
   ]
  },
  {
   "cell_type": "markdown",
   "metadata": {},
   "source": [
    "Eliminar los días que no son del calendario académico del semestre"
   ]
  },
  {
   "cell_type": "code",
   "execution_count": 156,
   "metadata": {},
   "outputs": [],
   "source": [
    "inic_2017_2=strptime(\"2017-07-31 07:00:00\",\"%F %T\")\n",
    "fin_2017_2=strptime(\"2017-11-18 13:00:00\",\"%F %T\")\n",
    "\n",
    "inic_2018_1=strptime(\"2018-02-05 07:00:00\",\"%F %T\")\n",
    "fin_2018_1=strptime(\"2018-06-02 13:00:00\",\"%F %T\")"
   ]
  },
  {
   "cell_type": "code",
   "execution_count": 157,
   "metadata": {},
   "outputs": [
    {
     "data": {
      "text/plain": [
       "   gesell         auxiliar        sistemas       mesas_trab     \n",
       " Mode :logical   Mode :logical   Mode :logical   Mode :logical  \n",
       " FALSE:59755     FALSE:60216     FALSE:62412     FALSE:55915    \n",
       " TRUE :5765      TRUE :5304      TRUE :3108      TRUE :9605     \n",
       " NA's :0         NA's :0         NA's :0         NA's :0        \n",
       "                                                                \n",
       "                                                                \n",
       " mesas_trab_fr    \n",
       " Min.   : 0.0000  \n",
       " 1st Qu.: 0.0000  \n",
       " Median : 0.0000  \n",
       " Mean   : 0.4262  \n",
       " 3rd Qu.: 0.0000  \n",
       " Max.   :36.0000  "
      ]
     },
     "metadata": {},
     "output_type": "display_data"
    }
   ],
   "source": [
    "usos_espac=usos_espac[(fechas>inic_2017_2&fechas<fin_2017_2)|(fechas>inic_2018_1&fechas<fin_2018_1),]\n",
    "fechas=strptime(rownames(usos_espac),\"%F %T\")\n",
    "summary(usos_espac)"
   ]
  },
  {
   "cell_type": "markdown",
   "metadata": {},
   "source": [
    "Eliminar:\n",
    "\n",
    "Las horas fuera del horario de práctica (antes de 7:00 a.m. y después de 10:00 p.m.)\n",
    "\n",
    "Los domingos \n",
    "\n",
    "Los sábados después de la 1\n",
    "\n",
    "Festivos"
   ]
  },
  {
   "cell_type": "code",
   "execution_count": 158,
   "metadata": {},
   "outputs": [
    {
     "data": {
      "text/plain": [
       "   gesell         auxiliar        sistemas       mesas_trab     \n",
       " Mode :logical   Mode :logical   Mode :logical   Mode :logical  \n",
       " FALSE:35239     FALSE:35700     FALSE:37896     FALSE:31415    \n",
       " TRUE :5765      TRUE :5304      TRUE :3108      TRUE :9589     \n",
       " NA's :0         NA's :0         NA's :0         NA's :0        \n",
       "                                                                \n",
       "                                                                \n",
       " mesas_trab_fr    \n",
       " Min.   : 0.0000  \n",
       " 1st Qu.: 0.0000  \n",
       " Median : 0.0000  \n",
       " Mean   : 0.6806  \n",
       " 3rd Qu.: 0.0000  \n",
       " Max.   :36.0000  "
      ]
     },
     "metadata": {},
     "output_type": "display_data"
    }
   ],
   "source": [
    "hora_pr_lab=format(fechas, \"%H:%M\")\n",
    "usos_espac=usos_espac[strptime(hora_pr_lab,\"%H:%M\")>strptime(\"07:00\",\"%H:%M\")&\n",
    "                      strptime(hora_pr_lab,\"%H:%M\")<strptime(\"22:00\",\"%H:%M\"),]\n",
    "fechas=strptime(rownames(usos_espac),\"%F %T\")\n",
    "hora_pr_lab=format(fechas, \"%H:%M\")\n",
    "summary(usos_espac)"
   ]
  },
  {
   "cell_type": "code",
   "execution_count": 159,
   "metadata": {},
   "outputs": [
    {
     "data": {
      "text/plain": [
       "   gesell         auxiliar        sistemas       mesas_trab     \n",
       " Mode :logical   Mode :logical   Mode :logical   Mode :logical  \n",
       " FALSE:29659     FALSE:30147     FALSE:32316     FALSE:25889    \n",
       " TRUE :5765      TRUE :5277      TRUE :3108      TRUE :9535     \n",
       " NA's :0         NA's :0         NA's :0         NA's :0        \n",
       "                                                                \n",
       "                                                                \n",
       " mesas_trab_fr   \n",
       " Min.   : 0.000  \n",
       " 1st Qu.: 0.000  \n",
       " Median : 0.000  \n",
       " Mean   : 0.782  \n",
       " 3rd Qu.: 1.000  \n",
       " Max.   :36.000  "
      ]
     },
     "metadata": {},
     "output_type": "display_data"
    }
   ],
   "source": [
    "dia_pr_lab=weekdays(fechas)\n",
    "dia_pr_lab=factor(dia_pr_lab, levels=c(\"lunes\",\"martes\",\"miércoles\",\"jueves\",\"viernes\",\"sábado\",\"domingo\"), ordered=T)\n",
    "\n",
    "usos_espac=usos_espac[!dia_pr_lab==\"domingo\",]\n",
    "\n",
    "fechas=strptime(rownames(usos_espac),\"%F %T\")\n",
    "hora_pr_lab=format(fechas, \"%H:%M\")\n",
    "dia_pr_lab=weekdays(fechas)\n",
    "dia_pr_lab=factor(dia_pr_lab, levels=c(\"lunes\",\"martes\",\"miércoles\",\"jueves\",\"viernes\",\"sábado\",\"domingo\"), ordered=T)\n",
    "summary(usos_espac)"
   ]
  },
  {
   "cell_type": "code",
   "execution_count": 160,
   "metadata": {},
   "outputs": [
    {
     "data": {
      "text/plain": [
       "   gesell         auxiliar        sistemas       mesas_trab     \n",
       " Mode :logical   Mode :logical   Mode :logical   Mode :logical  \n",
       " FALSE:26311     FALSE:26811     FALSE:28968     FALSE:22588    \n",
       " TRUE :5765      TRUE :5265      TRUE :3108      TRUE :9488     \n",
       " NA's :0         NA's :0         NA's :0         NA's :0        \n",
       "                                                                \n",
       "                                                                \n",
       " mesas_trab_fr    \n",
       " Min.   : 0.0000  \n",
       " 1st Qu.: 0.0000  \n",
       " Median : 0.0000  \n",
       " Mean   : 0.8603  \n",
       " 3rd Qu.: 1.0000  \n",
       " Max.   :36.0000  "
      ]
     },
     "metadata": {},
     "output_type": "display_data"
    },
    {
     "name": "stdout",
     "output_type": "stream",
     "text": [
      "'data.frame':\t32076 obs. of  5 variables:\n",
      " $ gesell       : logi  FALSE FALSE FALSE FALSE FALSE FALSE ...\n",
      " $ auxiliar     : logi  FALSE FALSE FALSE FALSE FALSE FALSE ...\n",
      " $ sistemas     : logi  FALSE FALSE FALSE FALSE FALSE FALSE ...\n",
      " $ mesas_trab   : logi  FALSE FALSE FALSE FALSE FALSE FALSE ...\n",
      " $ mesas_trab_fr: num  0 0 0 0 0 0 0 0 0 0 ...\n"
     ]
    }
   ],
   "source": [
    "usos_espac=usos_espac[!(dia_pr_lab==\"sábado\"&strptime(hora_pr_lab,\"%H:%M\")>strptime(\"13:00\",\"%H:%M\")),]\n",
    "\n",
    "fechas=strptime(rownames(usos_espac),\"%F %T\")\n",
    "hora_pr_lab=format(fechas, \"%H:%M\")\n",
    "dia_pr_lab=weekdays(fechas)\n",
    "dia_pr_lab=factor(dia_pr_lab, levels=c(\"lunes\",\"martes\",\"miércoles\",\"jueves\",\"viernes\",\"sábado\",\"domingo\"), ordered=T)\n",
    "summary(usos_espac)\n",
    "str(usos_espac)"
   ]
  },
  {
   "cell_type": "code",
   "execution_count": 161,
   "metadata": {},
   "outputs": [
    {
     "data": {
      "text/plain": [
       "   gesell         auxiliar        sistemas       mesas_trab     \n",
       " Mode :logical   Mode :logical   Mode :logical   Mode :logical  \n",
       " FALSE:23899     FALSE:24399     FALSE:26556     FALSE:20176    \n",
       " TRUE :5765      TRUE :5265      TRUE :3108      TRUE :9488     \n",
       " NA's :0         NA's :0         NA's :0         NA's :0        \n",
       "                                                                \n",
       "                                                                \n",
       " mesas_trab_fr    \n",
       " Min.   : 0.0000  \n",
       " 1st Qu.: 0.0000  \n",
       " Median : 0.0000  \n",
       " Mean   : 0.9302  \n",
       " 3rd Qu.: 1.0000  \n",
       " Max.   :36.0000  "
      ]
     },
     "metadata": {},
     "output_type": "display_data"
    },
    {
     "name": "stdout",
     "output_type": "stream",
     "text": [
      "'data.frame':\t29664 obs. of  5 variables:\n",
      " $ gesell       : logi  FALSE FALSE FALSE FALSE FALSE FALSE ...\n",
      " $ auxiliar     : logi  FALSE FALSE FALSE FALSE FALSE FALSE ...\n",
      " $ sistemas     : logi  FALSE FALSE FALSE FALSE FALSE FALSE ...\n",
      " $ mesas_trab   : logi  FALSE FALSE FALSE FALSE FALSE FALSE ...\n",
      " $ mesas_trab_fr: num  0 0 0 0 0 0 0 0 0 0 ...\n"
     ]
    }
   ],
   "source": [
    "festivos=strptime(c(\"7/08/2017\",\n",
    "           \"21/08/2017\",\n",
    "           \"16/10/2017\",\n",
    "           \"6/11/2017\",\n",
    "           \"13/11/2017\",\n",
    "           \"19/03/2018\",\n",
    "           \"26/03/2018\",\n",
    "           \"27/03/2018\",\n",
    "           \"28/03/2018\",\n",
    "           \"29/03/2018\",\n",
    "           \"30/03/2018\",\n",
    "           \"31/03/2018\",\n",
    "           \"1/05/2018\",\n",
    "           \"14/05/2018\"),\"%d/%m/%Y\")\n",
    "\n",
    "dma_pr_lab=strptime(format(fechas, \"%F\"), \"%F\")\n",
    "\n",
    "usos_espac=usos_espac[!(dma_pr_lab%in%festivos),]\n",
    "\n",
    "fechas=strptime(rownames(usos_espac),\"%F %T\")\n",
    "hora_pr_lab=format(fechas, \"%H:%M\")\n",
    "dia_pr_lab=weekdays(fechas)\n",
    "dia_pr_lab=factor(dia_pr_lab, levels=c(\"lunes\",\"martes\",\"miércoles\",\"jueves\",\"viernes\",\"sábado\",\"domingo\"), ordered=T)\n",
    "summary(usos_espac)\n",
    "str(usos_espac)"
   ]
  },
  {
   "cell_type": "code",
   "execution_count": 162,
   "metadata": {},
   "outputs": [
    {
     "data": {
      "text/plain": [
       "\n",
       "    FALSE      TRUE \n",
       "0.8056567 0.1943433 "
      ]
     },
     "metadata": {},
     "output_type": "display_data"
    },
    {
     "data": {
      "text/plain": [
       "\n",
       "    FALSE      TRUE \n",
       "0.8225121 0.1774879 "
      ]
     },
     "metadata": {},
     "output_type": "display_data"
    },
    {
     "data": {
      "text/plain": [
       "\n",
       "    FALSE      TRUE \n",
       "0.8952265 0.1047735 "
      ]
     },
     "metadata": {},
     "output_type": "display_data"
    },
    {
     "data": {
      "text/plain": [
       "\n",
       "   FALSE     TRUE \n",
       "0.680151 0.319849 "
      ]
     },
     "metadata": {},
     "output_type": "display_data"
    }
   ],
   "source": [
    "prop.table(table(usos_espac$gesell))\n",
    "\n",
    "prop.table(table(usos_espac$auxiliar))\n",
    "\n",
    "prop.table(table(usos_espac$sistemas))\n",
    "\n",
    "prop.table(table(usos_espac$mesas_trab))"
   ]
  },
  {
   "cell_type": "code",
   "execution_count": 163,
   "metadata": {},
   "outputs": [],
   "source": [
    "hora_pr_lab_2=factor(format(fechas, \"%H\"))"
   ]
  },
  {
   "cell_type": "code",
   "execution_count": 164,
   "metadata": {},
   "outputs": [
    {
     "data": {
      "text/plain": [
       "             dia_pr_lab\n",
       "hora_pr_lab_2 lunes martes miércoles jueves viernes sábado domingo\n",
       "           07   300    372       384    384     384    384       0\n",
       "           08   300    372       384    384     384    384       0\n",
       "           09   300    372       384    384     384    384       0\n",
       "           10   300    372       384    384     384    384       0\n",
       "           11   300    372       384    384     384    384       0\n",
       "           12   300    372       384    384     384    384       0\n",
       "           13   300    372       384    384     384      0       0\n",
       "           14   300    372       384    384     384      0       0\n",
       "           15   300    372       384    384     384      0       0\n",
       "           16   300    372       384    384     384      0       0\n",
       "           17   300    372       384    384     384      0       0\n",
       "           18   300    372       384    384     384      0       0\n",
       "           19   300    372       384    384     384      0       0\n",
       "           20   300    372       384    384     384      0       0\n",
       "           21   300    372       384    384     384      0       0"
      ]
     },
     "metadata": {},
     "output_type": "display_data"
    }
   ],
   "source": [
    "tot_ocurr_hora=table(hora_pr_lab_2,dia_pr_lab)\n",
    "as.matrix(tot_ocurr_hora)"
   ]
  },
  {
   "cell_type": "code",
   "execution_count": 165,
   "metadata": {},
   "outputs": [],
   "source": [
    "uso_gesell   =table(hora_pr_lab_2[usos_espac$gesell],    dia_pr_lab[usos_espac$gesell])\n",
    "uso_auxiliar =table(hora_pr_lab_2[usos_espac$auxiliar],  dia_pr_lab[usos_espac$auxiliar])\n",
    "uso_sistemas =table(hora_pr_lab_2[usos_espac$sistemas],  dia_pr_lab[usos_espac$sistemas])\n",
    "uso_mesas    =table(hora_pr_lab_2[usos_espac$mesas_trab],dia_pr_lab[usos_espac$mesas_trab])"
   ]
  },
  {
   "cell_type": "code",
   "execution_count": 166,
   "metadata": {},
   "outputs": [],
   "source": [
    "uso_gesell_prop=uso_gesell/tot_ocurr_hora\n",
    "uso_auxiliar_prop=uso_auxiliar/tot_ocurr_hora\n",
    "uso_sistemas_prop=uso_sistemas/tot_ocurr_hora\n",
    "uso_mesas_prop=uso_mesas/tot_ocurr_hora"
   ]
  },
  {
   "cell_type": "code",
   "execution_count": 184,
   "metadata": {},
   "outputs": [
    {
     "data": {
      "text/plain": [
       "    \n",
       "          lunes     martes  miércoles     jueves    viernes     sábado domingo\n",
       "  07 0.20000000 0.45161290 0.18750000 0.21875000 0.23437500 0.34375000        \n",
       "  08 0.20000000 0.46774194 0.21875000 0.26562500 0.32812500 0.33854167        \n",
       "  09 0.08000000 0.25806452 0.22656250 0.26562500 0.25000000 0.26562500        \n",
       "  10 0.09000000 0.25806452 0.30468750 0.24218750 0.25000000 0.26562500        \n",
       "  11 0.22000000 0.27419355 0.20312500 0.23437500 0.21875000 0.17187500        \n",
       "  12 0.21000000 0.17741935 0.04687500 0.15625000 0.11718750 0.00000000        \n",
       "  13 0.04000000 0.00000000 0.00000000 0.00000000 0.00000000                   \n",
       "  14 0.04000000 0.03225806 0.00000000 0.12500000 0.03125000                   \n",
       "  15 0.04000000 0.03225806 0.00000000 0.10937500 0.03125000                   \n",
       "  16 0.08000000 0.03225806 0.00000000 0.03125000 0.00000000                   \n",
       "  17 0.04000000 0.04301075 0.03125000 0.06250000 0.01562500                   \n",
       "  18 0.04000000 0.34677419 0.39062500 0.41406250 0.13281250                   \n",
       "  19 0.19000000 0.47311828 0.50781250 0.53906250 0.21875000                   \n",
       "  20 0.36000000 0.33064516 0.48437500 0.40625000 0.40625000                   \n",
       "  21 0.30000000 0.12903226 0.27604167 0.25000000 0.32812500                   "
      ]
     },
     "metadata": {},
     "output_type": "display_data"
    },
    {
     "data": {
      "text/plain": [
       "    \n",
       "          lunes     martes  miércoles     jueves    viernes     sábado domingo\n",
       "  07 0.41000000 0.54838710 0.41406250 0.12500000 0.34375000 0.01562500        \n",
       "  08 0.44000000 0.58064516 0.50000000 0.12500000 0.39062500 0.09375000        \n",
       "  09 0.42000000 0.39516129 0.40625000 0.03125000 0.28906250 0.09375000        \n",
       "  10 0.68000000 0.29032258 0.28906250 0.07031250 0.20312500 0.09375000        \n",
       "  11 0.48000000 0.08064516 0.17187500 0.09375000 0.09375000 0.09375000        \n",
       "  12 0.08000000 0.00000000 0.03125000 0.04687500 0.03125000 0.03645833        \n",
       "  13 0.00000000 0.00000000 0.00000000 0.00000000 0.00000000                   \n",
       "  14 0.00000000 0.00000000 0.03125000 0.00000000 0.00000000                   \n",
       "  15 0.00000000 0.00000000 0.03125000 0.00000000 0.00000000                   \n",
       "  16 0.00000000 0.00000000 0.00000000 0.00000000 0.00000000                   \n",
       "  17 0.00000000 0.00000000 0.00000000 0.00000000 0.00000000                   \n",
       "  18 0.05000000 0.16935484 0.46875000 0.25781250 0.04687500                   \n",
       "  19 0.47000000 0.28225806 0.62500000 0.42187500 0.07812500                   \n",
       "  20 0.66000000 0.33333333 0.35937500 0.53125000 0.12500000                   \n",
       "  21 0.44000000 0.22580645 0.07812500 0.40625000 0.12500000                   "
      ]
     },
     "metadata": {},
     "output_type": "display_data"
    },
    {
     "data": {
      "text/plain": [
       "    \n",
       "         lunes    martes miércoles    jueves   viernes    sábado domingo\n",
       "  07 0.3200000 0.1854839 0.1250000 0.1562500 0.0625000 0.0000000        \n",
       "  08 0.3200000 0.3064516 0.1875000 0.1718750 0.0937500 0.0000000        \n",
       "  09 0.0800000 0.1774194 0.1562500 0.0703125 0.0546875 0.0000000        \n",
       "  10 0.0800000 0.1532258 0.2734375 0.0625000 0.0312500 0.0000000        \n",
       "  11 0.0400000 0.2258065 0.2500000 0.0625000 0.0156250 0.0000000        \n",
       "  12 0.0000000 0.1532258 0.1328125 0.0390625 0.0000000 0.0000000        \n",
       "  13 0.0000000 0.0000000 0.0312500 0.0000000 0.0000000                  \n",
       "  14 0.0000000 0.0000000 0.0312500 0.0000000 0.0000000                  \n",
       "  15 0.0000000 0.0000000 0.0312500 0.0000000 0.0000000                  \n",
       "  16 0.0000000 0.0000000 0.0312500 0.0000000 0.0312500                  \n",
       "  17 0.0000000 0.0000000 0.0312500 0.0000000 0.0312500                  \n",
       "  18 0.2900000 0.2419355 0.2187500 0.1406250 0.0703125                  \n",
       "  19 0.4300000 0.3629032 0.3125000 0.2265625 0.1015625                  \n",
       "  20 0.3800000 0.3709677 0.1796875 0.2656250 0.0781250                  \n",
       "  21 0.2400000 0.2500000 0.0625000 0.1875000 0.0312500                  "
      ]
     },
     "metadata": {},
     "output_type": "display_data"
    },
    {
     "data": {
      "text/plain": [
       "    \n",
       "          lunes     martes  miércoles     jueves    viernes     sábado domingo\n",
       "  07 0.04000000 0.13172043 0.07291667 0.04687500 0.04947917 0.03125000        \n",
       "  08 0.28666667 0.36290323 0.18489583 0.11197917 0.17187500 0.09895833        \n",
       "  09 0.36000000 0.41666667 0.47656250 0.50260417 0.46614583 0.24739583        \n",
       "  10 0.46666667 0.41935484 0.28385417 0.51041667 0.54427083 0.16145833        \n",
       "  11 0.48000000 0.44892473 0.34895833 0.58333333 0.45833333 0.08333333        \n",
       "  12 0.34666667 0.49462366 0.45052083 0.59114583 0.41666667 0.07291667        \n",
       "  13 0.14666667 0.18817204 0.11979167 0.25260417 0.13020833                   \n",
       "  14 0.44666667 0.46236559 0.24218750 0.44010417 0.35156250                   \n",
       "  15 0.39666667 0.42741935 0.34635417 0.45833333 0.20833333                   \n",
       "  16 0.38000000 0.40860215 0.26562500 0.39843750 0.26562500                   \n",
       "  17 0.56000000 0.41666667 0.36979167 0.32031250 0.48177083                   \n",
       "  18 0.72000000 0.40591398 0.37760417 0.38802083 0.48177083                   \n",
       "  19 0.55000000 0.31720430 0.33072917 0.38020833 0.50781250                   \n",
       "  20 0.36666667 0.23655914 0.38281250 0.24218750 0.29427083                   \n",
       "  21 0.10000000 0.06720430 0.06770833 0.07291667 0.11197917                   "
      ]
     },
     "metadata": {},
     "output_type": "display_data"
    }
   ],
   "source": [
    "uso_gesell_prop\n",
    "uso_auxiliar_prop\n",
    "uso_sistemas_prop\n",
    "uso_mesas_prop"
   ]
  },
  {
   "cell_type": "code",
   "execution_count": 167,
   "metadata": {},
   "outputs": [],
   "source": [
    "Gesell=round((uso_gesell/tot_ocurr_hora)*100,0)\n",
    "Auxiliar=round((uso_auxiliar/tot_ocurr_hora)*100,0)\n",
    "Sistemas=round((uso_sistemas/tot_ocurr_hora)*100,0)\n",
    "Mesas=round((uso_mesas/tot_ocurr_hora)*100,0)"
   ]
  },
  {
   "cell_type": "code",
   "execution_count": 168,
   "metadata": {},
   "outputs": [],
   "source": [
    "graf_uso=function(tabla_prop_usos, nom_espacio){\n",
    "    \n",
    "    uso_hr_dy_tbl_prl=t(tabla_prop_usos)\n",
    "    uso_hr_dy_tbl_prl=uso_hr_dy_tbl_prl[,order(colnames(uso_hr_dy_tbl_prl), decreasing=T)]\n",
    "    bl_colors_5=c(\"white\",colorRampPalette(c('#deebf7', '#08519c'))(100))#;X11();plot(1:length(bl_colors_4),rep(0, length(bl_colors_4)), col=bl_colors_4, pch=15, cex=1)\n",
    "\n",
    "\n",
    "    par(mai=c(1,1,1,.1))\n",
    "    image(\n",
    "        uso_hr_dy_tbl_prl, col=bl_colors_4,\n",
    "        xaxt = 'n',\tyaxt = 'n', main=\"Consultas y prácticas por dia y hora\",sub=nom_espacio\n",
    "    )\n",
    "    axis(\n",
    "        cex.axis=0.7,\n",
    "        labels=colnames(uso_hr_dy_tbl_prl),\n",
    "        side = 2,\n",
    "        at=seq(0,1,length.out = length(colnames(uso_hr_dy_tbl_prl)))\n",
    "    )\n",
    "    axis(\n",
    "        las=2,cex.axis=0.6,\n",
    "        labels=rownames(uso_hr_dy_tbl_prl),\n",
    "        side = 1,\n",
    "        at=seq(0,1,length.out = length(rownames(uso_hr_dy_tbl_prl)))\n",
    "    )\n",
    "    par(mai=c(1,1,1,1))\n",
    "    \n",
    "}"
   ]
  },
  {
   "cell_type": "code",
   "execution_count": 183,
   "metadata": {
    "scrolled": false
   },
   "outputs": [
    {
     "data": {
      "text/plain": [
       "    \n",
       "     lunes martes miércoles jueves viernes sábado domingo\n",
       "  07    20     45        19     22      23     34        \n",
       "  08    20     47        22     27      33     34        \n",
       "  09     8     26        23     27      25     27        \n",
       "  10     9     26        30     24      25     27        \n",
       "  11    22     27        20     23      22     17        \n",
       "  12    21     18         5     16      12      0        \n",
       "  13     4      0         0      0       0               \n",
       "  14     4      3         0     12       3               \n",
       "  15     4      3         0     11       3               \n",
       "  16     8      3         0      3       0               \n",
       "  17     4      4         3      6       2               \n",
       "  18     4     35        39     41      13               \n",
       "  19    19     47        51     54      22               \n",
       "  20    36     33        48     41      41               \n",
       "  21    30     13        28     25      33               "
      ]
     },
     "metadata": {},
     "output_type": "display_data"
    },
    {
     "data": {
      "text/plain": [
       "    \n",
       "     lunes martes miércoles jueves viernes sábado domingo\n",
       "  07    41     55        41     12      34      2        \n",
       "  08    44     58        50     12      39      9        \n",
       "  09    42     40        41      3      29      9        \n",
       "  10    68     29        29      7      20      9        \n",
       "  11    48      8        17      9       9      9        \n",
       "  12     8      0         3      5       3      4        \n",
       "  13     0      0         0      0       0               \n",
       "  14     0      0         3      0       0               \n",
       "  15     0      0         3      0       0               \n",
       "  16     0      0         0      0       0               \n",
       "  17     0      0         0      0       0               \n",
       "  18     5     17        47     26       5               \n",
       "  19    47     28        62     42       8               \n",
       "  20    66     33        36     53      12               \n",
       "  21    44     23         8     41      12               "
      ]
     },
     "metadata": {},
     "output_type": "display_data"
    },
    {
     "data": {
      "image/png": "[encoded data removed]",
      "text/plain": [
       "Plot with title \"Consultas y prácticas por dia y hora\""
      ]
     },
     "metadata": {},
     "output_type": "display_data"
    },
    {
     "data": {
      "text/plain": [
       "    \n",
       "     lunes martes miércoles jueves viernes sábado domingo\n",
       "  07    32     19        12     16       6      0        \n",
       "  08    32     31        19     17       9      0        \n",
       "  09     8     18        16      7       5      0        \n",
       "  10     8     15        27      6       3      0        \n",
       "  11     4     23        25      6       2      0        \n",
       "  12     0     15        13      4       0      0        \n",
       "  13     0      0         3      0       0               \n",
       "  14     0      0         3      0       0               \n",
       "  15     0      0         3      0       0               \n",
       "  16     0      0         3      0       3               \n",
       "  17     0      0         3      0       3               \n",
       "  18    29     24        22     14       7               \n",
       "  19    43     36        31     23      10               \n",
       "  20    38     37        18     27       8               \n",
       "  21    24     25         6     19       3               "
      ]
     },
     "metadata": {},
     "output_type": "display_data"
    },
    {
     "data": {
      "image/png": "[encoded data removed]",
      "text/plain": [
       "Plot with title \"Consultas y prácticas por dia y hora\""
      ]
     },
     "metadata": {},
     "output_type": "display_data"
    },
    {
     "data": {
      "text/plain": [
       "    \n",
       "     lunes martes miércoles jueves viernes sábado domingo\n",
       "  07     4     13         7      5       5      3        \n",
       "  08    29     36        18     11      17     10        \n",
       "  09    36     42        48     50      47     25        \n",
       "  10    47     42        28     51      54     16        \n",
       "  11    48     45        35     58      46      8        \n",
       "  12    35     49        45     59      42      7        \n",
       "  13    15     19        12     25      13               \n",
       "  14    45     46        24     44      35               \n",
       "  15    40     43        35     46      21               \n",
       "  16    38     41        27     40      27               \n",
       "  17    56     42        37     32      48               \n",
       "  18    72     41        38     39      48               \n",
       "  19    55     32        33     38      51               \n",
       "  20    37     24        38     24      29               \n",
       "  21    10      7         7      7      11               "
      ]
     },
     "metadata": {},
     "output_type": "display_data"
    },
    {
     "data": {
      "image/png": "[encoded data removed]",
      "text/plain": [
       "Plot with title \"Consultas y prácticas por dia y hora\""
      ]
     },
     "metadata": {},
     "output_type": "display_data"
    },
    {
     "data": {
      "image/png": "[encoded data removed]",
      "text/plain": [
       "Plot with title \"Consultas y prácticas por dia y hora\""
      ]
     },
     "metadata": {},
     "output_type": "display_data"
    }
   ],
   "source": [
    "Gesell\n",
    "graf_uso(gesell_100, \"Cámara de Gesell\")\n",
    "Auxiliar\n",
    "graf_uso(auxiliar_100, \"Salón Auxiliar\")\n",
    "Sistemas\n",
    "graf_uso(sistemas_100,\"Sala de sistemas\")\n",
    "Mesas\n",
    "graf_uso(mesas_100,\" Mesas de trabajo\")"
   ]
  },
  {
   "cell_type": "code",
   "execution_count": 178,
   "metadata": {},
   "outputs": [
    {
     "name": "stdout",
     "output_type": "stream",
     "text": [
      "'data.frame':\t29664 obs. of  9 variables:\n",
      " $ gesell       : logi  FALSE FALSE FALSE FALSE FALSE FALSE ...\n",
      " $ auxiliar     : logi  FALSE FALSE FALSE FALSE FALSE FALSE ...\n",
      " $ sistemas     : logi  FALSE FALSE FALSE FALSE FALSE FALSE ...\n",
      " $ mesas_trab   : logi  FALSE FALSE FALSE FALSE FALSE FALSE ...\n",
      " $ mesas_trab_fr: num  0 0 0 0 0 0 0 0 0 0 ...\n",
      " $ fechas       : POSIXct, format: \"2017-07-31 07:02:30\" \"2017-07-31 07:07:30\" ...\n",
      " $ hora_pr_lab  : Factor w/ 180 levels \"07:02\",\"07:07\",..: 1 2 3 4 5 6 7 8 9 10 ...\n",
      " $ dia_pr_lab   : Ord.factor w/ 7 levels \"lunes\"<\"martes\"<..: 1 1 1 1 1 1 1 1 1 1 ...\n",
      " $ hora_pr_lab_2: Factor w/ 15 levels \"07\",\"08\",\"09\",..: 1 1 1 1 1 1 1 1 1 1 ...\n"
     ]
    }
   ],
   "source": [
    "us_2=cbind(usos_espac,data.frame(fechas,hora_pr_lab,dia_pr_lab,hora_pr_lab_2))\n",
    "str(us_2)"
   ]
  },
  {
   "cell_type": "code",
   "execution_count": 181,
   "metadata": {},
   "outputs": [
    {
     "data": {
      "text/html": [
       "<table>\n",
       "<thead><tr><th></th><th scope=col>lunes</th><th scope=col>martes</th><th scope=col>miércoles</th><th scope=col>jueves</th><th scope=col>viernes</th><th scope=col>sábado</th><th scope=col>domingo</th></tr></thead>\n",
       "<tbody>\n",
       "\t<tr><th scope=row>07</th><td> 4</td><td>36</td><td> 9</td><td> 1</td><td> 3</td><td> 2</td><td>NA</td></tr>\n",
       "\t<tr><th scope=row>08</th><td>10</td><td>36</td><td> 9</td><td> 9</td><td> 8</td><td> 3</td><td>NA</td></tr>\n",
       "\t<tr><th scope=row>09</th><td>11</td><td>12</td><td> 9</td><td>16</td><td> 8</td><td> 7</td><td>NA</td></tr>\n",
       "\t<tr><th scope=row>10</th><td>13</td><td> 9</td><td>10</td><td>13</td><td>11</td><td>11</td><td>NA</td></tr>\n",
       "\t<tr><th scope=row>11</th><td>16</td><td>13</td><td>19</td><td>13</td><td>12</td><td>11</td><td>NA</td></tr>\n",
       "\t<tr><th scope=row>12</th><td>10</td><td>12</td><td>13</td><td>13</td><td>14</td><td> 2</td><td>NA</td></tr>\n",
       "\t<tr><th scope=row>13</th><td> 6</td><td>10</td><td> 5</td><td> 9</td><td>11</td><td>NA</td><td>NA</td></tr>\n",
       "\t<tr><th scope=row>14</th><td>12</td><td>12</td><td> 7</td><td>14</td><td>11</td><td>NA</td><td>NA</td></tr>\n",
       "\t<tr><th scope=row>15</th><td>11</td><td>10</td><td> 6</td><td>11</td><td> 5</td><td>NA</td><td>NA</td></tr>\n",
       "\t<tr><th scope=row>16</th><td> 4</td><td> 7</td><td> 4</td><td>11</td><td> 5</td><td>NA</td><td>NA</td></tr>\n",
       "\t<tr><th scope=row>17</th><td> 6</td><td> 5</td><td> 6</td><td>10</td><td> 5</td><td>NA</td><td>NA</td></tr>\n",
       "\t<tr><th scope=row>18</th><td> 8</td><td> 8</td><td> 7</td><td> 8</td><td> 7</td><td>NA</td><td>NA</td></tr>\n",
       "\t<tr><th scope=row>19</th><td>15</td><td> 6</td><td>11</td><td> 7</td><td> 8</td><td>NA</td><td>NA</td></tr>\n",
       "\t<tr><th scope=row>20</th><td> 4</td><td>12</td><td>12</td><td> 6</td><td> 5</td><td>NA</td><td>NA</td></tr>\n",
       "\t<tr><th scope=row>21</th><td> 2</td><td> 3</td><td>10</td><td> 2</td><td> 3</td><td>NA</td><td>NA</td></tr>\n",
       "</tbody>\n",
       "</table>\n"
      ],
      "text/latex": [
       "\\begin{tabular}{r|lllllll}\n",
       "  & lunes & martes & miércoles & jueves & viernes & sábado & domingo\\\\\n",
       "\\hline\n",
       "\t07 &  4 & 36 &  9 &  1 &  3 &  2 & NA\\\\\n",
       "\t08 & 10 & 36 &  9 &  9 &  8 &  3 & NA\\\\\n",
       "\t09 & 11 & 12 &  9 & 16 &  8 &  7 & NA\\\\\n",
       "\t10 & 13 &  9 & 10 & 13 & 11 & 11 & NA\\\\\n",
       "\t11 & 16 & 13 & 19 & 13 & 12 & 11 & NA\\\\\n",
       "\t12 & 10 & 12 & 13 & 13 & 14 &  2 & NA\\\\\n",
       "\t13 &  6 & 10 &  5 &  9 & 11 & NA & NA\\\\\n",
       "\t14 & 12 & 12 &  7 & 14 & 11 & NA & NA\\\\\n",
       "\t15 & 11 & 10 &  6 & 11 &  5 & NA & NA\\\\\n",
       "\t16 &  4 &  7 &  4 & 11 &  5 & NA & NA\\\\\n",
       "\t17 &  6 &  5 &  6 & 10 &  5 & NA & NA\\\\\n",
       "\t18 &  8 &  8 &  7 &  8 &  7 & NA & NA\\\\\n",
       "\t19 & 15 &  6 & 11 &  7 &  8 & NA & NA\\\\\n",
       "\t20 &  4 & 12 & 12 &  6 &  5 & NA & NA\\\\\n",
       "\t21 &  2 &  3 & 10 &  2 &  3 & NA & NA\\\\\n",
       "\\end{tabular}\n"
      ],
      "text/markdown": [
       "\n",
       "| <!--/--> | lunes | martes | miércoles | jueves | viernes | sábado | domingo | \n",
       "|---|---|---|---|---|---|---|---|---|---|---|---|---|---|---|\n",
       "| 07 |  4 | 36 |  9 |  1 |  3 |  2 | NA | \n",
       "| 08 | 10 | 36 |  9 |  9 |  8 |  3 | NA | \n",
       "| 09 | 11 | 12 |  9 | 16 |  8 |  7 | NA | \n",
       "| 10 | 13 |  9 | 10 | 13 | 11 | 11 | NA | \n",
       "| 11 | 16 | 13 | 19 | 13 | 12 | 11 | NA | \n",
       "| 12 | 10 | 12 | 13 | 13 | 14 |  2 | NA | \n",
       "| 13 |  6 | 10 |  5 |  9 | 11 | NA | NA | \n",
       "| 14 | 12 | 12 |  7 | 14 | 11 | NA | NA | \n",
       "| 15 | 11 | 10 |  6 | 11 |  5 | NA | NA | \n",
       "| 16 |  4 |  7 |  4 | 11 |  5 | NA | NA | \n",
       "| 17 |  6 |  5 |  6 | 10 |  5 | NA | NA | \n",
       "| 18 |  8 |  8 |  7 |  8 |  7 | NA | NA | \n",
       "| 19 | 15 |  6 | 11 |  7 |  8 | NA | NA | \n",
       "| 20 |  4 | 12 | 12 |  6 |  5 | NA | NA | \n",
       "| 21 |  2 |  3 | 10 |  2 |  3 | NA | NA | \n",
       "\n",
       "\n"
      ],
      "text/plain": [
       "   lunes martes miércoles jueves viernes sábado domingo\n",
       "07  4    36      9         1      3       2     NA     \n",
       "08 10    36      9         9      8       3     NA     \n",
       "09 11    12      9        16      8       7     NA     \n",
       "10 13     9     10        13     11      11     NA     \n",
       "11 16    13     19        13     12      11     NA     \n",
       "12 10    12     13        13     14       2     NA     \n",
       "13  6    10      5         9     11      NA     NA     \n",
       "14 12    12      7        14     11      NA     NA     \n",
       "15 11    10      6        11      5      NA     NA     \n",
       "16  4     7      4        11      5      NA     NA     \n",
       "17  6     5      6        10      5      NA     NA     \n",
       "18  8     8      7         8      7      NA     NA     \n",
       "19 15     6     11         7      8      NA     NA     \n",
       "20  4    12     12         6      5      NA     NA     \n",
       "21  2     3     10         2      3      NA     NA     "
      ]
     },
     "metadata": {},
     "output_type": "display_data"
    }
   ],
   "source": [
    "with(us_2, tapply(mesas_trab_fr, list(hora_pr_lab_2, dia_pr_lab), FUN=max))"
   ]
  },
  {
   "cell_type": "code",
   "execution_count": 182,
   "metadata": {},
   "outputs": [
    {
     "data": {
      "text/html": [
       "<table>\n",
       "<thead><tr><th></th><th scope=col>lunes</th><th scope=col>martes</th><th scope=col>miércoles</th><th scope=col>jueves</th><th scope=col>viernes</th><th scope=col>sábado</th><th scope=col>domingo</th></tr></thead>\n",
       "<tbody>\n",
       "\t<tr><th scope=row>07</th><td>0.07333333</td><td>0.7956989 </td><td>0.2239583 </td><td>0.0468750 </td><td>0.08072917</td><td>0.06250000</td><td>NA        </td></tr>\n",
       "\t<tr><th scope=row>08</th><td>0.66666667</td><td>1.4274194 </td><td>0.5026042 </td><td>0.2968750 </td><td>0.37500000</td><td>0.17968750</td><td>NA        </td></tr>\n",
       "\t<tr><th scope=row>09</th><td>1.28333333</td><td>1.6344086 </td><td>1.5937500 </td><td>2.6197917 </td><td>1.31250000</td><td>0.57031250</td><td>NA        </td></tr>\n",
       "\t<tr><th scope=row>10</th><td>2.01333333</td><td>1.2956989 </td><td>0.7421875 </td><td>1.8802083 </td><td>1.80468750</td><td>0.37500000</td><td>NA        </td></tr>\n",
       "\t<tr><th scope=row>11</th><td>1.79666667</td><td>1.3494624 </td><td>1.1041667 </td><td>2.6354167 </td><td>1.79166667</td><td>0.28125000</td><td>NA        </td></tr>\n",
       "\t<tr><th scope=row>12</th><td>1.11666667</td><td>1.6424731 </td><td>1.1015625 </td><td>2.4765625 </td><td>1.24479167</td><td>0.08072917</td><td>NA        </td></tr>\n",
       "\t<tr><th scope=row>13</th><td>0.30333333</td><td>0.5349462 </td><td>0.3098958 </td><td>0.7916667 </td><td>0.35156250</td><td>        NA</td><td>NA        </td></tr>\n",
       "\t<tr><th scope=row>14</th><td>1.42666667</td><td>1.6962366 </td><td>0.6979167 </td><td>1.8281250 </td><td>0.85937500</td><td>        NA</td><td>NA        </td></tr>\n",
       "\t<tr><th scope=row>15</th><td>1.15333333</td><td>1.1075269 </td><td>0.7968750 </td><td>1.5026042 </td><td>0.37239583</td><td>        NA</td><td>NA        </td></tr>\n",
       "\t<tr><th scope=row>16</th><td>0.72000000</td><td>0.7795699 </td><td>0.3828125 </td><td>1.1067708 </td><td>0.40885417</td><td>        NA</td><td>NA        </td></tr>\n",
       "\t<tr><th scope=row>17</th><td>1.27333333</td><td>0.7903226 </td><td>0.7083333 </td><td>0.8541667 </td><td>0.82552083</td><td>        NA</td><td>NA        </td></tr>\n",
       "\t<tr><th scope=row>18</th><td>1.95666667</td><td>1.0376344 </td><td>0.8463542 </td><td>0.7786458 </td><td>1.45052083</td><td>        NA</td><td>NA        </td></tr>\n",
       "\t<tr><th scope=row>19</th><td>1.62666667</td><td>0.6048387 </td><td>1.0000000 </td><td>1.0625000 </td><td>1.18229167</td><td>        NA</td><td>NA        </td></tr>\n",
       "\t<tr><th scope=row>20</th><td>0.61000000</td><td>0.8575269 </td><td>1.0234375 </td><td>0.5390625 </td><td>0.61458333</td><td>        NA</td><td>NA        </td></tr>\n",
       "\t<tr><th scope=row>21</th><td>0.15000000</td><td>0.1075269 </td><td>0.1458333 </td><td>0.0781250 </td><td>0.15364583</td><td>        NA</td><td>NA        </td></tr>\n",
       "</tbody>\n",
       "</table>\n"
      ],
      "text/latex": [
       "\\begin{tabular}{r|lllllll}\n",
       "  & lunes & martes & miércoles & jueves & viernes & sábado & domingo\\\\\n",
       "\\hline\n",
       "\t07 & 0.07333333 & 0.7956989  & 0.2239583  & 0.0468750  & 0.08072917 & 0.06250000 & NA        \\\\\n",
       "\t08 & 0.66666667 & 1.4274194  & 0.5026042  & 0.2968750  & 0.37500000 & 0.17968750 & NA        \\\\\n",
       "\t09 & 1.28333333 & 1.6344086  & 1.5937500  & 2.6197917  & 1.31250000 & 0.57031250 & NA        \\\\\n",
       "\t10 & 2.01333333 & 1.2956989  & 0.7421875  & 1.8802083  & 1.80468750 & 0.37500000 & NA        \\\\\n",
       "\t11 & 1.79666667 & 1.3494624  & 1.1041667  & 2.6354167  & 1.79166667 & 0.28125000 & NA        \\\\\n",
       "\t12 & 1.11666667 & 1.6424731  & 1.1015625  & 2.4765625  & 1.24479167 & 0.08072917 & NA        \\\\\n",
       "\t13 & 0.30333333 & 0.5349462  & 0.3098958  & 0.7916667  & 0.35156250 &         NA & NA        \\\\\n",
       "\t14 & 1.42666667 & 1.6962366  & 0.6979167  & 1.8281250  & 0.85937500 &         NA & NA        \\\\\n",
       "\t15 & 1.15333333 & 1.1075269  & 0.7968750  & 1.5026042  & 0.37239583 &         NA & NA        \\\\\n",
       "\t16 & 0.72000000 & 0.7795699  & 0.3828125  & 1.1067708  & 0.40885417 &         NA & NA        \\\\\n",
       "\t17 & 1.27333333 & 0.7903226  & 0.7083333  & 0.8541667  & 0.82552083 &         NA & NA        \\\\\n",
       "\t18 & 1.95666667 & 1.0376344  & 0.8463542  & 0.7786458  & 1.45052083 &         NA & NA        \\\\\n",
       "\t19 & 1.62666667 & 0.6048387  & 1.0000000  & 1.0625000  & 1.18229167 &         NA & NA        \\\\\n",
       "\t20 & 0.61000000 & 0.8575269  & 1.0234375  & 0.5390625  & 0.61458333 &         NA & NA        \\\\\n",
       "\t21 & 0.15000000 & 0.1075269  & 0.1458333  & 0.0781250  & 0.15364583 &         NA & NA        \\\\\n",
       "\\end{tabular}\n"
      ],
      "text/markdown": [
       "\n",
       "| <!--/--> | lunes | martes | miércoles | jueves | viernes | sábado | domingo | \n",
       "|---|---|---|---|---|---|---|---|---|---|---|---|---|---|---|\n",
       "| 07 | 0.07333333 | 0.7956989  | 0.2239583  | 0.0468750  | 0.08072917 | 0.06250000 | NA         | \n",
       "| 08 | 0.66666667 | 1.4274194  | 0.5026042  | 0.2968750  | 0.37500000 | 0.17968750 | NA         | \n",
       "| 09 | 1.28333333 | 1.6344086  | 1.5937500  | 2.6197917  | 1.31250000 | 0.57031250 | NA         | \n",
       "| 10 | 2.01333333 | 1.2956989  | 0.7421875  | 1.8802083  | 1.80468750 | 0.37500000 | NA         | \n",
       "| 11 | 1.79666667 | 1.3494624  | 1.1041667  | 2.6354167  | 1.79166667 | 0.28125000 | NA         | \n",
       "| 12 | 1.11666667 | 1.6424731  | 1.1015625  | 2.4765625  | 1.24479167 | 0.08072917 | NA         | \n",
       "| 13 | 0.30333333 | 0.5349462  | 0.3098958  | 0.7916667  | 0.35156250 |         NA | NA         | \n",
       "| 14 | 1.42666667 | 1.6962366  | 0.6979167  | 1.8281250  | 0.85937500 |         NA | NA         | \n",
       "| 15 | 1.15333333 | 1.1075269  | 0.7968750  | 1.5026042  | 0.37239583 |         NA | NA         | \n",
       "| 16 | 0.72000000 | 0.7795699  | 0.3828125  | 1.1067708  | 0.40885417 |         NA | NA         | \n",
       "| 17 | 1.27333333 | 0.7903226  | 0.7083333  | 0.8541667  | 0.82552083 |         NA | NA         | \n",
       "| 18 | 1.95666667 | 1.0376344  | 0.8463542  | 0.7786458  | 1.45052083 |         NA | NA         | \n",
       "| 19 | 1.62666667 | 0.6048387  | 1.0000000  | 1.0625000  | 1.18229167 |         NA | NA         | \n",
       "| 20 | 0.61000000 | 0.8575269  | 1.0234375  | 0.5390625  | 0.61458333 |         NA | NA         | \n",
       "| 21 | 0.15000000 | 0.1075269  | 0.1458333  | 0.0781250  | 0.15364583 |         NA | NA         | \n",
       "\n",
       "\n"
      ],
      "text/plain": [
       "   lunes      martes    miércoles jueves    viernes    sábado     domingo\n",
       "07 0.07333333 0.7956989 0.2239583 0.0468750 0.08072917 0.06250000 NA     \n",
       "08 0.66666667 1.4274194 0.5026042 0.2968750 0.37500000 0.17968750 NA     \n",
       "09 1.28333333 1.6344086 1.5937500 2.6197917 1.31250000 0.57031250 NA     \n",
       "10 2.01333333 1.2956989 0.7421875 1.8802083 1.80468750 0.37500000 NA     \n",
       "11 1.79666667 1.3494624 1.1041667 2.6354167 1.79166667 0.28125000 NA     \n",
       "12 1.11666667 1.6424731 1.1015625 2.4765625 1.24479167 0.08072917 NA     \n",
       "13 0.30333333 0.5349462 0.3098958 0.7916667 0.35156250         NA NA     \n",
       "14 1.42666667 1.6962366 0.6979167 1.8281250 0.85937500         NA NA     \n",
       "15 1.15333333 1.1075269 0.7968750 1.5026042 0.37239583         NA NA     \n",
       "16 0.72000000 0.7795699 0.3828125 1.1067708 0.40885417         NA NA     \n",
       "17 1.27333333 0.7903226 0.7083333 0.8541667 0.82552083         NA NA     \n",
       "18 1.95666667 1.0376344 0.8463542 0.7786458 1.45052083         NA NA     \n",
       "19 1.62666667 0.6048387 1.0000000 1.0625000 1.18229167         NA NA     \n",
       "20 0.61000000 0.8575269 1.0234375 0.5390625 0.61458333         NA NA     \n",
       "21 0.15000000 0.1075269 0.1458333 0.0781250 0.15364583         NA NA     "
      ]
     },
     "metadata": {},
     "output_type": "display_data"
    }
   ],
   "source": [
    "with(us_2, tapply(mesas_trab_fr, list(hora_pr_lab_2, dia_pr_lab), FUN=mean))"
   ]
  }
 ],
 "metadata": {
  "kernelspec": {
   "display_name": "R",
   "language": "R",
   "name": "ir"
  },
  "language_info": {
   "codemirror_mode": "r",
   "file_extension": ".r",
   "mimetype": "text/x-r-source",
   "name": "R",
   "pygments_lexer": "r",
   "version": "3.3.2"
  }
 },
 "nbformat": 4,
 "nbformat_minor": 2
}
