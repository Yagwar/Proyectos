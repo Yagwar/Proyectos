{
 "cells": [
  {
   "cell_type": "markdown",
   "metadata": {},
   "source": [
    "Librerías"
   ]
  },
  {
   "cell_type": "code",
   "execution_count": 1,
   "metadata": {},
   "outputs": [],
   "source": [
    "library(RColorBrewer,ggplot2)\n",
    "library(reshape2,viridis)\n",
    "palette(colorRampPalette(brewer.pal(5,\"Set1\"))(9))\n",
    "#palette(brewer.pal(5,\"Set1\"))"
   ]
  },
  {
   "cell_type": "markdown",
   "metadata": {},
   "source": [
    "\n",
    "1. Crear registro de uso de espacios.\n",
    "\n",
    "Matriz de false por espacio y fecha para los periodos 2017-2 y 2018-1\n",
    "\n",
    "2. Cargar uso de espacios\n",
    "\n",
    "Cargar archivos de registro de uso de espacios \n",
    "- Prácticas de laboratorio\n",
    "\n",
    "- Práctica libre y tutorías\n",
    "\n",
    "    - La tutoría tiene una duración de 45 minutos\n",
    "    - La práctica libre dura 90 minutos.\n",
    "\n",
    "3. Asignar los registros a los espacios\n",
    "\n",
    "4. Filtrar los espacios en las horas "
   ]
  },
  {
   "cell_type": "code",
   "execution_count": 2,
   "metadata": {},
   "outputs": [],
   "source": [
    "#Asignar el uso del espacio al evento\n",
    "asig_pr_horario=function(reg_uso_spac,seq_tm_spac, pract_inic,pract_fin){\n",
    "#     reg_uso_spac: Secuencia True/False de registro de uso\n",
    "#     seq_tm_spac: Vector fecha-hora del registro\n",
    "#     pract_inic: registro de fecha-hora de inicio\n",
    "#     pract_fin: registro de fecha-hora de final de la actividad\n",
    "    reg_uso_spac[seq_tm_spac>pract_inic&seq_tm_spac<pract_fin]=TRUE\n",
    "    return (reg_uso_spac)\n",
    "}"
   ]
  },
  {
   "cell_type": "code",
   "execution_count": 3,
   "metadata": {},
   "outputs": [
    {
     "name": "stdout",
     "output_type": "stream",
     "text": [
      " [1] FALSE FALSE FALSE FALSE FALSE FALSE FALSE FALSE FALSE FALSE FALSE FALSE\n",
      "[13] FALSE FALSE FALSE FALSE FALSE FALSE FALSE FALSE FALSE FALSE FALSE FALSE\n",
      "[25] FALSE FALSE FALSE FALSE FALSE FALSE FALSE FALSE FALSE FALSE FALSE FALSE\n",
      "[37] FALSE FALSE\n",
      " [1] FALSE  TRUE  TRUE  TRUE  TRUE  TRUE  TRUE  TRUE  TRUE  TRUE  TRUE  TRUE\n",
      "[13]  TRUE  TRUE  TRUE  TRUE  TRUE  TRUE  TRUE  TRUE  TRUE  TRUE FALSE FALSE\n",
      "[25] FALSE FALSE FALSE FALSE FALSE FALSE FALSE FALSE FALSE FALSE FALSE FALSE\n",
      "[37] FALSE FALSE\n",
      " [1] FALSE  TRUE  TRUE  TRUE  TRUE  TRUE  TRUE  TRUE  TRUE  TRUE  TRUE  TRUE\n",
      "[13]  TRUE  TRUE  TRUE  TRUE  TRUE  TRUE  TRUE  TRUE  TRUE  TRUE  TRUE  TRUE\n",
      "[25]  TRUE  TRUE  TRUE  TRUE  TRUE  TRUE  TRUE  TRUE  TRUE  TRUE  TRUE  TRUE\n",
      "[37]  TRUE FALSE\n"
     ]
    }
   ],
   "source": [
    "## Validación asignador\n",
    "\n",
    "#evento 1 # inicio y final\n",
    "ev_1=c(strptime(\"07:00:00\", \"%H:%M:%S\"),strptime(\"08:45:00\", \"%H:%M:%S\"))\n",
    "\n",
    "#evento 2 # inicio y final\n",
    "ev_2=c(strptime(\"08:30:00\", \"%H:%M:%S\"),strptime(\"10:00:00\", \"%H:%M:%S\"))\n",
    "\n",
    "#secuencia de tiempo del espacio\n",
    "espac=seq(strptime(\"06:58:00\", \"%H:%M:%S\"),strptime(\"10:05:00\", \"%H:%M:%S\"), by=300)\n",
    "\n",
    "#Registro de uso del espacio\n",
    "uso=rep(FALSE, length(espac))\n",
    "print(uso)\n",
    "\n",
    "uso=(asig_pr_horario(uso,espac,ev_1[1],ev_1[2]))\n",
    "print(uso)\n",
    "uso=(asig_pr_horario(uso,espac,ev_2[1],ev_2[2]))\n",
    "print(uso)"
   ]
  },
  {
   "cell_type": "code",
   "execution_count": 4,
   "metadata": {},
   "outputs": [
    {
     "data": {
      "text/html": [
       "<table>\n",
       "<thead><tr><th></th><th scope=col>gesell</th><th scope=col>auxiliar</th><th scope=col>sistemas</th><th scope=col>mesas_trab</th></tr></thead>\n",
       "<tbody>\n",
       "\t<tr><th scope=row>2017-06-01 07:02:30</th><td>FALSE</td><td>FALSE</td><td>FALSE</td><td>FALSE</td></tr>\n",
       "\t<tr><th scope=row>2017-06-01 07:07:30</th><td>FALSE</td><td>FALSE</td><td>FALSE</td><td>FALSE</td></tr>\n",
       "\t<tr><th scope=row>2017-06-01 07:12:30</th><td>FALSE</td><td>FALSE</td><td>FALSE</td><td>FALSE</td></tr>\n",
       "\t<tr><th scope=row>2017-06-01 07:17:30</th><td>FALSE</td><td>FALSE</td><td>FALSE</td><td>FALSE</td></tr>\n",
       "\t<tr><th scope=row>2017-06-01 07:22:30</th><td>FALSE</td><td>FALSE</td><td>FALSE</td><td>FALSE</td></tr>\n",
       "\t<tr><th scope=row>2017-06-01 07:27:30</th><td>FALSE</td><td>FALSE</td><td>FALSE</td><td>FALSE</td></tr>\n",
       "</tbody>\n",
       "</table>\n"
      ],
      "text/latex": [
       "\\begin{tabular}{r|llll}\n",
       "  & gesell & auxiliar & sistemas & mesas\\_trab\\\\\n",
       "\\hline\n",
       "\t2017-06-01 07:02:30 & FALSE & FALSE & FALSE & FALSE\\\\\n",
       "\t2017-06-01 07:07:30 & FALSE & FALSE & FALSE & FALSE\\\\\n",
       "\t2017-06-01 07:12:30 & FALSE & FALSE & FALSE & FALSE\\\\\n",
       "\t2017-06-01 07:17:30 & FALSE & FALSE & FALSE & FALSE\\\\\n",
       "\t2017-06-01 07:22:30 & FALSE & FALSE & FALSE & FALSE\\\\\n",
       "\t2017-06-01 07:27:30 & FALSE & FALSE & FALSE & FALSE\\\\\n",
       "\\end{tabular}\n"
      ],
      "text/markdown": [
       "\n",
       "| <!--/--> | gesell | auxiliar | sistemas | mesas_trab | \n",
       "|---|---|---|---|---|---|\n",
       "| 2017-06-01 07:02:30 | FALSE | FALSE | FALSE | FALSE | \n",
       "| 2017-06-01 07:07:30 | FALSE | FALSE | FALSE | FALSE | \n",
       "| 2017-06-01 07:12:30 | FALSE | FALSE | FALSE | FALSE | \n",
       "| 2017-06-01 07:17:30 | FALSE | FALSE | FALSE | FALSE | \n",
       "| 2017-06-01 07:22:30 | FALSE | FALSE | FALSE | FALSE | \n",
       "| 2017-06-01 07:27:30 | FALSE | FALSE | FALSE | FALSE | \n",
       "\n",
       "\n"
      ],
      "text/plain": [
       "                    gesell auxiliar sistemas mesas_trab\n",
       "2017-06-01 07:02:30 FALSE  FALSE    FALSE    FALSE     \n",
       "2017-06-01 07:07:30 FALSE  FALSE    FALSE    FALSE     \n",
       "2017-06-01 07:12:30 FALSE  FALSE    FALSE    FALSE     \n",
       "2017-06-01 07:17:30 FALSE  FALSE    FALSE    FALSE     \n",
       "2017-06-01 07:22:30 FALSE  FALSE    FALSE    FALSE     \n",
       "2017-06-01 07:27:30 FALSE  FALSE    FALSE    FALSE     "
      ]
     },
     "metadata": {},
     "output_type": "display_data"
    }
   ],
   "source": [
    "fechas=seq(strptime(\"2017-06-01 07:02:30\", \"%F %T\"),strptime(\"2018-06-30 22:57:30\", \"%F %T\"), by=300)\n",
    "usos_espac=data.frame(gesell=rep(FALSE, length(fechas)),\n",
    "                      auxiliar=rep(FALSE, length(fechas)),\n",
    "                      sistemas=rep(FALSE, length(fechas)),\n",
    "                      mesas_trab=rep(FALSE, length(fechas)),\n",
    "                     row.names=fechas)\n",
    "\n",
    "head(usos_espac)"
   ]
  },
  {
   "cell_type": "code",
   "execution_count": 5,
   "metadata": {},
   "outputs": [
    {
     "name": "stdout",
     "output_type": "stream",
     "text": [
      "'data.frame':\t3270 obs. of  9 variables:\n",
      " $ No.                : int  4 5 6 72 71 73 74 75 76 212 ...\n",
      " $ NOMBRES.Y.APELLIDOS: Factor w/ 1336 levels \"Adriana Carrasquilla\",..: 970 755 689 1137 574 1110 564 538 235 712 ...\n",
      " $ SEMESTRE           : Factor w/ 12 levels \"\",\"1\",\"10\",\"2\",..: 9 8 8 7 7 7 7 6 6 9 ...\n",
      " $ FECHA              : Factor w/ 185 levels \"1/03/2018\",\"1/09/2017\",..: 170 170 170 171 178 178 178 25 25 93 ...\n",
      " $ HORA               : Factor w/ 598 levels \"\",\"10:00:00\",..: 55 55 55 20 20 20 20 516 516 247 ...\n",
      " $ MOTIVO.SOLICITUD   : Factor w/ 6 levels \"Consulta\",\"Ingreso\",..: 3 3 3 5 5 5 5 5 5 5 ...\n",
      " $ MATERIAL           : Factor w/ 136 levels \"\",\"16 PF\",\"16 PF-5\",..: 1 1 1 92 92 92 92 11 11 6 ...\n",
      " $ ASIGNATURA         : Factor w/ 53 levels \"\",\"ADMON EMPRESAS\",..: 1 1 1 27 33 32 27 30 30 7 ...\n",
      " $ Periodo.acad       : Factor w/ 3 levels \"2017_1\",\"2017_3\",..: 1 1 1 1 1 1 1 1 1 1 ...\n"
     ]
    }
   ],
   "source": [
    "dat_prl_cons=read.csv2(\"pr_lib_cons_171_181.csv\");str(dat_prl_cons)\n",
    "fch_prl=strptime(paste(dat_prl_cons$FECHA,dat_prl_cons$HORA), \"%d/%m/%Y %H:%M\")"
   ]
  },
  {
   "cell_type": "code",
   "execution_count": 6,
   "metadata": {},
   "outputs": [
    {
     "data": {
      "text/plain": [
       "\n",
       " FALSE   TRUE \n",
       "104002   9662 "
      ]
     },
     "metadata": {},
     "output_type": "display_data"
    }
   ],
   "source": [
    "for (i in 1:length(fch_prl)){\n",
    "    usos_espac$mesas_trab=asig_pr_horario(usos_espac$mesas_trab,fechas,fch_prl[i],fch_prl[i]+(60*45))\n",
    "}\n",
    "table(usos_espac$mesas_trab)"
   ]
  },
  {
   "cell_type": "code",
   "execution_count": 7,
   "metadata": {},
   "outputs": [
    {
     "name": "stdout",
     "output_type": "stream",
     "text": [
      "'data.frame':\t564 obs. of  9 variables:\n",
      " $ Nom_Doc        : Factor w/ 41 levels \"Adolfo Valderrama\",..: 25 6 28 24 28 12 21 1 15 22 ...\n",
      " $ Asignatura     : Factor w/ 30 levels \"Aprendizaje y cognición: modelos cognitivos\",..: 23 1 3 23 3 6 6 21 19 6 ...\n",
      " $ Semestre       : Factor w/ 11 levels \"1\",\"10\",\"2\",\"3\",..: 5 5 3 1 3 4 4 3 5 4 ...\n",
      " $ Num_.Grupo     : Factor w/ 62 levels \"0\",\"101\",\"102\",..: 31 32 9 3 16 25 19 10 29 26 ...\n",
      " $ Num_estudiantes: Factor w/ 43 levels \"07:00 - 09:15\",..: 22 20 25 35 28 9 28 21 28 30 ...\n",
      " $ Fecha_pr       : Factor w/ 149 levels \"1/03/2018\",\"1/11/2017\",..: 5 27 27 27 27 27 34 34 34 34 ...\n",
      " $ h_inic         : Factor w/ 26 levels \"10:00\",\"10:30\",..: 6 19 1 4 14 15 19 22 3 12 ...\n",
      " $ h_fin          : Factor w/ 37 levels \"10:00\",\"10:15\",..: 15 35 9 11 32 32 35 35 12 26 ...\n",
      " $ espacio        : Factor w/ 3 levels \"auxiliar\",\"gesell\",..: 2 2 1 2 1 2 2 3 2 2 ...\n"
     ]
    }
   ],
   "source": [
    "dat_pr_lab=read.csv2(\"reg_pr_labs.csv\");str(dat_pr_lab)\n",
    "pr_inic=strptime(paste(dat_pr_lab$Fecha_pr,dat_pr_lab$h_inic), \"%d/%m/%Y %H:%M\")\n",
    "pr_fin=strptime(paste(dat_pr_lab$Fecha_pr,dat_pr_lab$h_fin), \"%d/%m/%Y %H:%M\")"
   ]
  },
  {
   "cell_type": "code",
   "execution_count": 8,
   "metadata": {},
   "outputs": [],
   "source": [
    "for (i in 1:length(dat_pr_lab$espacio[dat_pr_lab$espacio==\"gesell\"])){\n",
    "    usos_espac$gesell=asig_pr_horario(usos_espac$gesell,\n",
    "                                      fechas,\n",
    "                                      pr_inic[dat_pr_lab$espacio==\"gesell\"][i],\n",
    "                                      pr_fin[dat_pr_lab$espacio==\"gesell\"][i])\n",
    "}\n",
    "\n",
    "for (i in 1:length(dat_pr_lab$espacio[dat_pr_lab$espacio==\"auxiliar\"])){\n",
    "    usos_espac$auxiliar=asig_pr_horario(usos_espac$auxiliar,\n",
    "                                      fechas,\n",
    "                                      pr_inic[dat_pr_lab$espacio==\"auxiliar\"][i],\n",
    "                                      pr_fin[dat_pr_lab$espacio==\"auxiliar\"][i])\n",
    "}\n",
    "\n",
    "for (i in 1:length(dat_pr_lab$espacio[dat_pr_lab$espacio==\"sistemas\"])){\n",
    "    usos_espac$sistemas=asig_pr_horario(usos_espac$sistemas,\n",
    "                                      fechas,\n",
    "                                      pr_inic[dat_pr_lab$espacio==\"sistemas\"][i],\n",
    "                                      pr_fin[dat_pr_lab$espacio==\"sistemas\"][i])\n",
    "}\n"
   ]
  },
  {
   "cell_type": "code",
   "execution_count": 9,
   "metadata": {},
   "outputs": [
    {
     "data": {
      "text/plain": [
       "   gesell         auxiliar        sistemas       mesas_trab     \n",
       " Mode :logical   Mode :logical   Mode :logical   Mode :logical  \n",
       " FALSE:107863    FALSE:108267    FALSE:110556    FALSE:104002   \n",
       " TRUE :5801      TRUE :5397      TRUE :3108      TRUE :9662     \n",
       " NA's :0         NA's :0         NA's :0         NA's :0        "
      ]
     },
     "metadata": {},
     "output_type": "display_data"
    }
   ],
   "source": [
    "summary(usos_espac)"
   ]
  },
  {
   "cell_type": "markdown",
   "metadata": {},
   "source": [
    "Eliminar los días que no son del calendario académico del semestre"
   ]
  },
  {
   "cell_type": "code",
   "execution_count": 10,
   "metadata": {},
   "outputs": [],
   "source": [
    "inic_2017_2=strptime(\"2017-07-31 07:00:00\",\"%F %T\")\n",
    "fin_2017_2=strptime(\"2017-11-18 13:00:00\",\"%F %T\")\n",
    "\n",
    "inic_2018_1=strptime(\"2018-02-05 07:00:00\",\"%F %T\")\n",
    "fin_2018_1=strptime(\"2018-06-02 13:00:00\",\"%F %T\")"
   ]
  },
  {
   "cell_type": "code",
   "execution_count": 11,
   "metadata": {},
   "outputs": [
    {
     "data": {
      "text/plain": [
       "   gesell         auxiliar        sistemas       mesas_trab     \n",
       " Mode :logical   Mode :logical   Mode :logical   Mode :logical  \n",
       " FALSE:59755     FALSE:60216     FALSE:62412     FALSE:55915    \n",
       " TRUE :5765      TRUE :5304      TRUE :3108      TRUE :9605     \n",
       " NA's :0         NA's :0         NA's :0         NA's :0        "
      ]
     },
     "metadata": {},
     "output_type": "display_data"
    }
   ],
   "source": [
    "usos_espac=usos_espac[(fechas>inic_2017_2&fechas<fin_2017_2)|(fechas>inic_2018_1&fechas<fin_2018_1),]\n",
    "fechas=strptime(rownames(usos_espac),\"%F %T\")\n",
    "summary(usos_espac)"
   ]
  },
  {
   "cell_type": "markdown",
   "metadata": {},
   "source": [
    "Eliminar:\n",
    "\n",
    "Las horas fuera del horario de práctica (antes de 7:00 a.m. y después de 10:00 p.m.)\n",
    "\n",
    "Los domingos \n",
    "\n",
    "Los sábados después de la 1\n",
    "\n",
    "Festivos"
   ]
  },
  {
   "cell_type": "code",
   "execution_count": 12,
   "metadata": {},
   "outputs": [
    {
     "data": {
      "text/plain": [
       "   gesell         auxiliar        sistemas       mesas_trab     \n",
       " Mode :logical   Mode :logical   Mode :logical   Mode :logical  \n",
       " FALSE:35239     FALSE:35700     FALSE:37896     FALSE:31415    \n",
       " TRUE :5765      TRUE :5304      TRUE :3108      TRUE :9589     \n",
       " NA's :0         NA's :0         NA's :0         NA's :0        "
      ]
     },
     "metadata": {},
     "output_type": "display_data"
    }
   ],
   "source": [
    "hora_pr_lab=format(fechas, \"%H:%M\")\n",
    "usos_espac=usos_espac[strptime(hora_pr_lab,\"%H:%M\")>strptime(\"07:00\",\"%H:%M\")&\n",
    "                      strptime(hora_pr_lab,\"%H:%M\")<strptime(\"22:00\",\"%H:%M\"),]\n",
    "fechas=strptime(rownames(usos_espac),\"%F %T\")\n",
    "hora_pr_lab=format(fechas, \"%H:%M\")\n",
    "summary(usos_espac)"
   ]
  },
  {
   "cell_type": "code",
   "execution_count": 13,
   "metadata": {},
   "outputs": [
    {
     "data": {
      "text/plain": [
       "   gesell         auxiliar        sistemas       mesas_trab     \n",
       " Mode :logical   Mode :logical   Mode :logical   Mode :logical  \n",
       " FALSE:29659     FALSE:30147     FALSE:32316     FALSE:25889    \n",
       " TRUE :5765      TRUE :5277      TRUE :3108      TRUE :9535     \n",
       " NA's :0         NA's :0         NA's :0         NA's :0        "
      ]
     },
     "metadata": {},
     "output_type": "display_data"
    }
   ],
   "source": [
    "dia_pr_lab=weekdays(fechas)\n",
    "dia_pr_lab=factor(dia_pr_lab, levels=c(\"lunes\",\"martes\",\"miércoles\",\"jueves\",\"viernes\",\"sábado\",\"domingo\"), ordered=T)\n",
    "\n",
    "usos_espac=usos_espac[!dia_pr_lab==\"domingo\",]\n",
    "\n",
    "fechas=strptime(rownames(usos_espac),\"%F %T\")\n",
    "hora_pr_lab=format(fechas, \"%H:%M\")\n",
    "dia_pr_lab=weekdays(fechas)\n",
    "dia_pr_lab=factor(dia_pr_lab, levels=c(\"lunes\",\"martes\",\"miércoles\",\"jueves\",\"viernes\",\"sábado\",\"domingo\"), ordered=T)\n",
    "summary(usos_espac)"
   ]
  },
  {
   "cell_type": "code",
   "execution_count": 14,
   "metadata": {},
   "outputs": [
    {
     "data": {
      "text/plain": [
       "   gesell         auxiliar        sistemas       mesas_trab     \n",
       " Mode :logical   Mode :logical   Mode :logical   Mode :logical  \n",
       " FALSE:26311     FALSE:26811     FALSE:28968     FALSE:22588    \n",
       " TRUE :5765      TRUE :5265      TRUE :3108      TRUE :9488     \n",
       " NA's :0         NA's :0         NA's :0         NA's :0        "
      ]
     },
     "metadata": {},
     "output_type": "display_data"
    },
    {
     "name": "stdout",
     "output_type": "stream",
     "text": [
      "'data.frame':\t32076 obs. of  4 variables:\n",
      " $ gesell    : logi  FALSE FALSE FALSE FALSE FALSE FALSE ...\n",
      " $ auxiliar  : logi  FALSE FALSE FALSE FALSE FALSE FALSE ...\n",
      " $ sistemas  : logi  FALSE FALSE FALSE FALSE FALSE FALSE ...\n",
      " $ mesas_trab: logi  FALSE FALSE FALSE FALSE FALSE FALSE ...\n"
     ]
    }
   ],
   "source": [
    "usos_espac=usos_espac[!(dia_pr_lab==\"sábado\"&strptime(hora_pr_lab,\"%H:%M\")>strptime(\"13:00\",\"%H:%M\")),]\n",
    "\n",
    "fechas=strptime(rownames(usos_espac),\"%F %T\")\n",
    "hora_pr_lab=format(fechas, \"%H:%M\")\n",
    "dia_pr_lab=weekdays(fechas)\n",
    "dia_pr_lab=factor(dia_pr_lab, levels=c(\"lunes\",\"martes\",\"miércoles\",\"jueves\",\"viernes\",\"sábado\",\"domingo\"), ordered=T)\n",
    "summary(usos_espac)\n",
    "str(usos_espac)"
   ]
  },
  {
   "cell_type": "code",
   "execution_count": 28,
   "metadata": {},
   "outputs": [
    {
     "data": {
      "text/plain": [
       " [1] \"2017-08-07 COT\" \"2017-08-21 COT\" \"2017-10-16 COT\" \"2017-11-06 COT\"\n",
       " [5] \"2017-11-13 COT\" \"2018-03-19 COT\" \"2018-03-26 COT\" \"2018-03-27 COT\"\n",
       " [9] \"2018-03-28 COT\" \"2018-03-29 COT\" \"2018-03-30 COT\" \"2018-03-31 COT\"\n",
       "[13] \"2018-05-01 COT\" \"2018-05-14 COT\""
      ]
     },
     "metadata": {},
     "output_type": "display_data"
    },
    {
     "data": {
      "text/plain": [
       "   gesell         auxiliar        sistemas       mesas_trab     \n",
       " Mode :logical   Mode :logical   Mode :logical   Mode :logical  \n",
       " FALSE:23899     FALSE:24399     FALSE:26556     FALSE:20176    \n",
       " TRUE :5765      TRUE :5265      TRUE :3108      TRUE :9488     \n",
       " NA's :0         NA's :0         NA's :0         NA's :0        "
      ]
     },
     "metadata": {},
     "output_type": "display_data"
    },
    {
     "name": "stdout",
     "output_type": "stream",
     "text": [
      "'data.frame':\t29664 obs. of  4 variables:\n",
      " $ gesell    : logi  FALSE FALSE FALSE FALSE FALSE FALSE ...\n",
      " $ auxiliar  : logi  FALSE FALSE FALSE FALSE FALSE FALSE ...\n",
      " $ sistemas  : logi  FALSE FALSE FALSE FALSE FALSE FALSE ...\n",
      " $ mesas_trab: logi  FALSE FALSE FALSE FALSE FALSE FALSE ...\n"
     ]
    }
   ],
   "source": [
    "festivos=strptime(c(\"7/08/2017\",\n",
    "           \"21/08/2017\",\n",
    "           \"16/10/2017\",\n",
    "           \"6/11/2017\",\n",
    "           \"13/11/2017\",\n",
    "           \"19/03/2018\",\n",
    "           \"26/03/2018\",\n",
    "           \"27/03/2018\",\n",
    "           \"28/03/2018\",\n",
    "           \"29/03/2018\",\n",
    "           \"30/03/2018\",\n",
    "           \"31/03/2018\",\n",
    "           \"1/05/2018\",\n",
    "           \"14/05/2018\"),\"%d/%m/%Y\")\n",
    "\n",
    "dma_pr_lab=strptime(format(fechas, \"%F\"), \"%F\")\n",
    "\n",
    "usos_espac=usos_espac[!(dma_pr_lab%in%festivos),]\n",
    "\n",
    "fechas=strptime(rownames(usos_espac),\"%F %T\")\n",
    "hora_pr_lab=format(fechas, \"%H:%M\")\n",
    "dia_pr_lab=weekdays(fechas)\n",
    "dia_pr_lab=factor(dia_pr_lab, levels=c(\"lunes\",\"martes\",\"miércoles\",\"jueves\",\"viernes\",\"sábado\",\"domingo\"), ordered=T)\n",
    "summary(usos_espac)\n",
    "str(usos_espac)"
   ]
  },
  {
   "cell_type": "code",
   "execution_count": 29,
   "metadata": {},
   "outputs": [
    {
     "data": {
      "text/plain": [
       "\n",
       "    FALSE      TRUE \n",
       "0.8056567 0.1943433 "
      ]
     },
     "metadata": {},
     "output_type": "display_data"
    },
    {
     "data": {
      "text/plain": [
       "\n",
       "    FALSE      TRUE \n",
       "0.8225121 0.1774879 "
      ]
     },
     "metadata": {},
     "output_type": "display_data"
    },
    {
     "data": {
      "text/plain": [
       "\n",
       "    FALSE      TRUE \n",
       "0.8952265 0.1047735 "
      ]
     },
     "metadata": {},
     "output_type": "display_data"
    },
    {
     "data": {
      "text/plain": [
       "\n",
       "   FALSE     TRUE \n",
       "0.680151 0.319849 "
      ]
     },
     "metadata": {},
     "output_type": "display_data"
    }
   ],
   "source": [
    "prop.table(table(usos_espac$gesell))\n",
    "\n",
    "prop.table(table(usos_espac$auxiliar))\n",
    "\n",
    "prop.table(table(usos_espac$sistemas))\n",
    "\n",
    "prop.table(table(usos_espac$mesas_trab))"
   ]
  }
 ],
 "metadata": {
  "kernelspec": {
   "display_name": "R",
   "language": "R",
   "name": "ir"
  },
  "language_info": {
   "codemirror_mode": "r",
   "file_extension": ".r",
   "mimetype": "text/x-r-source",
   "name": "R",
   "pygments_lexer": "r",
   "version": "3.3.2"
  }
 },
 "nbformat": 4,
 "nbformat_minor": 2
}
