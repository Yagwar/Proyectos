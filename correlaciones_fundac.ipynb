{
 "cells": [
  {
   "cell_type": "code",
   "execution_count": 1,
   "metadata": {},
   "outputs": [
    {
     "name": "stderr",
     "output_type": "stream",
     "text": [
      "Registered S3 methods overwritten by 'ggplot2':\n",
      "  method         from \n",
      "  [.quosures     rlang\n",
      "  c.quosures     rlang\n",
      "  print.quosures rlang\n"
     ]
    },
    {
     "data": {
      "text/html": [
       "'R version 3.6.1 (2019-07-05)'"
      ],
      "text/latex": [
       "'R version 3.6.1 (2019-07-05)'"
      ],
      "text/markdown": [
       "'R version 3.6.1 (2019-07-05)'"
      ],
      "text/plain": [
       "[1] \"R version 3.6.1 (2019-07-05)\""
      ]
     },
     "metadata": {},
     "output_type": "display_data"
    }
   ],
   "source": [
    "library(ggplot2)\n",
    "R.Version()$version.string"
   ]
  },
  {
   "cell_type": "code",
   "execution_count": 2,
   "metadata": {},
   "outputs": [],
   "source": [
    "correlaciones_categoricas= function(Variable_1, Variable_2,nombre_Variable_1=\"Var_1\", nombre_Variable_2=\"Var_2\", conting_tabl_visible=FALSE){\n",
    "    cont_table=table(Variable_1, Variable_2)\n",
    "    if(conting_tabl_visible){print(cont_table)}\n",
    "    ch_tst=chisq.test(cont_table)\n",
    "    fisher_tst=fisher.test(cont_table,simulate.p.value=TRUE,B=1e-5)\n",
    "    if (sum(ch_tst$expected<=5)>0){\n",
    "        fisher_signif=\"\"\n",
    "        if(as.numeric(fisher_tst$p.value)<0.05){\n",
    "            fisher_signif=\"Con una confianza del 95%, se encontró una relación estadísticamente significativa entre las variables. \"\n",
    "        }else{\n",
    "            fisher_signif=\"Con una confianza del 95%, no se encontró una relación estadísticamente significativa entre las variables. \"\n",
    "        }\n",
    "        salida=paste0(\"En lugar de la prueba chi cuadrado se realizó una prueba exacta de Fisher a dos colas para identificar la relación entre \",nombre_Variable_1,\" y \",nombre_Variable_2,\", ya que algunas celdas en la tabla de contingencias no cumplían el requisito de tener valores superiores a 5. \",\n",
    "                      fisher_signif,\n",
    "                      \"(p= \",round(as.numeric(fisher_tst$p.value),3),\", prueba exacta de Fisher).\")\n",
    "        valor_p=round(as.numeric(fisher_tst$p.value),3)\n",
    "    }else{\n",
    "        chi_signif=\"\"\n",
    "        if(as.numeric(ch_tst$p.value)<0.05){\n",
    "            chi_signif=\"Con una confianza del 95%, se encontró una relación estadísticamente significativa entre las variables. \"\n",
    "        }else{\n",
    "            chi_signif=\"Con una confianza del 95%, no se encontró una relación estadísticamente significativa entre las variables. \"\n",
    "        }\n",
    "        salida=paste0(\"Se realizó una prueba de Chi cuadrado para identificar la relación entre \",nombre_Variable_1,\" y \",nombre_Variable_2,\". \",\n",
    "                      chi_signif,\n",
    "                      \"X2 (gl=\",as.numeric(ch_tst$parameter),\", n=\",sum(cont_table),\") = \",round(as.numeric(ch_tst$statistic),2),\", p=\",round(as.numeric(ch_tst$p.value),3))\n",
    "        valor_p=round(as.numeric(ch_tst$p.value),3)\n",
    "    }\n",
    "    return (c(salida,valor_p))\n",
    "}\n",
    "\n",
    "correlaciones_num_cat= function(Variable_numerica, Variable_categorica, nombre_variable_categorica=\"**VARIABLE_CATEGORICA**\"){\n",
    "    if (length(levels(Variable_categorica))>2){\n",
    "        #ANOVA de una vía\n",
    "        aov_fit=aov(Variable_numerica ~ Variable_categorica)\n",
    "        smm_aov=summary(aov_fit)\n",
    "        aov_p=smm_aov[[1]][\"Variable_categorica\",'Pr(>F)']\n",
    "        aov_signif=\"\"\n",
    "        if(aov_p<0.05){\n",
    "            aov_signif=\"Con una confianza del 95%, se encontraron diferencias estadísticamente significativas de la edad entre los diferentes grupos. \"\n",
    "        }else{\n",
    "            aov_signif=\"Con una confianza del 95%, no se encontraron diferencias estadísticamente significativas de la edad entre los diferentes grupos. \"\n",
    "        }\n",
    "        salida=paste0(\"Se realizó una prueba de ANOVA de una vía para identificar diferencias de edad entre los grupos de \",nombre_variable_categorica,\" \",\n",
    "                      \"[F(\",smm_aov[[1]][1,\"Df\"],\",\",smm_aov[[1]][2,\"Df\"],\") = \",round(smm_aov[[1]][1,\"F value\"],2),\", p = \",round(aov_p,2),\"]. \",\n",
    "                      aov_signif)\n",
    "        valor_p=aov_p\n",
    "    }else{\n",
    "        # Biserial-Puntual (Pearson)\n",
    "        corr_test=cor.test(as.integer(Variable_categorica),Variable_numerica)\n",
    "        corr_test_p=corr_test$p.value\n",
    "        corr_test_df=as.numeric(test$parameter)\n",
    "        if(corr_test_p<0.0505){\n",
    "            corr_signif=\"Con una confianza del 95%, se encontró una correlación estadísticamente significativa \"\n",
    "        }else{\n",
    "            corr_signif=\"Con una confianza del 95%, no encontró una correlación estadísticamente significativa \"\n",
    "        }\n",
    "        salida=paste0(\"Se realizó una prueba de correlación biserial-puntual para identificar si existe relación entre la edad y \",nombre_variable_categorica,\". \",\n",
    "                      corr_signif,\"r(\",corr_test_df,\")= \",round(as.numeric(test$estimate),2),\", p= \",round(as.numeric(corr_test_p),2))\n",
    "        valor_p=corr_test_p\n",
    "    }\n",
    "    return (c(salida,valor_p))\n",
    "}\n",
    "\n"
   ]
  },
  {
   "cell_type": "code",
   "execution_count": 3,
   "metadata": {},
   "outputs": [],
   "source": [
    "datos=read.csv(\"20200306_datos.csv\", row.names=1)\n",
    "datos=datos[,2:length(colnames(datos))] ### Eliminar_Nombres(confidencialidad)\n",
    "datos=datos[datos$mmpi_valid>0,!colnames(datos)==\"mmpi_valid\"] ### Eliminar datos no válidos por MMPI y eliminar la columna de MMPI_validez"
   ]
  },
  {
   "cell_type": "code",
   "execution_count": 4,
   "metadata": {},
   "outputs": [
    {
     "data": {
      "text/html": [
       "<ol class=list-inline>\n",
       "\t<li>66</li>\n",
       "\t<li>32</li>\n",
       "</ol>\n"
      ],
      "text/latex": [
       "\\begin{enumerate*}\n",
       "\\item 66\n",
       "\\item 32\n",
       "\\end{enumerate*}\n"
      ],
      "text/markdown": [
       "1. 66\n",
       "2. 32\n",
       "\n",
       "\n"
      ],
      "text/plain": [
       "[1] 66 32"
      ]
     },
     "metadata": {},
     "output_type": "display_data"
    }
   ],
   "source": [
    "dim(datos)"
   ]
  },
  {
   "cell_type": "code",
   "execution_count": 5,
   "metadata": {},
   "outputs": [],
   "source": [
    "datos$demog_sexo = factor(datos$demog_sexo, levels = c(2,1), labels = c(\"Masculino\",\"Femenino\"))\n",
    "datos$demog_niv_educ = factor(datos$demog_niv_educ, levels = c(1,2,3,4,5,6,7,8,9), labels = c(\"PRIMARIA\",\"BACHILLER\",\"UNIVERSITARIO\",\"TECNICO\",\"TECNOLOGO\",\"PROFESIONAL\",\"ESPECIALIZACION\",\"MAESTRIA\",\"DOCTORADO\"))\n",
    "datos$sustancia_consumo = factor(datos$sustancia_consumo, levels = c(1,2,3,4), labels = c(\"ALCOHOL\",\"MARIHUANA\",\"COCAINA\",\"POLICONSUMO\"))\n",
    "datos$sustancia_tiempo_consumo = factor(datos$sustancia_tiempo_consumo, levels = c(1,2,3,4,5,6), labels = c(\"0-1 AÑO\",\"2-5 AÑOS\",\"6-10 AÑOS\",\"11-14 AÑOS\",\"15- 19 AÑOS\",\"20-\"))\n",
    "datos$moca_punt_cat = factor(datos$moca_punt_cat, levels = c(2,1), labels = c(\"NORMAL\",\"PROBABLE TC\"))\n",
    "datos$moca_VISUESPACIAL = factor(datos$moca_VISUESPACIAL, levels = c(1,0), labels = c(\"NORMAL\",\"PROBABLE TC\"))\n",
    "datos$moca_IDENTIFICACION = factor(datos$moca_IDENTIFICACION, levels = c(1,0), labels = c(\"NORMAL\",\"PROBABLE TC\"))\n",
    "datos$moca_MEMORIA = factor(datos$moca_MEMORIA, levels = c(1,0), labels = c(\"NORMAL\",\"PROBABLE TC\"))\n",
    "datos$moca_ATENCION = factor(datos$moca_ATENCION, levels = c(1,0), labels = c(\"NORMAL\",\"PROBABLE TC\"))\n",
    "datos$moca_LENGUAJE = factor(datos$moca_LENGUAJE, levels = c(1,0), labels = c(\"NORMAL\",\"PROBABLE TC\"))\n",
    "datos$moca_ABSTRACCION  = factor(datos$moca_ABSTRACCION , levels = c(1,0), labels = c(\"NORMAL\",\"PROBABLE TC\"))\n",
    "datos$moca_ORIENTACION = factor(datos$moca_ORIENTACION, levels = c(1,0), labels = c(\"NORMAL\",\"PROBABLE TC\"))\n",
    "datos$stroop_P_cat = factor(datos$stroop_P_cat, levels = c(1,2), labels = c(\"NORMAL\",\"ALTERADO\"))\n",
    "datos$stroop_C_cat = factor(datos$stroop_C_cat, levels = c(1,2), labels = c(\"NORMAL\",\"ALTERADO\"))\n",
    "datos$stroop_PC_cat = factor(datos$stroop_PC_cat, levels = c(1,2), labels = c(\"NORMAL\",\"ALTERADO\"))\n",
    "datos$stroop_I_cat = factor(datos$stroop_I_cat, levels = c(1,2), labels = c(\"NORMAL\",\"ALTERADO\"))\n",
    "datos$stroop_alterac = factor(datos$stroop_alterac, levels = c(1,2,3,4,5,6), labels = c(\"DAÑO CEREBRAL , DISLEXIA PURA\",\"LESION H IZQ O TIPO DIFUSO\",\"LESION H DER\",\"LES PRE FRONTAL AISLADA LADO IZQ O BILATERAL\",\"PACIENTE CON RASGOS PSIQUIATRICOS\",\"SIN ALTERACION\"))\n",
    "# datos$mmpi_valid = factor(datos$mmpi_valid, levels = c(1,0), labels = c(\"VALIDO\",\"NO VALIDO\"))\n",
    "datos$mmpi_hs_cat = factor(datos$mmpi_hs_cat, levels = c(1,0), labels = c(\"PATOLOGICO\",\"NO PATOLOGICO\"))\n",
    "datos$mmpi_d_cat = factor(datos$mmpi_d_cat, levels = c(1,0), labels = c(\"PATOLOGICO\",\"NO PATOLOGICO\"))\n",
    "datos$mmpi_hy_cat = factor(datos$mmpi_hy_cat, levels = c(1,0), labels = c(\"PATOLOGICO\",\"NO PATOLOGICO\"))\n",
    "datos$mmpi_pd_cat = factor(datos$mmpi_pd_cat, levels = c(1,0), labels = c(\"PATOLOGICO\",\"NO PATOLOGICO\"))\n",
    "datos$mmpi_mf_cat = factor(datos$mmpi_mf_cat, levels = c(1,0), labels = c(\"PATOLOGICO\",\"NO PATOLOGICO\"))\n",
    "datos$mmpi_pa_cat = factor(datos$mmpi_pa_cat, levels = c(1,0), labels = c(\"PATOLOGICO\",\"NO PATOLOGICO\"))\n",
    "datos$mmpi_pt_cat = factor(datos$mmpi_pt_cat, levels = c(1,0), labels = c(\"PATOLOGICO\",\"NO PATOLOGICO\"))\n",
    "datos$mmpi_sc_cat = factor(datos$mmpi_sc_cat, levels = c(1,0), labels = c(\"PATOLOGICO\",\"NO PATOLOGICO\"))\n",
    "datos$mmpi_ma_cat = factor(datos$mmpi_ma_cat, levels = c(1,0), labels = c(\"PATOLOGICO\",\"NO PATOLOGICO\"))\n",
    "datos$mmpi_si_cat = factor(datos$mmpi_si_cat, levels = c(1,0), labels = c(\"PATOLOGICO\",\"NO PATOLOGICO\"))\n",
    "datos$violencia_fis_cat = factor(datos$violencia_fis_cat, levels = c(1,0), labels = c(\"Si\",\"No\"))\n",
    "datos$violencia_sex_cat = factor(datos$violencia_sex_cat, levels = c(1,0), labels = c(\"Si\",\"No\"))\n",
    "datos$violencia_psico_cat = factor(datos$violencia_psico_cat, levels = c(1,0), labels = c(\"Si\",\"No\"))\n",
    "datos$violencia_sobrep_cat = factor(datos$violencia_sobrep_cat, levels = c(1,0), labels = c(\"Si\",\"No\"))"
   ]
  },
  {
   "cell_type": "code",
   "execution_count": 6,
   "metadata": {},
   "outputs": [
    {
     "name": "stdout",
     "output_type": "stream",
     "text": [
      "'data.frame':\t66 obs. of  32 variables:\n",
      " $ demog_edad              : int  63 20 36 52 23 30 23 23 30 30 ...\n",
      " $ demog_sexo              : Factor w/ 2 levels \"Masculino\",\"Femenino\": 1 1 2 1 1 1 1 1 1 1 ...\n",
      " $ demog_niv_educ          : Factor w/ 9 levels \"PRIMARIA\",\"BACHILLER\",..: 6 2 6 6 3 4 2 3 6 7 ...\n",
      " $ sustancia_consumo       : Factor w/ 4 levels \"ALCOHOL\",\"MARIHUANA\",..: 2 1 3 2 4 1 4 1 2 1 ...\n",
      " $ sustancia_tiempo_consumo: Factor w/ 6 levels \"0-1 AÑO\",\"2-5 AÑOS\",..: 6 3 3 6 3 5 3 3 3 4 ...\n",
      " $ moca_punt_cat           : Factor w/ 2 levels \"NORMAL\",\"PROBABLE TC\": 2 2 2 2 1 2 2 1 2 2 ...\n",
      " $ moca_VISUESPACIAL       : Factor w/ 2 levels \"NORMAL\",\"PROBABLE TC\": 1 2 2 2 1 1 2 1 2 2 ...\n",
      " $ moca_IDENTIFICACION     : Factor w/ 2 levels \"NORMAL\",\"PROBABLE TC\": 1 1 1 1 1 1 1 1 1 1 ...\n",
      " $ moca_MEMORIA            : Factor w/ 2 levels \"NORMAL\",\"PROBABLE TC\": 2 2 2 2 2 2 2 2 2 2 ...\n",
      " $ moca_ATENCION           : Factor w/ 2 levels \"NORMAL\",\"PROBABLE TC\": 2 2 2 1 1 2 2 1 2 1 ...\n",
      " $ moca_LENGUAJE           : Factor w/ 2 levels \"NORMAL\",\"PROBABLE TC\": 1 2 1 1 1 1 1 1 1 1 ...\n",
      " $ moca_ABSTRACCION        : Factor w/ 2 levels \"NORMAL\",\"PROBABLE TC\": 1 1 2 1 2 2 1 1 2 2 ...\n",
      " $ moca_ORIENTACION        : Factor w/ 2 levels \"NORMAL\",\"PROBABLE TC\": 1 1 1 1 1 1 1 1 2 1 ...\n",
      " $ stroop_P_cat            : Factor w/ 2 levels \"NORMAL\",\"ALTERADO\": 2 1 2 1 1 1 1 1 1 2 ...\n",
      " $ stroop_C_cat            : Factor w/ 2 levels \"NORMAL\",\"ALTERADO\": 1 2 2 2 1 1 2 1 1 2 ...\n",
      " $ stroop_PC_cat           : Factor w/ 2 levels \"NORMAL\",\"ALTERADO\": 2 1 2 2 1 1 2 1 1 2 ...\n",
      " $ stroop_I_cat            : Factor w/ 2 levels \"NORMAL\",\"ALTERADO\": 2 2 1 2 2 2 2 2 2 1 ...\n",
      " $ stroop_alterac          : Factor w/ 6 levels \"DAÑO CEREBRAL , DISLEXIA PURA\",..: 6 6 5 3 6 6 3 6 6 5 ...\n",
      " $ mmpi_hs_cat             : Factor w/ 2 levels \"PATOLOGICO\",\"NO PATOLOGICO\": 1 2 1 1 2 1 2 1 2 1 ...\n",
      " $ mmpi_d_cat              : Factor w/ 2 levels \"PATOLOGICO\",\"NO PATOLOGICO\": 1 2 1 2 2 1 1 1 2 2 ...\n",
      " $ mmpi_hy_cat             : Factor w/ 2 levels \"PATOLOGICO\",\"NO PATOLOGICO\": 2 1 1 2 2 1 1 1 1 1 ...\n",
      " $ mmpi_pd_cat             : Factor w/ 2 levels \"PATOLOGICO\",\"NO PATOLOGICO\": 1 1 1 2 1 1 2 1 1 1 ...\n",
      " $ mmpi_mf_cat             : Factor w/ 2 levels \"PATOLOGICO\",\"NO PATOLOGICO\": 2 1 1 2 1 2 2 2 1 1 ...\n",
      " $ mmpi_pa_cat             : Factor w/ 2 levels \"PATOLOGICO\",\"NO PATOLOGICO\": 1 1 2 1 2 1 1 1 1 1 ...\n",
      " $ mmpi_pt_cat             : Factor w/ 2 levels \"PATOLOGICO\",\"NO PATOLOGICO\": 1 1 2 2 1 1 1 1 1 1 ...\n",
      " $ mmpi_sc_cat             : Factor w/ 2 levels \"PATOLOGICO\",\"NO PATOLOGICO\": 1 1 1 2 1 1 1 1 1 1 ...\n",
      " $ mmpi_ma_cat             : Factor w/ 2 levels \"PATOLOGICO\",\"NO PATOLOGICO\": 1 1 1 2 1 1 1 1 1 1 ...\n",
      " $ mmpi_si_cat             : Factor w/ 2 levels \"PATOLOGICO\",\"NO PATOLOGICO\": 1 1 1 1 1 1 1 2 1 1 ...\n",
      " $ violencia_fis_cat       : Factor w/ 2 levels \"Si\",\"No\": 2 1 2 2 1 1 1 1 1 2 ...\n",
      " $ violencia_sex_cat       : Factor w/ 2 levels \"Si\",\"No\": 2 2 2 2 1 2 1 2 2 2 ...\n",
      " $ violencia_psico_cat     : Factor w/ 2 levels \"Si\",\"No\": 1 1 1 1 1 1 1 1 1 1 ...\n",
      " $ violencia_sobrep_cat    : Factor w/ 2 levels \"Si\",\"No\": 1 2 1 1 1 1 1 1 1 1 ...\n"
     ]
    }
   ],
   "source": [
    "str(datos)"
   ]
  },
  {
   "cell_type": "code",
   "execution_count": 7,
   "metadata": {},
   "outputs": [
    {
     "data": {
      "text/html": [
       "<table>\n",
       "<thead><tr><th></th><th scope=col>tipo_var</th></tr></thead>\n",
       "<tbody>\n",
       "\t<tr><th scope=row>demog_edad</th><td>integer</td></tr>\n",
       "\t<tr><th scope=row>demog_sexo</th><td>factor </td></tr>\n",
       "\t<tr><th scope=row>demog_niv_educ</th><td>factor </td></tr>\n",
       "\t<tr><th scope=row>sustancia_consumo</th><td>factor </td></tr>\n",
       "\t<tr><th scope=row>sustancia_tiempo_consumo</th><td>factor </td></tr>\n",
       "\t<tr><th scope=row>moca_punt_cat</th><td>factor </td></tr>\n",
       "\t<tr><th scope=row>moca_VISUESPACIAL</th><td>factor </td></tr>\n",
       "\t<tr><th scope=row>moca_IDENTIFICACION</th><td>factor </td></tr>\n",
       "\t<tr><th scope=row>moca_MEMORIA</th><td>factor </td></tr>\n",
       "\t<tr><th scope=row>moca_ATENCION</th><td>factor </td></tr>\n",
       "\t<tr><th scope=row>moca_LENGUAJE</th><td>factor </td></tr>\n",
       "\t<tr><th scope=row>moca_ABSTRACCION</th><td>factor </td></tr>\n",
       "\t<tr><th scope=row>moca_ORIENTACION</th><td>factor </td></tr>\n",
       "\t<tr><th scope=row>stroop_P_cat</th><td>factor </td></tr>\n",
       "\t<tr><th scope=row>stroop_C_cat</th><td>factor </td></tr>\n",
       "\t<tr><th scope=row>stroop_PC_cat</th><td>factor </td></tr>\n",
       "\t<tr><th scope=row>stroop_I_cat</th><td>factor </td></tr>\n",
       "\t<tr><th scope=row>stroop_alterac</th><td>factor </td></tr>\n",
       "\t<tr><th scope=row>mmpi_hs_cat</th><td>factor </td></tr>\n",
       "\t<tr><th scope=row>mmpi_d_cat</th><td>factor </td></tr>\n",
       "\t<tr><th scope=row>mmpi_hy_cat</th><td>factor </td></tr>\n",
       "\t<tr><th scope=row>mmpi_pd_cat</th><td>factor </td></tr>\n",
       "\t<tr><th scope=row>mmpi_mf_cat</th><td>factor </td></tr>\n",
       "\t<tr><th scope=row>mmpi_pa_cat</th><td>factor </td></tr>\n",
       "\t<tr><th scope=row>mmpi_pt_cat</th><td>factor </td></tr>\n",
       "\t<tr><th scope=row>mmpi_sc_cat</th><td>factor </td></tr>\n",
       "\t<tr><th scope=row>mmpi_ma_cat</th><td>factor </td></tr>\n",
       "\t<tr><th scope=row>mmpi_si_cat</th><td>factor </td></tr>\n",
       "\t<tr><th scope=row>violencia_fis_cat</th><td>factor </td></tr>\n",
       "\t<tr><th scope=row>violencia_sex_cat</th><td>factor </td></tr>\n",
       "\t<tr><th scope=row>violencia_psico_cat</th><td>factor </td></tr>\n",
       "\t<tr><th scope=row>violencia_sobrep_cat</th><td>factor </td></tr>\n",
       "</tbody>\n",
       "</table>\n"
      ],
      "text/latex": [
       "\\begin{tabular}{r|l}\n",
       "  & tipo\\_var\\\\\n",
       "\\hline\n",
       "\tdemog\\_edad & integer\\\\\n",
       "\tdemog\\_sexo & factor \\\\\n",
       "\tdemog\\_niv\\_educ & factor \\\\\n",
       "\tsustancia\\_consumo & factor \\\\\n",
       "\tsustancia\\_tiempo\\_consumo & factor \\\\\n",
       "\tmoca\\_punt\\_cat & factor \\\\\n",
       "\tmoca\\_VISUESPACIAL & factor \\\\\n",
       "\tmoca\\_IDENTIFICACION & factor \\\\\n",
       "\tmoca\\_MEMORIA & factor \\\\\n",
       "\tmoca\\_ATENCION & factor \\\\\n",
       "\tmoca\\_LENGUAJE & factor \\\\\n",
       "\tmoca\\_ABSTRACCION & factor \\\\\n",
       "\tmoca\\_ORIENTACION & factor \\\\\n",
       "\tstroop\\_P\\_cat & factor \\\\\n",
       "\tstroop\\_C\\_cat & factor \\\\\n",
       "\tstroop\\_PC\\_cat & factor \\\\\n",
       "\tstroop\\_I\\_cat & factor \\\\\n",
       "\tstroop\\_alterac & factor \\\\\n",
       "\tmmpi\\_hs\\_cat & factor \\\\\n",
       "\tmmpi\\_d\\_cat & factor \\\\\n",
       "\tmmpi\\_hy\\_cat & factor \\\\\n",
       "\tmmpi\\_pd\\_cat & factor \\\\\n",
       "\tmmpi\\_mf\\_cat & factor \\\\\n",
       "\tmmpi\\_pa\\_cat & factor \\\\\n",
       "\tmmpi\\_pt\\_cat & factor \\\\\n",
       "\tmmpi\\_sc\\_cat & factor \\\\\n",
       "\tmmpi\\_ma\\_cat & factor \\\\\n",
       "\tmmpi\\_si\\_cat & factor \\\\\n",
       "\tviolencia\\_fis\\_cat & factor \\\\\n",
       "\tviolencia\\_sex\\_cat & factor \\\\\n",
       "\tviolencia\\_psico\\_cat & factor \\\\\n",
       "\tviolencia\\_sobrep\\_cat & factor \\\\\n",
       "\\end{tabular}\n"
      ],
      "text/markdown": [
       "\n",
       "| <!--/--> | tipo_var |\n",
       "|---|---|\n",
       "| demog_edad | integer |\n",
       "| demog_sexo | factor  |\n",
       "| demog_niv_educ | factor  |\n",
       "| sustancia_consumo | factor  |\n",
       "| sustancia_tiempo_consumo | factor  |\n",
       "| moca_punt_cat | factor  |\n",
       "| moca_VISUESPACIAL | factor  |\n",
       "| moca_IDENTIFICACION | factor  |\n",
       "| moca_MEMORIA | factor  |\n",
       "| moca_ATENCION | factor  |\n",
       "| moca_LENGUAJE | factor  |\n",
       "| moca_ABSTRACCION | factor  |\n",
       "| moca_ORIENTACION | factor  |\n",
       "| stroop_P_cat | factor  |\n",
       "| stroop_C_cat | factor  |\n",
       "| stroop_PC_cat | factor  |\n",
       "| stroop_I_cat | factor  |\n",
       "| stroop_alterac | factor  |\n",
       "| mmpi_hs_cat | factor  |\n",
       "| mmpi_d_cat | factor  |\n",
       "| mmpi_hy_cat | factor  |\n",
       "| mmpi_pd_cat | factor  |\n",
       "| mmpi_mf_cat | factor  |\n",
       "| mmpi_pa_cat | factor  |\n",
       "| mmpi_pt_cat | factor  |\n",
       "| mmpi_sc_cat | factor  |\n",
       "| mmpi_ma_cat | factor  |\n",
       "| mmpi_si_cat | factor  |\n",
       "| violencia_fis_cat | factor  |\n",
       "| violencia_sex_cat | factor  |\n",
       "| violencia_psico_cat | factor  |\n",
       "| violencia_sobrep_cat | factor  |\n",
       "\n"
      ],
      "text/plain": [
       "                         tipo_var\n",
       "demog_edad               integer \n",
       "demog_sexo               factor  \n",
       "demog_niv_educ           factor  \n",
       "sustancia_consumo        factor  \n",
       "sustancia_tiempo_consumo factor  \n",
       "moca_punt_cat            factor  \n",
       "moca_VISUESPACIAL        factor  \n",
       "moca_IDENTIFICACION      factor  \n",
       "moca_MEMORIA             factor  \n",
       "moca_ATENCION            factor  \n",
       "moca_LENGUAJE            factor  \n",
       "moca_ABSTRACCION         factor  \n",
       "moca_ORIENTACION         factor  \n",
       "stroop_P_cat             factor  \n",
       "stroop_C_cat             factor  \n",
       "stroop_PC_cat            factor  \n",
       "stroop_I_cat             factor  \n",
       "stroop_alterac           factor  \n",
       "mmpi_hs_cat              factor  \n",
       "mmpi_d_cat               factor  \n",
       "mmpi_hy_cat              factor  \n",
       "mmpi_pd_cat              factor  \n",
       "mmpi_mf_cat              factor  \n",
       "mmpi_pa_cat              factor  \n",
       "mmpi_pt_cat              factor  \n",
       "mmpi_sc_cat              factor  \n",
       "mmpi_ma_cat              factor  \n",
       "mmpi_si_cat              factor  \n",
       "violencia_fis_cat        factor  \n",
       "violencia_sex_cat        factor  \n",
       "violencia_psico_cat      factor  \n",
       "violencia_sobrep_cat     factor  "
      ]
     },
     "metadata": {},
     "output_type": "display_data"
    },
    {
     "data": {
      "text/html": [
       "31"
      ],
      "text/latex": [
       "31"
      ],
      "text/markdown": [
       "31"
      ],
      "text/plain": [
       "[1] 31"
      ]
     },
     "metadata": {},
     "output_type": "display_data"
    }
   ],
   "source": [
    "info_val=data.frame(unlist(sapply(datos, class)))\n",
    "colnames(info_val)=\"tipo_var\"\n",
    "info_val\n",
    "datos_categoricas=colnames(datos)[info_val$tipo_var==\"factor\"]\n",
    "length(datos_categoricas)"
   ]
  },
  {
   "cell_type": "markdown",
   "metadata": {},
   "source": [
    "# Variables de interés\n",
    "\n",
    "matrato físico, psicologico sexual, negligencia, sobreproteción.\n",
    "policonsumidores, alcoholicos, otras sustancias\n",
    "MMPI con todas\n",
    "Stroop\n",
    "\n",
    "* Eliminar las que tienen en LFK MMPI invalido las 3 escala de validez\n",
    "* Relación entre las 5 formas de violencia "
   ]
  },
  {
   "cell_type": "markdown",
   "metadata": {},
   "source": [
    "# Correlaciones "
   ]
  },
  {
   "cell_type": "markdown",
   "metadata": {},
   "source": [
    "## entre variables categóricas.\n",
    "Test de independencia estadística:\n",
    "* [Prueba Chi cuadrado](https://www.ncbi.nlm.nih.gov/pmc/articles/PMC3900058/)\n",
    "* [Prueba exacta de Fisher](http://www.biostathandbook.com/fishers.html)\n",
    "El test exacto de fisher se utiliza cuando no se cumplen los presupuestos del chi cuadrado."
   ]
  },
  {
   "cell_type": "code",
   "execution_count": 8,
   "metadata": {},
   "outputs": [
    {
     "name": "stdout",
     "output_type": "stream",
     "text": [
      "[1] \"Como producto de la combinación de las  31  variables categóricas, se evaluaron  465  hipótesis.\"\n"
     ]
    }
   ],
   "source": [
    "df_combin=data.frame(t(combn(datos_categoricas,2)))\n",
    "print(paste(\"Como producto de la combinación de las \",length(datos_categoricas),\" variables categóricas, se evaluaron \",nrow(df_combin),\" hipótesis.\"))"
   ]
  },
  {
   "cell_type": "code",
   "execution_count": 9,
   "metadata": {},
   "outputs": [
    {
     "name": "stderr",
     "output_type": "stream",
     "text": [
      "Warning message in chisq.test(cont_table):\n",
      "\"Chi-squared approximation may be incorrect\"Warning message in chisq.test(cont_table):\n",
      "\"Chi-squared approximation may be incorrect\"Warning message in chisq.test(cont_table):\n",
      "\"Chi-squared approximation may be incorrect\"Warning message in chisq.test(cont_table):\n",
      "\"Chi-squared approximation may be incorrect\"Warning message in chisq.test(cont_table):\n",
      "\"Chi-squared approximation may be incorrect\"Warning message in chisq.test(cont_table):\n",
      "\"Chi-squared approximation may be incorrect\"Warning message in chisq.test(cont_table):\n",
      "\"Chi-squared approximation may be incorrect\"Warning message in chisq.test(cont_table):\n",
      "\"Chi-squared approximation may be incorrect\"Warning message in chisq.test(cont_table):\n",
      "\"Chi-squared approximation may be incorrect\"Warning message in chisq.test(cont_table):\n",
      "\"Chi-squared approximation may be incorrect\"Warning message in chisq.test(cont_table):\n",
      "\"Chi-squared approximation may be incorrect\"Warning message in chisq.test(cont_table):\n",
      "\"Chi-squared approximation may be incorrect\"Warning message in chisq.test(cont_table):\n",
      "\"Chi-squared approximation may be incorrect\"Warning message in chisq.test(cont_table):\n",
      "\"Chi-squared approximation may be incorrect\"Warning message in chisq.test(cont_table):\n",
      "\"Chi-squared approximation may be incorrect\"Warning message in chisq.test(cont_table):\n",
      "\"Chi-squared approximation may be incorrect\"Warning message in chisq.test(cont_table):\n",
      "\"Chi-squared approximation may be incorrect\"Warning message in chisq.test(cont_table):\n",
      "\"Chi-squared approximation may be incorrect\"Warning message in chisq.test(cont_table):\n",
      "\"Chi-squared approximation may be incorrect\"Warning message in chisq.test(cont_table):\n",
      "\"Chi-squared approximation may be incorrect\"Warning message in chisq.test(cont_table):\n",
      "\"Chi-squared approximation may be incorrect\"Warning message in chisq.test(cont_table):\n",
      "\"Chi-squared approximation may be incorrect\"Warning message in chisq.test(cont_table):\n",
      "\"Chi-squared approximation may be incorrect\"Warning message in chisq.test(cont_table):\n",
      "\"Chi-squared approximation may be incorrect\"Warning message in chisq.test(cont_table):\n",
      "\"Chi-squared approximation may be incorrect\"Warning message in chisq.test(cont_table):\n",
      "\"Chi-squared approximation may be incorrect\"Warning message in chisq.test(cont_table):\n",
      "\"Chi-squared approximation may be incorrect\"Warning message in chisq.test(cont_table):\n",
      "\"Chi-squared approximation may be incorrect\"Warning message in chisq.test(cont_table):\n",
      "\"Chi-squared approximation may be incorrect\"Warning message in chisq.test(cont_table):\n",
      "\"Chi-squared approximation may be incorrect\"Warning message in chisq.test(cont_table):\n",
      "\"Chi-squared approximation may be incorrect\"Warning message in chisq.test(cont_table):\n",
      "\"Chi-squared approximation may be incorrect\"Warning message in chisq.test(cont_table):\n",
      "\"Chi-squared approximation may be incorrect\"Warning message in chisq.test(cont_table):\n",
      "\"Chi-squared approximation may be incorrect\"Warning message in chisq.test(cont_table):\n",
      "\"Chi-squared approximation may be incorrect\"Warning message in chisq.test(cont_table):\n",
      "\"Chi-squared approximation may be incorrect\"Warning message in chisq.test(cont_table):\n",
      "\"Chi-squared approximation may be incorrect\"Warning message in chisq.test(cont_table):\n",
      "\"Chi-squared approximation may be incorrect\"Warning message in chisq.test(cont_table):\n",
      "\"Chi-squared approximation may be incorrect\"Warning message in chisq.test(cont_table):\n",
      "\"Chi-squared approximation may be incorrect\"Warning message in chisq.test(cont_table):\n",
      "\"Chi-squared approximation may be incorrect\"Warning message in chisq.test(cont_table):\n",
      "\"Chi-squared approximation may be incorrect\"Warning message in chisq.test(cont_table):\n",
      "\"Chi-squared approximation may be incorrect\"Warning message in chisq.test(cont_table):\n",
      "\"Chi-squared approximation may be incorrect\"Warning message in chisq.test(cont_table):\n",
      "\"Chi-squared approximation may be incorrect\"Warning message in chisq.test(cont_table):\n",
      "\"Chi-squared approximation may be incorrect\"Warning message in chisq.test(cont_table):\n",
      "\"Chi-squared approximation may be incorrect\"Warning message in chisq.test(cont_table):\n",
      "\"Chi-squared approximation may be incorrect\"Warning message in chisq.test(cont_table):\n",
      "\"Chi-squared approximation may be incorrect\"Warning message in chisq.test(cont_table):\n",
      "\"Chi-squared approximation may be incorrect\"Warning message in chisq.test(cont_table):\n",
      "\"Chi-squared approximation may be incorrect\"Warning message in chisq.test(cont_table):\n",
      "\"Chi-squared approximation may be incorrect\"Warning message in chisq.test(cont_table):\n",
      "\"Chi-squared approximation may be incorrect\"Warning message in chisq.test(cont_table):\n",
      "\"Chi-squared approximation may be incorrect\"Warning message in chisq.test(cont_table):\n",
      "\"Chi-squared approximation may be incorrect\"Warning message in chisq.test(cont_table):\n",
      "\"Chi-squared approximation may be incorrect\"Warning message in chisq.test(cont_table):\n",
      "\"Chi-squared approximation may be incorrect\"Warning message in chisq.test(cont_table):\n",
      "\"Chi-squared approximation may be incorrect\"Warning message in chisq.test(cont_table):\n",
      "\"Chi-squared approximation may be incorrect\"Warning message in chisq.test(cont_table):\n",
      "\"Chi-squared approximation may be incorrect\"Warning message in chisq.test(cont_table):\n",
      "\"Chi-squared approximation may be incorrect\"Warning message in chisq.test(cont_table):\n",
      "\"Chi-squared approximation may be incorrect\"Warning message in chisq.test(cont_table):\n",
      "\"Chi-squared approximation may be incorrect\"Warning message in chisq.test(cont_table):\n",
      "\"Chi-squared approximation may be incorrect\"Warning message in chisq.test(cont_table):\n",
      "\"Chi-squared approximation may be incorrect\"Warning message in chisq.test(cont_table):\n",
      "\"Chi-squared approximation may be incorrect\"Warning message in chisq.test(cont_table):\n",
      "\"Chi-squared approximation may be incorrect\"Warning message in chisq.test(cont_table):\n",
      "\"Chi-squared approximation may be incorrect\"Warning message in chisq.test(cont_table):\n",
      "\"Chi-squared approximation may be incorrect\"Warning message in chisq.test(cont_table):\n",
      "\"Chi-squared approximation may be incorrect\"Warning message in chisq.test(cont_table):\n",
      "\"Chi-squared approximation may be incorrect\"Warning message in chisq.test(cont_table):\n",
      "\"Chi-squared approximation may be incorrect\"Warning message in chisq.test(cont_table):\n",
      "\"Chi-squared approximation may be incorrect\"Warning message in chisq.test(cont_table):\n",
      "\"Chi-squared approximation may be incorrect\"Warning message in chisq.test(cont_table):\n",
      "\"Chi-squared approximation may be incorrect\"Warning message in chisq.test(cont_table):\n",
      "\"Chi-squared approximation may be incorrect\"Warning message in chisq.test(cont_table):\n",
      "\"Chi-squared approximation may be incorrect\"Warning message in chisq.test(cont_table):\n",
      "\"Chi-squared approximation may be incorrect\"Warning message in chisq.test(cont_table):\n",
      "\"Chi-squared approximation may be incorrect\"Warning message in chisq.test(cont_table):\n",
      "\"Chi-squared approximation may be incorrect\"Warning message in chisq.test(cont_table):\n",
      "\"Chi-squared approximation may be incorrect\"Warning message in chisq.test(cont_table):\n",
      "\"Chi-squared approximation may be incorrect\"Warning message in chisq.test(cont_table):\n",
      "\"Chi-squared approximation may be incorrect\"Warning message in chisq.test(cont_table):\n",
      "\"Chi-squared approximation may be incorrect\"Warning message in chisq.test(cont_table):\n",
      "\"Chi-squared approximation may be incorrect\"Warning message in chisq.test(cont_table):\n",
      "\"Chi-squared approximation may be incorrect\"Warning message in chisq.test(cont_table):\n",
      "\"Chi-squared approximation may be incorrect\"Warning message in chisq.test(cont_table):\n",
      "\"Chi-squared approximation may be incorrect\"Warning message in chisq.test(cont_table):\n",
      "\"Chi-squared approximation may be incorrect\"Warning message in chisq.test(cont_table):\n",
      "\"Chi-squared approximation may be incorrect\"Warning message in chisq.test(cont_table):\n",
      "\"Chi-squared approximation may be incorrect\"Warning message in chisq.test(cont_table):\n",
      "\"Chi-squared approximation may be incorrect\"Warning message in chisq.test(cont_table):\n",
      "\"Chi-squared approximation may be incorrect\"Warning message in chisq.test(cont_table):\n",
      "\"Chi-squared approximation may be incorrect\"Warning message in chisq.test(cont_table):\n",
      "\"Chi-squared approximation may be incorrect\"Warning message in chisq.test(cont_table):\n",
      "\"Chi-squared approximation may be incorrect\"Warning message in chisq.test(cont_table):\n",
      "\"Chi-squared approximation may be incorrect\"Warning message in chisq.test(cont_table):\n",
      "\"Chi-squared approximation may be incorrect\"Warning message in chisq.test(cont_table):\n",
      "\"Chi-squared approximation may be incorrect\"Warning message in chisq.test(cont_table):\n",
      "\"Chi-squared approximation may be incorrect\"Warning message in chisq.test(cont_table):\n",
      "\"Chi-squared approximation may be incorrect\"Warning message in chisq.test(cont_table):\n",
      "\"Chi-squared approximation may be incorrect\"Warning message in chisq.test(cont_table):\n",
      "\"Chi-squared approximation may be incorrect\"Warning message in chisq.test(cont_table):\n",
      "\"Chi-squared approximation may be incorrect\""
     ]
    },
    {
     "name": "stdout",
     "output_type": "stream",
     "text": [
      "[1] \"Combinación: 115  || VARIABLES: moca_punt_cat moca_VISUESPACIAL\"\n",
      "[1] \"Se realizó una prueba de Chi cuadrado para identificar la relación entre moca_punt_cat y moca_VISUESPACIAL. Con una confianza del 95%, se encontró una relación estadísticamente significativa entre las variables. X2 (gl=1, n=66) = 6.29, p=0.012\"\n",
      "[1] \"********************************************\"\n"
     ]
    },
    {
     "name": "stderr",
     "output_type": "stream",
     "text": [
      "Warning message in chisq.test(cont_table):\n",
      "\"Chi-squared approximation may be incorrect\"Warning message in chisq.test(cont_table):\n",
      "\"Chi-squared approximation may be incorrect\""
     ]
    },
    {
     "name": "stdout",
     "output_type": "stream",
     "text": [
      "[1] \"Combinación: 118  || VARIABLES: moca_punt_cat moca_ATENCION\"\n",
      "[1] \"Se realizó una prueba de Chi cuadrado para identificar la relación entre moca_punt_cat y moca_ATENCION. Con una confianza del 95%, se encontró una relación estadísticamente significativa entre las variables. X2 (gl=1, n=66) = 15.93, p=0\"\n",
      "[1] \"********************************************\"\n"
     ]
    },
    {
     "name": "stderr",
     "output_type": "stream",
     "text": [
      "Warning message in chisq.test(cont_table):\n",
      "\"Chi-squared approximation may be incorrect\""
     ]
    },
    {
     "name": "stdout",
     "output_type": "stream",
     "text": [
      "[1] \"Combinación: 120  || VARIABLES: moca_punt_cat moca_ABSTRACCION\"\n",
      "[1] \"Se realizó una prueba de Chi cuadrado para identificar la relación entre moca_punt_cat y moca_ABSTRACCION. Con una confianza del 95%, se encontró una relación estadísticamente significativa entre las variables. X2 (gl=1, n=66) = 5.66, p=0.017\"\n",
      "[1] \"********************************************\"\n"
     ]
    },
    {
     "name": "stderr",
     "output_type": "stream",
     "text": [
      "Warning message in chisq.test(cont_table):\n",
      "\"Chi-squared approximation may be incorrect\"Warning message in chisq.test(cont_table):\n",
      "\"Chi-squared approximation may be incorrect\"Warning message in chisq.test(cont_table):\n",
      "\"Chi-squared approximation may be incorrect\"Warning message in chisq.test(cont_table):\n",
      "\"Chi-squared approximation may be incorrect\"Warning message in chisq.test(cont_table):\n",
      "\"Chi-squared approximation may be incorrect\""
     ]
    },
    {
     "name": "stdout",
     "output_type": "stream",
     "text": [
      "[1] \"Combinación: 131  || VARIABLES: moca_punt_cat mmpi_mf_cat\"\n",
      "[1] \"Se realizó una prueba de Chi cuadrado para identificar la relación entre moca_punt_cat y mmpi_mf_cat. Con una confianza del 95%, se encontró una relación estadísticamente significativa entre las variables. X2 (gl=1, n=66) = 5.47, p=0.019\"\n",
      "[1] \"********************************************\"\n"
     ]
    },
    {
     "name": "stderr",
     "output_type": "stream",
     "text": [
      "Warning message in chisq.test(cont_table):\n",
      "\"Chi-squared approximation may be incorrect\""
     ]
    },
    {
     "name": "stdout",
     "output_type": "stream",
     "text": [
      "[1] \"Combinación: 132  || VARIABLES: moca_punt_cat mmpi_pa_cat\"\n",
      "[1] \"En lugar de la prueba chi cuadrado se realizó una prueba exacta de Fisher a dos colas para identificar la relación entre moca_punt_cat y mmpi_pa_cat, ya que algunas celdas en la tabla de contingencias no cumplían el requisito de tener valores superiores a 5. Con una confianza del 95%, se encontró una relación estadísticamente significativa entre las variables. (p= 0.019, prueba exacta de Fisher).\"\n",
      "[1] \"********************************************\"\n"
     ]
    },
    {
     "name": "stderr",
     "output_type": "stream",
     "text": [
      "Warning message in chisq.test(cont_table):\n",
      "\"Chi-squared approximation may be incorrect\""
     ]
    },
    {
     "name": "stdout",
     "output_type": "stream",
     "text": [
      "[1] \"Combinación: 133  || VARIABLES: moca_punt_cat mmpi_pt_cat\"\n",
      "[1] \"En lugar de la prueba chi cuadrado se realizó una prueba exacta de Fisher a dos colas para identificar la relación entre moca_punt_cat y mmpi_pt_cat, ya que algunas celdas en la tabla de contingencias no cumplían el requisito de tener valores superiores a 5. Con una confianza del 95%, se encontró una relación estadísticamente significativa entre las variables. (p= 0.027, prueba exacta de Fisher).\"\n",
      "[1] \"********************************************\"\n"
     ]
    },
    {
     "name": "stderr",
     "output_type": "stream",
     "text": [
      "Warning message in chisq.test(cont_table):\n",
      "\"Chi-squared approximation may be incorrect\"Warning message in chisq.test(cont_table):\n",
      "\"Chi-squared approximation may be incorrect\"Warning message in chisq.test(cont_table):\n",
      "\"Chi-squared approximation may be incorrect\""
     ]
    },
    {
     "name": "stdout",
     "output_type": "stream",
     "text": [
      "[1] \"Combinación: 137  || VARIABLES: moca_punt_cat violencia_fis_cat\"\n",
      "[1] \"Se realizó una prueba de Chi cuadrado para identificar la relación entre moca_punt_cat y violencia_fis_cat. Con una confianza del 95%, se encontró una relación estadísticamente significativa entre las variables. X2 (gl=1, n=66) = 10.48, p=0.001\"\n",
      "[1] \"********************************************\"\n"
     ]
    },
    {
     "name": "stderr",
     "output_type": "stream",
     "text": [
      "Warning message in chisq.test(cont_table):\n",
      "\"Chi-squared approximation may be incorrect\""
     ]
    },
    {
     "name": "stdout",
     "output_type": "stream",
     "text": [
      "[1] \"Combinación: 138  || VARIABLES: moca_punt_cat violencia_sex_cat\"\n",
      "[1] \"En lugar de la prueba chi cuadrado se realizó una prueba exacta de Fisher a dos colas para identificar la relación entre moca_punt_cat y violencia_sex_cat, ya que algunas celdas en la tabla de contingencias no cumplían el requisito de tener valores superiores a 5. Con una confianza del 95%, se encontró una relación estadísticamente significativa entre las variables. (p= 0.014, prueba exacta de Fisher).\"\n",
      "[1] \"********************************************\"\n"
     ]
    },
    {
     "name": "stderr",
     "output_type": "stream",
     "text": [
      "Warning message in chisq.test(cont_table):\n",
      "\"Chi-squared approximation may be incorrect\"Warning message in chisq.test(cont_table):\n",
      "\"Chi-squared approximation may be incorrect\"Warning message in chisq.test(cont_table):\n",
      "\"Chi-squared approximation may be incorrect\"Warning message in chisq.test(cont_table):\n",
      "\"Chi-squared approximation may be incorrect\"Warning message in chisq.test(cont_table):\n",
      "\"Chi-squared approximation may be incorrect\""
     ]
    },
    {
     "name": "stdout",
     "output_type": "stream",
     "text": [
      "[1] \"Combinación: 144  || VARIABLES: moca_VISUESPACIAL moca_LENGUAJE\"\n",
      "[1] \"En lugar de la prueba chi cuadrado se realizó una prueba exacta de Fisher a dos colas para identificar la relación entre moca_VISUESPACIAL y moca_LENGUAJE, ya que algunas celdas en la tabla de contingencias no cumplían el requisito de tener valores superiores a 5. Con una confianza del 95%, se encontró una relación estadísticamente significativa entre las variables. (p= 0.029, prueba exacta de Fisher).\"\n",
      "[1] \"********************************************\"\n"
     ]
    },
    {
     "name": "stderr",
     "output_type": "stream",
     "text": [
      "Warning message in chisq.test(cont_table):\n",
      "\"Chi-squared approximation may be incorrect\"Warning message in chisq.test(cont_table):\n",
      "\"Chi-squared approximation may be incorrect\"Warning message in chisq.test(cont_table):\n",
      "\"Chi-squared approximation may be incorrect\"Warning message in chisq.test(cont_table):\n",
      "\"Chi-squared approximation may be incorrect\"Warning message in chisq.test(cont_table):\n",
      "\"Chi-squared approximation may be incorrect\"Warning message in chisq.test(cont_table):\n",
      "\"Chi-squared approximation may be incorrect\"Warning message in chisq.test(cont_table):\n",
      "\"Chi-squared approximation may be incorrect\"Warning message in chisq.test(cont_table):\n",
      "\"Chi-squared approximation may be incorrect\"Warning message in chisq.test(cont_table):\n",
      "\"Chi-squared approximation may be incorrect\"Warning message in chisq.test(cont_table):\n",
      "\"Chi-squared approximation may be incorrect\"Warning message in chisq.test(cont_table):\n",
      "\"Chi-squared approximation may be incorrect\"Warning message in chisq.test(cont_table):\n",
      "\"Chi-squared approximation may be incorrect\"Warning message in chisq.test(cont_table):\n",
      "\"Chi-squared approximation may be incorrect\"Warning message in chisq.test(cont_table):\n",
      "\"Chi-squared approximation may be incorrect\"Warning message in chisq.test(cont_table):\n",
      "\"Chi-squared approximation may be incorrect\"Warning message in chisq.test(cont_table):\n",
      "\"Chi-squared approximation may be incorrect\"Warning message in chisq.test(cont_table):\n",
      "\"Chi-squared approximation may be incorrect\"Warning message in chisq.test(cont_table):\n",
      "\"Chi-squared approximation may be incorrect\"Warning message in chisq.test(cont_table):\n",
      "\"Chi-squared approximation may be incorrect\"Warning message in chisq.test(cont_table):\n",
      "\"Chi-squared approximation may be incorrect\"Warning message in chisq.test(cont_table):\n",
      "\"Chi-squared approximation may be incorrect\"Warning message in chisq.test(cont_table):\n",
      "\"Chi-squared approximation may be incorrect\"Warning message in chisq.test(cont_table):\n",
      "\"Chi-squared approximation may be incorrect\"Warning message in chisq.test(cont_table):\n",
      "\"Chi-squared approximation may be incorrect\"Warning message in chisq.test(cont_table):\n",
      "\"Chi-squared approximation may be incorrect\"Warning message in chisq.test(cont_table):\n",
      "\"Chi-squared approximation may be incorrect\"Warning message in chisq.test(cont_table):\n",
      "\"Chi-squared approximation may be incorrect\"Warning message in chisq.test(cont_table):\n",
      "\"Chi-squared approximation may be incorrect\"Warning message in chisq.test(cont_table):\n",
      "\"Chi-squared approximation may be incorrect\"Warning message in chisq.test(cont_table):\n",
      "\"Chi-squared approximation may be incorrect\"Warning message in chisq.test(cont_table):\n",
      "\"Chi-squared approximation may be incorrect\"Warning message in chisq.test(cont_table):\n",
      "\"Chi-squared approximation may be incorrect\"Warning message in chisq.test(cont_table):\n",
      "\"Chi-squared approximation may be incorrect\"Warning message in chisq.test(cont_table):\n",
      "\"Chi-squared approximation may be incorrect\"Warning message in chisq.test(cont_table):\n",
      "\"Chi-squared approximation may be incorrect\"Warning message in chisq.test(cont_table):\n",
      "\"Chi-squared approximation may be incorrect\"Warning message in chisq.test(cont_table):\n",
      "\"Chi-squared approximation may be incorrect\"Warning message in chisq.test(cont_table):\n",
      "\"Chi-squared approximation may be incorrect\"Warning message in chisq.test(cont_table):\n",
      "\"Chi-squared approximation may be incorrect\"Warning message in chisq.test(cont_table):\n",
      "\"Chi-squared approximation may be incorrect\"Warning message in chisq.test(cont_table):\n",
      "\"Chi-squared approximation may be incorrect\"Warning message in chisq.test(cont_table):\n",
      "\"Chi-squared approximation may be incorrect\"Warning message in chisq.test(cont_table):\n",
      "\"Chi-squared approximation may be incorrect\"Warning message in chisq.test(cont_table):\n",
      "\"Chi-squared approximation may be incorrect\"Warning message in chisq.test(cont_table):\n",
      "\"Chi-squared approximation may be incorrect\"Warning message in chisq.test(cont_table):\n",
      "\"Chi-squared approximation may be incorrect\"Warning message in chisq.test(cont_table):\n",
      "\"Chi-squared approximation may be incorrect\"Warning message in chisq.test(cont_table):\n",
      "\"Chi-squared approximation may be incorrect\"Warning message in chisq.test(cont_table):\n",
      "\"Chi-squared approximation may be incorrect\"Warning message in chisq.test(cont_table):\n",
      "\"Chi-squared approximation may be incorrect\"Warning message in chisq.test(cont_table):\n",
      "\"Chi-squared approximation may be incorrect\"Warning message in chisq.test(cont_table):\n",
      "\"Chi-squared approximation may be incorrect\"Warning message in chisq.test(cont_table):\n",
      "\"Chi-squared approximation may be incorrect\"Warning message in chisq.test(cont_table):\n",
      "\"Chi-squared approximation may be incorrect\"Warning message in chisq.test(cont_table):\n",
      "\"Chi-squared approximation may be incorrect\"Warning message in chisq.test(cont_table):\n",
      "\"Chi-squared approximation may be incorrect\"Warning message in chisq.test(cont_table):\n",
      "\"Chi-squared approximation may be incorrect\"Warning message in chisq.test(cont_table):\n",
      "\"Chi-squared approximation may be incorrect\""
     ]
    },
    {
     "name": "stdout",
     "output_type": "stream",
     "text": [
      "[1] \"Combinación: 214  || VARIABLES: moca_ATENCION moca_ABSTRACCION\"\n",
      "[1] \"Se realizó una prueba de Chi cuadrado para identificar la relación entre moca_ATENCION y moca_ABSTRACCION. Con una confianza del 95%, se encontró una relación estadísticamente significativa entre las variables. X2 (gl=1, n=66) = 7.39, p=0.007\"\n",
      "[1] \"********************************************\"\n"
     ]
    },
    {
     "name": "stderr",
     "output_type": "stream",
     "text": [
      "Warning message in chisq.test(cont_table):\n",
      "\"Chi-squared approximation may be incorrect\"Warning message in chisq.test(cont_table):\n",
      "\"Chi-squared approximation may be incorrect\""
     ]
    },
    {
     "name": "stdout",
     "output_type": "stream",
     "text": [
      "[1] \"Combinación: 226  || VARIABLES: moca_ATENCION mmpi_pa_cat\"\n",
      "[1] \"Se realizó una prueba de Chi cuadrado para identificar la relación entre moca_ATENCION y mmpi_pa_cat. Con una confianza del 95%, se encontró una relación estadísticamente significativa entre las variables. X2 (gl=1, n=66) = 5.27, p=0.022\"\n",
      "[1] \"********************************************\"\n"
     ]
    },
    {
     "name": "stderr",
     "output_type": "stream",
     "text": [
      "Warning message in chisq.test(cont_table):\n",
      "\"Chi-squared approximation may be incorrect\"Warning message in chisq.test(cont_table):\n",
      "\"Chi-squared approximation may be incorrect\"Warning message in chisq.test(cont_table):\n",
      "\"Chi-squared approximation may be incorrect\"Warning message in chisq.test(cont_table):\n",
      "\"Chi-squared approximation may be incorrect\"Warning message in chisq.test(cont_table):\n",
      "\"Chi-squared approximation may be incorrect\"Warning message in chisq.test(cont_table):\n",
      "\"Chi-squared approximation may be incorrect\"Warning message in chisq.test(cont_table):\n",
      "\"Chi-squared approximation may be incorrect\"Warning message in chisq.test(cont_table):\n",
      "\"Chi-squared approximation may be incorrect\"Warning message in chisq.test(cont_table):\n",
      "\"Chi-squared approximation may be incorrect\"Warning message in chisq.test(cont_table):\n",
      "\"Chi-squared approximation may be incorrect\"Warning message in chisq.test(cont_table):\n",
      "\"Chi-squared approximation may be incorrect\"Warning message in chisq.test(cont_table):\n",
      "\"Chi-squared approximation may be incorrect\"Warning message in chisq.test(cont_table):\n",
      "\"Chi-squared approximation may be incorrect\"Warning message in chisq.test(cont_table):\n",
      "\"Chi-squared approximation may be incorrect\"Warning message in chisq.test(cont_table):\n",
      "\"Chi-squared approximation may be incorrect\"Warning message in chisq.test(cont_table):\n",
      "\"Chi-squared approximation may be incorrect\"Warning message in chisq.test(cont_table):\n",
      "\"Chi-squared approximation may be incorrect\"Warning message in chisq.test(cont_table):\n",
      "\"Chi-squared approximation may be incorrect\"Warning message in chisq.test(cont_table):\n",
      "\"Chi-squared approximation may be incorrect\"Warning message in chisq.test(cont_table):\n",
      "\"Chi-squared approximation may be incorrect\"Warning message in chisq.test(cont_table):\n",
      "\"Chi-squared approximation may be incorrect\"Warning message in chisq.test(cont_table):\n",
      "\"Chi-squared approximation may be incorrect\"Warning message in chisq.test(cont_table):\n",
      "\"Chi-squared approximation may be incorrect\"Warning message in chisq.test(cont_table):\n",
      "\"Chi-squared approximation may be incorrect\"Warning message in chisq.test(cont_table):\n",
      "\"Chi-squared approximation may be incorrect\"Warning message in chisq.test(cont_table):\n",
      "\"Chi-squared approximation may be incorrect\"Warning message in chisq.test(cont_table):\n",
      "\"Chi-squared approximation may be incorrect\"Warning message in chisq.test(cont_table):\n",
      "\"Chi-squared approximation may be incorrect\"Warning message in chisq.test(cont_table):\n",
      "\"Chi-squared approximation may be incorrect\"Warning message in chisq.test(cont_table):\n",
      "\"Chi-squared approximation may be incorrect\"Warning message in chisq.test(cont_table):\n",
      "\"Chi-squared approximation may be incorrect\"Warning message in chisq.test(cont_table):\n",
      "\"Chi-squared approximation may be incorrect\"Warning message in chisq.test(cont_table):\n",
      "\"Chi-squared approximation may be incorrect\"Warning message in chisq.test(cont_table):\n",
      "\"Chi-squared approximation may be incorrect\"Warning message in chisq.test(cont_table):\n",
      "\"Chi-squared approximation may be incorrect\"Warning message in chisq.test(cont_table):\n",
      "\"Chi-squared approximation may be incorrect\"Warning message in chisq.test(cont_table):\n",
      "\"Chi-squared approximation may be incorrect\"Warning message in chisq.test(cont_table):\n",
      "\"Chi-squared approximation may be incorrect\"Warning message in chisq.test(cont_table):\n",
      "\"Chi-squared approximation may be incorrect\"Warning message in chisq.test(cont_table):\n",
      "\"Chi-squared approximation may be incorrect\"Warning message in chisq.test(cont_table):\n",
      "\"Chi-squared approximation may be incorrect\"Warning message in chisq.test(cont_table):\n",
      "\"Chi-squared approximation may be incorrect\"Warning message in chisq.test(cont_table):\n",
      "\"Chi-squared approximation may be incorrect\"Warning message in chisq.test(cont_table):\n",
      "\"Chi-squared approximation may be incorrect\"Warning message in chisq.test(cont_table):\n",
      "\"Chi-squared approximation may be incorrect\"Warning message in chisq.test(cont_table):\n",
      "\"Chi-squared approximation may be incorrect\"Warning message in chisq.test(cont_table):\n",
      "\"Chi-squared approximation may be incorrect\"Warning message in chisq.test(cont_table):\n",
      "\"Chi-squared approximation may be incorrect\"Warning message in chisq.test(cont_table):\n",
      "\"Chi-squared approximation may be incorrect\"Warning message in chisq.test(cont_table):\n",
      "\"Chi-squared approximation may be incorrect\"Warning message in chisq.test(cont_table):\n",
      "\"Chi-squared approximation may be incorrect\"Warning message in chisq.test(cont_table):\n",
      "\"Chi-squared approximation may be incorrect\"Warning message in chisq.test(cont_table):\n",
      "\"Chi-squared approximation may be incorrect\"Warning message in chisq.test(cont_table):\n",
      "\"Chi-squared approximation may be incorrect\"Warning message in chisq.test(cont_table):\n",
      "\"Chi-squared approximation may be incorrect\"Warning message in chisq.test(cont_table):\n",
      "\"Chi-squared approximation may be incorrect\"Warning message in chisq.test(cont_table):\n",
      "\"Chi-squared approximation may be incorrect\"Warning message in chisq.test(cont_table):\n",
      "\"Chi-squared approximation may be incorrect\""
     ]
    },
    {
     "name": "stdout",
     "output_type": "stream",
     "text": [
      "[1] \"Combinación: 297  || VARIABLES: stroop_P_cat stroop_I_cat\"\n",
      "[1] \"Se realizó una prueba de Chi cuadrado para identificar la relación entre stroop_P_cat y stroop_I_cat. Con una confianza del 95%, se encontró una relación estadísticamente significativa entre las variables. X2 (gl=1, n=66) = 7.81, p=0.005\"\n",
      "[1] \"********************************************\"\n"
     ]
    },
    {
     "name": "stderr",
     "output_type": "stream",
     "text": [
      "Warning message in chisq.test(cont_table):\n",
      "\"Chi-squared approximation may be incorrect\"Warning message in chisq.test(cont_table):\n",
      "\"Chi-squared approximation may be incorrect\"Warning message in chisq.test(cont_table):\n",
      "\"Chi-squared approximation may be incorrect\"Warning message in chisq.test(cont_table):\n",
      "\"Chi-squared approximation may be incorrect\"Warning message in chisq.test(cont_table):\n",
      "\"Chi-squared approximation may be incorrect\"Warning message in chisq.test(cont_table):\n",
      "\"Chi-squared approximation may be incorrect\"Warning message in chisq.test(cont_table):\n",
      "\"Chi-squared approximation may be incorrect\"Warning message in chisq.test(cont_table):\n",
      "\"Chi-squared approximation may be incorrect\"Warning message in chisq.test(cont_table):\n",
      "\"Chi-squared approximation may be incorrect\"Warning message in chisq.test(cont_table):\n",
      "\"Chi-squared approximation may be incorrect\"Warning message in chisq.test(cont_table):\n",
      "\"Chi-squared approximation may be incorrect\""
     ]
    },
    {
     "name": "stdout",
     "output_type": "stream",
     "text": [
      "[1] \"Combinación: 326  || VARIABLES: stroop_C_cat violencia_fis_cat\"\n",
      "[1] \"Se realizó una prueba de Chi cuadrado para identificar la relación entre stroop_C_cat y violencia_fis_cat. Con una confianza del 95%, se encontró una relación estadísticamente significativa entre las variables. X2 (gl=1, n=66) = 6.44, p=0.011\"\n",
      "[1] \"********************************************\"\n"
     ]
    },
    {
     "name": "stderr",
     "output_type": "stream",
     "text": [
      "Warning message in chisq.test(cont_table):\n",
      "\"Chi-squared approximation may be incorrect\"Warning message in chisq.test(cont_table):\n",
      "\"Chi-squared approximation may be incorrect\"Warning message in chisq.test(cont_table):\n",
      "\"Chi-squared approximation may be incorrect\"Warning message in chisq.test(cont_table):\n",
      "\"Chi-squared approximation may be incorrect\"Warning message in chisq.test(cont_table):\n",
      "\"Chi-squared approximation may be incorrect\"Warning message in chisq.test(cont_table):\n",
      "\"Chi-squared approximation may be incorrect\"Warning message in chisq.test(cont_table):\n",
      "\"Chi-squared approximation may be incorrect\"Warning message in chisq.test(cont_table):\n",
      "\"Chi-squared approximation may be incorrect\"Warning message in chisq.test(cont_table):\n",
      "\"Chi-squared approximation may be incorrect\"Warning message in chisq.test(cont_table):\n",
      "\"Chi-squared approximation may be incorrect\"Warning message in chisq.test(cont_table):\n",
      "\"Chi-squared approximation may be incorrect\"Warning message in chisq.test(cont_table):\n",
      "\"Chi-squared approximation may be incorrect\"Warning message in chisq.test(cont_table):\n",
      "\"Chi-squared approximation may be incorrect\"Warning message in chisq.test(cont_table):\n",
      "\"Chi-squared approximation may be incorrect\""
     ]
    },
    {
     "name": "stdout",
     "output_type": "stream",
     "text": [
      "[1] \"Combinación: 347  || VARIABLES: stroop_I_cat mmpi_hs_cat\"\n",
      "[1] \"En lugar de la prueba chi cuadrado se realizó una prueba exacta de Fisher a dos colas para identificar la relación entre stroop_I_cat y mmpi_hs_cat, ya que algunas celdas en la tabla de contingencias no cumplían el requisito de tener valores superiores a 5. Con una confianza del 95%, se encontró una relación estadísticamente significativa entre las variables. (p= 0.05, prueba exacta de Fisher).\"\n",
      "[1] \"********************************************\"\n"
     ]
    },
    {
     "name": "stderr",
     "output_type": "stream",
     "text": [
      "Warning message in chisq.test(cont_table):\n",
      "\"Chi-squared approximation may be incorrect\"Warning message in chisq.test(cont_table):\n",
      "\"Chi-squared approximation may be incorrect\"Warning message in chisq.test(cont_table):\n",
      "\"Chi-squared approximation may be incorrect\"Warning message in chisq.test(cont_table):\n",
      "\"Chi-squared approximation may be incorrect\"Warning message in chisq.test(cont_table):\n",
      "\"Chi-squared approximation may be incorrect\"Warning message in chisq.test(cont_table):\n",
      "\"Chi-squared approximation may be incorrect\"Warning message in chisq.test(cont_table):\n",
      "\"Chi-squared approximation may be incorrect\"Warning message in chisq.test(cont_table):\n",
      "\"Chi-squared approximation may be incorrect\"Warning message in chisq.test(cont_table):\n",
      "\"Chi-squared approximation may be incorrect\"Warning message in chisq.test(cont_table):\n",
      "\"Chi-squared approximation may be incorrect\"Warning message in chisq.test(cont_table):\n",
      "\"Chi-squared approximation may be incorrect\"Warning message in chisq.test(cont_table):\n",
      "\"Chi-squared approximation may be incorrect\"Warning message in chisq.test(cont_table):\n",
      "\"Chi-squared approximation may be incorrect\"Warning message in chisq.test(cont_table):\n",
      "\"Chi-squared approximation may be incorrect\"Warning message in chisq.test(cont_table):\n",
      "\"Chi-squared approximation may be incorrect\"Warning message in chisq.test(cont_table):\n",
      "\"Chi-squared approximation may be incorrect\"Warning message in chisq.test(cont_table):\n",
      "\"Chi-squared approximation may be incorrect\"Warning message in chisq.test(cont_table):\n",
      "\"Chi-squared approximation may be incorrect\"Warning message in chisq.test(cont_table):\n",
      "\"Chi-squared approximation may be incorrect\"Warning message in chisq.test(cont_table):\n",
      "\"Chi-squared approximation may be incorrect\"Warning message in chisq.test(cont_table):\n",
      "\"Chi-squared approximation may be incorrect\"Warning message in chisq.test(cont_table):\n",
      "\"Chi-squared approximation may be incorrect\"Warning message in chisq.test(cont_table):\n",
      "\"Chi-squared approximation may be incorrect\"Warning message in chisq.test(cont_table):\n",
      "\"Chi-squared approximation may be incorrect\""
     ]
    },
    {
     "name": "stdout",
     "output_type": "stream",
     "text": [
      "[1] \"Combinación: 375  || VARIABLES: mmpi_hs_cat mmpi_d_cat\"\n",
      "[1] \"Se realizó una prueba de Chi cuadrado para identificar la relación entre mmpi_hs_cat y mmpi_d_cat. Con una confianza del 95%, se encontró una relación estadísticamente significativa entre las variables. X2 (gl=1, n=66) = 6.22, p=0.013\"\n",
      "[1] \"********************************************\"\n",
      "[1] \"Combinación: 376  || VARIABLES: mmpi_hs_cat mmpi_hy_cat\"\n",
      "[1] \"Se realizó una prueba de Chi cuadrado para identificar la relación entre mmpi_hs_cat y mmpi_hy_cat. Con una confianza del 95%, se encontró una relación estadísticamente significativa entre las variables. X2 (gl=1, n=66) = 9.21, p=0.002\"\n",
      "[1] \"********************************************\"\n"
     ]
    },
    {
     "name": "stderr",
     "output_type": "stream",
     "text": [
      "Warning message in chisq.test(cont_table):\n",
      "\"Chi-squared approximation may be incorrect\"Warning message in chisq.test(cont_table):\n",
      "\"Chi-squared approximation may be incorrect\"Warning message in chisq.test(cont_table):\n",
      "\"Chi-squared approximation may be incorrect\"Warning message in chisq.test(cont_table):\n",
      "\"Chi-squared approximation may be incorrect\"Warning message in chisq.test(cont_table):\n",
      "\"Chi-squared approximation may be incorrect\"Warning message in chisq.test(cont_table):\n",
      "\"Chi-squared approximation may be incorrect\"Warning message in chisq.test(cont_table):\n",
      "\"Chi-squared approximation may be incorrect\"Warning message in chisq.test(cont_table):\n",
      "\"Chi-squared approximation may be incorrect\"Warning message in chisq.test(cont_table):\n",
      "\"Chi-squared approximation may be incorrect\""
     ]
    },
    {
     "name": "stdout",
     "output_type": "stream",
     "text": [
      "[1] \"Combinación: 388  || VARIABLES: mmpi_d_cat mmpi_hy_cat\"\n",
      "[1] \"Se realizó una prueba de Chi cuadrado para identificar la relación entre mmpi_d_cat y mmpi_hy_cat. Con una confianza del 95%, se encontró una relación estadísticamente significativa entre las variables. X2 (gl=1, n=66) = 3.94, p=0.047\"\n",
      "[1] \"********************************************\"\n",
      "[1] \"Combinación: 392  || VARIABLES: mmpi_d_cat mmpi_pt_cat\"\n",
      "[1] \"Se realizó una prueba de Chi cuadrado para identificar la relación entre mmpi_d_cat y mmpi_pt_cat. Con una confianza del 95%, se encontró una relación estadísticamente significativa entre las variables. X2 (gl=1, n=66) = 6.09, p=0.014\"\n",
      "[1] \"********************************************\"\n"
     ]
    },
    {
     "name": "stderr",
     "output_type": "stream",
     "text": [
      "Warning message in chisq.test(cont_table):\n",
      "\"Chi-squared approximation may be incorrect\"Warning message in chisq.test(cont_table):\n",
      "\"Chi-squared approximation may be incorrect\"Warning message in chisq.test(cont_table):\n",
      "\"Chi-squared approximation may be incorrect\"Warning message in chisq.test(cont_table):\n",
      "\"Chi-squared approximation may be incorrect\"Warning message in chisq.test(cont_table):\n",
      "\"Chi-squared approximation may be incorrect\"Warning message in chisq.test(cont_table):\n",
      "\"Chi-squared approximation may be incorrect\"Warning message in chisq.test(cont_table):\n",
      "\"Chi-squared approximation may be incorrect\"Warning message in chisq.test(cont_table):\n",
      "\"Chi-squared approximation may be incorrect\"Warning message in chisq.test(cont_table):\n",
      "\"Chi-squared approximation may be incorrect\""
     ]
    },
    {
     "name": "stdout",
     "output_type": "stream",
     "text": [
      "[1] \"Combinación: 403  || VARIABLES: mmpi_hy_cat mmpi_pt_cat\"\n",
      "[1] \"En lugar de la prueba chi cuadrado se realizó una prueba exacta de Fisher a dos colas para identificar la relación entre mmpi_hy_cat y mmpi_pt_cat, ya que algunas celdas en la tabla de contingencias no cumplían el requisito de tener valores superiores a 5. Con una confianza del 95%, se encontró una relación estadísticamente significativa entre las variables. (p= 0.014, prueba exacta de Fisher).\"\n",
      "[1] \"********************************************\"\n"
     ]
    },
    {
     "name": "stderr",
     "output_type": "stream",
     "text": [
      "Warning message in chisq.test(cont_table):\n",
      "\"Chi-squared approximation may be incorrect\"Warning message in chisq.test(cont_table):\n",
      "\"Chi-squared approximation may be incorrect\"Warning message in chisq.test(cont_table):\n",
      "\"Chi-squared approximation may be incorrect\"Warning message in chisq.test(cont_table):\n",
      "\"Chi-squared approximation may be incorrect\"Warning message in chisq.test(cont_table):\n",
      "\"Chi-squared approximation may be incorrect\"Warning message in chisq.test(cont_table):\n",
      "\"Chi-squared approximation may be incorrect\"Warning message in chisq.test(cont_table):\n",
      "\"Chi-squared approximation may be incorrect\"Warning message in chisq.test(cont_table):\n",
      "\"Chi-squared approximation may be incorrect\"Warning message in chisq.test(cont_table):\n",
      "\"Chi-squared approximation may be incorrect\"Warning message in chisq.test(cont_table):\n",
      "\"Chi-squared approximation may be incorrect\"Warning message in chisq.test(cont_table):\n",
      "\"Chi-squared approximation may be incorrect\"Warning message in chisq.test(cont_table):\n",
      "\"Chi-squared approximation may be incorrect\"Warning message in chisq.test(cont_table):\n",
      "\"Chi-squared approximation may be incorrect\"Warning message in chisq.test(cont_table):\n",
      "\"Chi-squared approximation may be incorrect\"Warning message in chisq.test(cont_table):\n",
      "\"Chi-squared approximation may be incorrect\"Warning message in chisq.test(cont_table):\n",
      "\"Chi-squared approximation may be incorrect\"Warning message in chisq.test(cont_table):\n",
      "\"Chi-squared approximation may be incorrect\""
     ]
    },
    {
     "name": "stdout",
     "output_type": "stream",
     "text": [
      "[1] \"Combinación: 425  || VARIABLES: mmpi_mf_cat mmpi_si_cat\"\n",
      "[1] \"En lugar de la prueba chi cuadrado se realizó una prueba exacta de Fisher a dos colas para identificar la relación entre mmpi_mf_cat y mmpi_si_cat, ya que algunas celdas en la tabla de contingencias no cumplían el requisito de tener valores superiores a 5. Con una confianza del 95%, se encontró una relación estadísticamente significativa entre las variables. (p= 0.05, prueba exacta de Fisher).\"\n",
      "[1] \"********************************************\"\n"
     ]
    },
    {
     "name": "stderr",
     "output_type": "stream",
     "text": [
      "Warning message in chisq.test(cont_table):\n",
      "\"Chi-squared approximation may be incorrect\"Warning message in chisq.test(cont_table):\n",
      "\"Chi-squared approximation may be incorrect\"Warning message in chisq.test(cont_table):\n",
      "\"Chi-squared approximation may be incorrect\"Warning message in chisq.test(cont_table):\n",
      "\"Chi-squared approximation may be incorrect\""
     ]
    },
    {
     "name": "stdout",
     "output_type": "stream",
     "text": [
      "[1] \"Combinación: 430  || VARIABLES: mmpi_pa_cat mmpi_pt_cat\"\n",
      "[1] \"En lugar de la prueba chi cuadrado se realizó una prueba exacta de Fisher a dos colas para identificar la relación entre mmpi_pa_cat y mmpi_pt_cat, ya que algunas celdas en la tabla de contingencias no cumplían el requisito de tener valores superiores a 5. Con una confianza del 95%, se encontró una relación estadísticamente significativa entre las variables. (p= 0.037, prueba exacta de Fisher).\"\n",
      "[1] \"********************************************\"\n"
     ]
    },
    {
     "name": "stderr",
     "output_type": "stream",
     "text": [
      "Warning message in chisq.test(cont_table):\n",
      "\"Chi-squared approximation may be incorrect\"Warning message in chisq.test(cont_table):\n",
      "\"Chi-squared approximation may be incorrect\""
     ]
    },
    {
     "name": "stdout",
     "output_type": "stream",
     "text": [
      "[1] \"Combinación: 432  || VARIABLES: mmpi_pa_cat mmpi_ma_cat\"\n",
      "[1] \"En lugar de la prueba chi cuadrado se realizó una prueba exacta de Fisher a dos colas para identificar la relación entre mmpi_pa_cat y mmpi_ma_cat, ya que algunas celdas en la tabla de contingencias no cumplían el requisito de tener valores superiores a 5. Con una confianza del 95%, se encontró una relación estadísticamente significativa entre las variables. (p= 0.013, prueba exacta de Fisher).\"\n",
      "[1] \"********************************************\"\n"
     ]
    },
    {
     "name": "stderr",
     "output_type": "stream",
     "text": [
      "Warning message in chisq.test(cont_table):\n",
      "\"Chi-squared approximation may be incorrect\"Warning message in chisq.test(cont_table):\n",
      "\"Chi-squared approximation may be incorrect\"Warning message in chisq.test(cont_table):\n",
      "\"Chi-squared approximation may be incorrect\"Warning message in chisq.test(cont_table):\n",
      "\"Chi-squared approximation may be incorrect\"Warning message in chisq.test(cont_table):\n",
      "\"Chi-squared approximation may be incorrect\"Warning message in chisq.test(cont_table):\n",
      "\"Chi-squared approximation may be incorrect\"Warning message in chisq.test(cont_table):\n",
      "\"Chi-squared approximation may be incorrect\"Warning message in chisq.test(cont_table):\n",
      "\"Chi-squared approximation may be incorrect\"Warning message in chisq.test(cont_table):\n",
      "\"Chi-squared approximation may be incorrect\"Warning message in chisq.test(cont_table):\n",
      "\"Chi-squared approximation may be incorrect\"Warning message in chisq.test(cont_table):\n",
      "\"Chi-squared approximation may be incorrect\"Warning message in chisq.test(cont_table):\n",
      "\"Chi-squared approximation may be incorrect\"Warning message in chisq.test(cont_table):\n",
      "\"Chi-squared approximation may be incorrect\"Warning message in chisq.test(cont_table):\n",
      "\"Chi-squared approximation may be incorrect\"Warning message in chisq.test(cont_table):\n",
      "\"Chi-squared approximation may be incorrect\"Warning message in chisq.test(cont_table):\n",
      "\"Chi-squared approximation may be incorrect\"Warning message in chisq.test(cont_table):\n",
      "\"Chi-squared approximation may be incorrect\"Warning message in chisq.test(cont_table):\n",
      "\"Chi-squared approximation may be incorrect\"Warning message in chisq.test(cont_table):\n",
      "\"Chi-squared approximation may be incorrect\"Warning message in chisq.test(cont_table):\n",
      "\"Chi-squared approximation may be incorrect\"Warning message in chisq.test(cont_table):\n",
      "\"Chi-squared approximation may be incorrect\"Warning message in chisq.test(cont_table):\n",
      "\"Chi-squared approximation may be incorrect\"Warning message in chisq.test(cont_table):\n",
      "\"Chi-squared approximation may be incorrect\"Warning message in chisq.test(cont_table):\n",
      "\"Chi-squared approximation may be incorrect\"Warning message in chisq.test(cont_table):\n",
      "\"Chi-squared approximation may be incorrect\"Warning message in chisq.test(cont_table):\n",
      "\"Chi-squared approximation may be incorrect\""
     ]
    },
    {
     "name": "stdout",
     "output_type": "stream",
     "text": [
      "[1] \"Combinación: 460  || VARIABLES: violencia_fis_cat violencia_sex_cat\"\n",
      "[1] \"En lugar de la prueba chi cuadrado se realizó una prueba exacta de Fisher a dos colas para identificar la relación entre violencia_fis_cat y violencia_sex_cat, ya que algunas celdas en la tabla de contingencias no cumplían el requisito de tener valores superiores a 5. Con una confianza del 95%, se encontró una relación estadísticamente significativa entre las variables. (p= 0.001, prueba exacta de Fisher).\"\n",
      "[1] \"********************************************\"\n"
     ]
    },
    {
     "name": "stderr",
     "output_type": "stream",
     "text": [
      "Warning message in chisq.test(cont_table):\n",
      "\"Chi-squared approximation may be incorrect\"Warning message in chisq.test(cont_table):\n",
      "\"Chi-squared approximation may be incorrect\"Warning message in chisq.test(cont_table):\n",
      "\"Chi-squared approximation may be incorrect\"Warning message in chisq.test(cont_table):\n",
      "\"Chi-squared approximation may be incorrect\"Warning message in chisq.test(cont_table):\n",
      "\"Chi-squared approximation may be incorrect\""
     ]
    }
   ],
   "source": [
    "for (ith_row in 1:nrow(df_combin)){\n",
    "    test_corrs=correlaciones_categoricas(as.character(unlist(datos[as.character(df_combin[ith_row,1])])),\n",
    "                                         as.character(unlist(datos[as.character(df_combin[ith_row,2])])),\n",
    "                                         as.character(df_combin[ith_row,1]),\n",
    "                                         as.character(df_combin[ith_row,2]))\n",
    "    if(test_corrs[2]<0.0505){\n",
    "        print(paste(\"Combinación:\",ith_row,\" || VARIABLES:\",as.character(df_combin[ith_row,1]),as.character(df_combin[ith_row,2])))\n",
    "        print(test_corrs[1])\n",
    "        print(\"********************************************\")\n",
    "    }\n",
    "                \n",
    "}"
   ]
  },
  {
   "cell_type": "code",
   "execution_count": 10,
   "metadata": {},
   "outputs": [
    {
     "name": "stderr",
     "output_type": "stream",
     "text": [
      "Warning message in chisq.test(cont_table):\n",
      "\"Chi-squared approximation may be incorrect\"Warning message in chisq.test(cont_table):\n",
      "\"Chi-squared approximation may be incorrect\"Warning message in chisq.test(cont_table):\n",
      "\"Chi-squared approximation may be incorrect\"Warning message in chisq.test(cont_table):\n",
      "\"Chi-squared approximation may be incorrect\"Warning message in chisq.test(cont_table):\n",
      "\"Chi-squared approximation may be incorrect\"Warning message in chisq.test(cont_table):\n",
      "\"Chi-squared approximation may be incorrect\"Warning message in chisq.test(cont_table):\n",
      "\"Chi-squared approximation may be incorrect\"Warning message in chisq.test(cont_table):\n",
      "\"Chi-squared approximation may be incorrect\"Warning message in chisq.test(cont_table):\n",
      "\"Chi-squared approximation may be incorrect\"Warning message in chisq.test(cont_table):\n",
      "\"Chi-squared approximation may be incorrect\"Warning message in chisq.test(cont_table):\n",
      "\"Chi-squared approximation may be incorrect\"Warning message in chisq.test(cont_table):\n",
      "\"Chi-squared approximation may be incorrect\"Warning message in chisq.test(cont_table):\n",
      "\"Chi-squared approximation may be incorrect\"Warning message in chisq.test(cont_table):\n",
      "\"Chi-squared approximation may be incorrect\"Warning message in chisq.test(cont_table):\n",
      "\"Chi-squared approximation may be incorrect\"Warning message in chisq.test(cont_table):\n",
      "\"Chi-squared approximation may be incorrect\"Warning message in chisq.test(cont_table):\n",
      "\"Chi-squared approximation may be incorrect\"Warning message in chisq.test(cont_table):\n",
      "\"Chi-squared approximation may be incorrect\"Warning message in chisq.test(cont_table):\n",
      "\"Chi-squared approximation may be incorrect\"Warning message in chisq.test(cont_table):\n",
      "\"Chi-squared approximation may be incorrect\"Warning message in chisq.test(cont_table):\n",
      "\"Chi-squared approximation may be incorrect\"Warning message in chisq.test(cont_table):\n",
      "\"Chi-squared approximation may be incorrect\"Warning message in chisq.test(cont_table):\n",
      "\"Chi-squared approximation may be incorrect\"Warning message in chisq.test(cont_table):\n",
      "\"Chi-squared approximation may be incorrect\"Warning message in chisq.test(cont_table):\n",
      "\"Chi-squared approximation may be incorrect\"Warning message in chisq.test(cont_table):\n",
      "\"Chi-squared approximation may be incorrect\"Warning message in chisq.test(cont_table):\n",
      "\"Chi-squared approximation may be incorrect\"Warning message in chisq.test(cont_table):\n",
      "\"Chi-squared approximation may be incorrect\"Warning message in chisq.test(cont_table):\n",
      "\"Chi-squared approximation may be incorrect\"Warning message in chisq.test(cont_table):\n",
      "\"Chi-squared approximation may be incorrect\"Warning message in chisq.test(cont_table):\n",
      "\"Chi-squared approximation may be incorrect\"Warning message in chisq.test(cont_table):\n",
      "\"Chi-squared approximation may be incorrect\"Warning message in chisq.test(cont_table):\n",
      "\"Chi-squared approximation may be incorrect\"Warning message in chisq.test(cont_table):\n",
      "\"Chi-squared approximation may be incorrect\"Warning message in chisq.test(cont_table):\n",
      "\"Chi-squared approximation may be incorrect\"Warning message in chisq.test(cont_table):\n",
      "\"Chi-squared approximation may be incorrect\"Warning message in chisq.test(cont_table):\n",
      "\"Chi-squared approximation may be incorrect\"Warning message in chisq.test(cont_table):\n",
      "\"Chi-squared approximation may be incorrect\"Warning message in chisq.test(cont_table):\n",
      "\"Chi-squared approximation may be incorrect\"Warning message in chisq.test(cont_table):\n",
      "\"Chi-squared approximation may be incorrect\"Warning message in chisq.test(cont_table):\n",
      "\"Chi-squared approximation may be incorrect\"Warning message in chisq.test(cont_table):\n",
      "\"Chi-squared approximation may be incorrect\"Warning message in chisq.test(cont_table):\n",
      "\"Chi-squared approximation may be incorrect\"Warning message in chisq.test(cont_table):\n",
      "\"Chi-squared approximation may be incorrect\"Warning message in chisq.test(cont_table):\n",
      "\"Chi-squared approximation may be incorrect\"Warning message in chisq.test(cont_table):\n",
      "\"Chi-squared approximation may be incorrect\"Warning message in chisq.test(cont_table):\n",
      "\"Chi-squared approximation may be incorrect\"Warning message in chisq.test(cont_table):\n",
      "\"Chi-squared approximation may be incorrect\"Warning message in chisq.test(cont_table):\n",
      "\"Chi-squared approximation may be incorrect\"Warning message in chisq.test(cont_table):\n",
      "\"Chi-squared approximation may be incorrect\"Warning message in chisq.test(cont_table):\n",
      "\"Chi-squared approximation may be incorrect\"Warning message in chisq.test(cont_table):\n",
      "\"Chi-squared approximation may be incorrect\"Warning message in chisq.test(cont_table):\n",
      "\"Chi-squared approximation may be incorrect\"Warning message in chisq.test(cont_table):\n",
      "\"Chi-squared approximation may be incorrect\"Warning message in chisq.test(cont_table):\n",
      "\"Chi-squared approximation may be incorrect\"Warning message in chisq.test(cont_table):\n",
      "\"Chi-squared approximation may be incorrect\"Warning message in chisq.test(cont_table):\n",
      "\"Chi-squared approximation may be incorrect\"Warning message in chisq.test(cont_table):\n",
      "\"Chi-squared approximation may be incorrect\"Warning message in chisq.test(cont_table):\n",
      "\"Chi-squared approximation may be incorrect\"Warning message in chisq.test(cont_table):\n",
      "\"Chi-squared approximation may be incorrect\"Warning message in chisq.test(cont_table):\n",
      "\"Chi-squared approximation may be incorrect\"Warning message in chisq.test(cont_table):\n",
      "\"Chi-squared approximation may be incorrect\"Warning message in chisq.test(cont_table):\n",
      "\"Chi-squared approximation may be incorrect\"Warning message in chisq.test(cont_table):\n",
      "\"Chi-squared approximation may be incorrect\"Warning message in chisq.test(cont_table):\n",
      "\"Chi-squared approximation may be incorrect\"Warning message in chisq.test(cont_table):\n",
      "\"Chi-squared approximation may be incorrect\"Warning message in chisq.test(cont_table):\n",
      "\"Chi-squared approximation may be incorrect\"Warning message in chisq.test(cont_table):\n",
      "\"Chi-squared approximation may be incorrect\"Warning message in chisq.test(cont_table):\n",
      "\"Chi-squared approximation may be incorrect\"Warning message in chisq.test(cont_table):\n",
      "\"Chi-squared approximation may be incorrect\"Warning message in chisq.test(cont_table):\n",
      "\"Chi-squared approximation may be incorrect\"Warning message in chisq.test(cont_table):\n",
      "\"Chi-squared approximation may be incorrect\"Warning message in chisq.test(cont_table):\n",
      "\"Chi-squared approximation may be incorrect\"Warning message in chisq.test(cont_table):\n",
      "\"Chi-squared approximation may be incorrect\"Warning message in chisq.test(cont_table):\n",
      "\"Chi-squared approximation may be incorrect\"Warning message in chisq.test(cont_table):\n",
      "\"Chi-squared approximation may be incorrect\"Warning message in chisq.test(cont_table):\n",
      "\"Chi-squared approximation may be incorrect\"Warning message in chisq.test(cont_table):\n",
      "\"Chi-squared approximation may be incorrect\"Warning message in chisq.test(cont_table):\n",
      "\"Chi-squared approximation may be incorrect\"Warning message in chisq.test(cont_table):\n",
      "\"Chi-squared approximation may be incorrect\"Warning message in chisq.test(cont_table):\n",
      "\"Chi-squared approximation may be incorrect\"Warning message in chisq.test(cont_table):\n",
      "\"Chi-squared approximation may be incorrect\"Warning message in chisq.test(cont_table):\n",
      "\"Chi-squared approximation may be incorrect\"Warning message in chisq.test(cont_table):\n",
      "\"Chi-squared approximation may be incorrect\"Warning message in chisq.test(cont_table):\n",
      "\"Chi-squared approximation may be incorrect\"Warning message in chisq.test(cont_table):\n",
      "\"Chi-squared approximation may be incorrect\"Warning message in chisq.test(cont_table):\n",
      "\"Chi-squared approximation may be incorrect\"Warning message in chisq.test(cont_table):\n",
      "\"Chi-squared approximation may be incorrect\"Warning message in chisq.test(cont_table):\n",
      "\"Chi-squared approximation may be incorrect\"Warning message in chisq.test(cont_table):\n",
      "\"Chi-squared approximation may be incorrect\"Warning message in chisq.test(cont_table):\n",
      "\"Chi-squared approximation may be incorrect\"Warning message in chisq.test(cont_table):\n",
      "\"Chi-squared approximation may be incorrect\"Warning message in chisq.test(cont_table):\n",
      "\"Chi-squared approximation may be incorrect\"Warning message in chisq.test(cont_table):\n",
      "\"Chi-squared approximation may be incorrect\"Warning message in chisq.test(cont_table):\n",
      "\"Chi-squared approximation may be incorrect\"Warning message in chisq.test(cont_table):\n",
      "\"Chi-squared approximation may be incorrect\"Warning message in chisq.test(cont_table):\n",
      "\"Chi-squared approximation may be incorrect\"Warning message in chisq.test(cont_table):\n",
      "\"Chi-squared approximation may be incorrect\"Warning message in chisq.test(cont_table):\n",
      "\"Chi-squared approximation may be incorrect\"Warning message in chisq.test(cont_table):\n",
      "\"Chi-squared approximation may be incorrect\"Warning message in chisq.test(cont_table):\n",
      "\"Chi-squared approximation may be incorrect\"Warning message in chisq.test(cont_table):\n",
      "\"Chi-squared approximation may be incorrect\"Warning message in chisq.test(cont_table):\n",
      "\"Chi-squared approximation may be incorrect\"Warning message in chisq.test(cont_table):\n",
      "\"Chi-squared approximation may be incorrect\"Warning message in chisq.test(cont_table):\n",
      "\"Chi-squared approximation may be incorrect\"Warning message in chisq.test(cont_table):\n",
      "\"Chi-squared approximation may be incorrect\"Warning message in chisq.test(cont_table):\n",
      "\"Chi-squared approximation may be incorrect\"Warning message in chisq.test(cont_table):\n",
      "\"Chi-squared approximation may be incorrect\"Warning message in chisq.test(cont_table):\n",
      "\"Chi-squared approximation may be incorrect\"Warning message in chisq.test(cont_table):\n",
      "\"Chi-squared approximation may be incorrect\"Warning message in chisq.test(cont_table):\n",
      "\"Chi-squared approximation may be incorrect\"Warning message in chisq.test(cont_table):\n",
      "\"Chi-squared approximation may be incorrect\"Warning message in chisq.test(cont_table):\n",
      "\"Chi-squared approximation may be incorrect\"Warning message in chisq.test(cont_table):\n",
      "\"Chi-squared approximation may be incorrect\"Warning message in chisq.test(cont_table):\n",
      "\"Chi-squared approximation may be incorrect\"Warning message in chisq.test(cont_table):\n",
      "\"Chi-squared approximation may be incorrect\"Warning message in chisq.test(cont_table):\n",
      "\"Chi-squared approximation may be incorrect\"Warning message in chisq.test(cont_table):\n",
      "\"Chi-squared approximation may be incorrect\"Warning message in chisq.test(cont_table):\n",
      "\"Chi-squared approximation may be incorrect\"Warning message in chisq.test(cont_table):\n",
      "\"Chi-squared approximation may be incorrect\"Warning message in chisq.test(cont_table):\n",
      "\"Chi-squared approximation may be incorrect\"Warning message in chisq.test(cont_table):\n",
      "\"Chi-squared approximation may be incorrect\"Warning message in chisq.test(cont_table):\n",
      "\"Chi-squared approximation may be incorrect\"Warning message in chisq.test(cont_table):\n",
      "\"Chi-squared approximation may be incorrect\"Warning message in chisq.test(cont_table):\n",
      "\"Chi-squared approximation may be incorrect\"Warning message in chisq.test(cont_table):\n",
      "\"Chi-squared approximation may be incorrect\"Warning message in chisq.test(cont_table):\n",
      "\"Chi-squared approximation may be incorrect\"Warning message in chisq.test(cont_table):\n",
      "\"Chi-squared approximation may be incorrect\"Warning message in chisq.test(cont_table):\n",
      "\"Chi-squared approximation may be incorrect\"Warning message in chisq.test(cont_table):\n",
      "\"Chi-squared approximation may be incorrect\"Warning message in chisq.test(cont_table):\n",
      "\"Chi-squared approximation may be incorrect\"Warning message in chisq.test(cont_table):\n",
      "\"Chi-squared approximation may be incorrect\"Warning message in chisq.test(cont_table):\n",
      "\"Chi-squared approximation may be incorrect\"Warning message in chisq.test(cont_table):\n",
      "\"Chi-squared approximation may be incorrect\"Warning message in chisq.test(cont_table):\n",
      "\"Chi-squared approximation may be incorrect\"Warning message in chisq.test(cont_table):\n",
      "\"Chi-squared approximation may be incorrect\"Warning message in chisq.test(cont_table):\n",
      "\"Chi-squared approximation may be incorrect\"Warning message in chisq.test(cont_table):\n",
      "\"Chi-squared approximation may be incorrect\"Warning message in chisq.test(cont_table):\n",
      "\"Chi-squared approximation may be incorrect\"Warning message in chisq.test(cont_table):\n",
      "\"Chi-squared approximation may be incorrect\"Warning message in chisq.test(cont_table):\n",
      "\"Chi-squared approximation may be incorrect\"Warning message in chisq.test(cont_table):\n",
      "\"Chi-squared approximation may be incorrect\"Warning message in chisq.test(cont_table):\n",
      "\"Chi-squared approximation may be incorrect\"Warning message in chisq.test(cont_table):\n",
      "\"Chi-squared approximation may be incorrect\"Warning message in chisq.test(cont_table):\n",
      "\"Chi-squared approximation may be incorrect\"Warning message in chisq.test(cont_table):\n",
      "\"Chi-squared approximation may be incorrect\"Warning message in chisq.test(cont_table):\n",
      "\"Chi-squared approximation may be incorrect\"Warning message in chisq.test(cont_table):\n",
      "\"Chi-squared approximation may be incorrect\"Warning message in chisq.test(cont_table):\n",
      "\"Chi-squared approximation may be incorrect\"Warning message in chisq.test(cont_table):\n",
      "\"Chi-squared approximation may be incorrect\"Warning message in chisq.test(cont_table):\n",
      "\"Chi-squared approximation may be incorrect\"Warning message in chisq.test(cont_table):\n",
      "\"Chi-squared approximation may be incorrect\"Warning message in chisq.test(cont_table):\n",
      "\"Chi-squared approximation may be incorrect\"Warning message in chisq.test(cont_table):\n",
      "\"Chi-squared approximation may be incorrect\"Warning message in chisq.test(cont_table):\n",
      "\"Chi-squared approximation may be incorrect\"Warning message in chisq.test(cont_table):\n",
      "\"Chi-squared approximation may be incorrect\"Warning message in chisq.test(cont_table):\n",
      "\"Chi-squared approximation may be incorrect\"Warning message in chisq.test(cont_table):\n",
      "\"Chi-squared approximation may be incorrect\"Warning message in chisq.test(cont_table):\n",
      "\"Chi-squared approximation may be incorrect\"Warning message in chisq.test(cont_table):\n",
      "\"Chi-squared approximation may be incorrect\"Warning message in chisq.test(cont_table):\n",
      "\"Chi-squared approximation may be incorrect\"Warning message in chisq.test(cont_table):\n",
      "\"Chi-squared approximation may be incorrect\"Warning message in chisq.test(cont_table):\n",
      "\"Chi-squared approximation may be incorrect\"Warning message in chisq.test(cont_table):\n",
      "\"Chi-squared approximation may be incorrect\"Warning message in chisq.test(cont_table):\n",
      "\"Chi-squared approximation may be incorrect\"Warning message in chisq.test(cont_table):\n",
      "\"Chi-squared approximation may be incorrect\"Warning message in chisq.test(cont_table):\n",
      "\"Chi-squared approximation may be incorrect\"Warning message in chisq.test(cont_table):\n",
      "\"Chi-squared approximation may be incorrect\"Warning message in chisq.test(cont_table):\n",
      "\"Chi-squared approximation may be incorrect\"Warning message in chisq.test(cont_table):\n",
      "\"Chi-squared approximation may be incorrect\"Warning message in chisq.test(cont_table):\n",
      "\"Chi-squared approximation may be incorrect\"Warning message in chisq.test(cont_table):\n",
      "\"Chi-squared approximation may be incorrect\"Warning message in chisq.test(cont_table):\n",
      "\"Chi-squared approximation may be incorrect\"Warning message in chisq.test(cont_table):\n",
      "\"Chi-squared approximation may be incorrect\"Warning message in chisq.test(cont_table):\n",
      "\"Chi-squared approximation may be incorrect\"Warning message in chisq.test(cont_table):\n",
      "\"Chi-squared approximation may be incorrect\"Warning message in chisq.test(cont_table):\n",
      "\"Chi-squared approximation may be incorrect\"Warning message in chisq.test(cont_table):\n",
      "\"Chi-squared approximation may be incorrect\"Warning message in chisq.test(cont_table):\n",
      "\"Chi-squared approximation may be incorrect\"Warning message in chisq.test(cont_table):\n",
      "\"Chi-squared approximation may be incorrect\"Warning message in chisq.test(cont_table):\n",
      "\"Chi-squared approximation may be incorrect\"Warning message in chisq.test(cont_table):\n",
      "\"Chi-squared approximation may be incorrect\"Warning message in chisq.test(cont_table):\n",
      "\"Chi-squared approximation may be incorrect\"Warning message in chisq.test(cont_table):\n",
      "\"Chi-squared approximation may be incorrect\"Warning message in chisq.test(cont_table):\n",
      "\"Chi-squared approximation may be incorrect\"Warning message in chisq.test(cont_table):\n",
      "\"Chi-squared approximation may be incorrect\"Warning message in chisq.test(cont_table):\n",
      "\"Chi-squared approximation may be incorrect\"Warning message in chisq.test(cont_table):\n",
      "\"Chi-squared approximation may be incorrect\"Warning message in chisq.test(cont_table):\n",
      "\"Chi-squared approximation may be incorrect\"Warning message in chisq.test(cont_table):\n",
      "\"Chi-squared approximation may be incorrect\"Warning message in chisq.test(cont_table):\n",
      "\"Chi-squared approximation may be incorrect\"Warning message in chisq.test(cont_table):\n",
      "\"Chi-squared approximation may be incorrect\"Warning message in chisq.test(cont_table):\n",
      "\"Chi-squared approximation may be incorrect\"Warning message in chisq.test(cont_table):\n",
      "\"Chi-squared approximation may be incorrect\"Warning message in chisq.test(cont_table):\n",
      "\"Chi-squared approximation may be incorrect\"Warning message in chisq.test(cont_table):\n",
      "\"Chi-squared approximation may be incorrect\"Warning message in chisq.test(cont_table):\n",
      "\"Chi-squared approximation may be incorrect\"Warning message in chisq.test(cont_table):\n",
      "\"Chi-squared approximation may be incorrect\"Warning message in chisq.test(cont_table):\n",
      "\"Chi-squared approximation may be incorrect\"Warning message in chisq.test(cont_table):\n",
      "\"Chi-squared approximation may be incorrect\"Warning message in chisq.test(cont_table):\n",
      "\"Chi-squared approximation may be incorrect\"Warning message in chisq.test(cont_table):\n",
      "\"Chi-squared approximation may be incorrect\"Warning message in chisq.test(cont_table):\n",
      "\"Chi-squared approximation may be incorrect\"Warning message in chisq.test(cont_table):\n",
      "\"Chi-squared approximation may be incorrect\"Warning message in chisq.test(cont_table):\n",
      "\"Chi-squared approximation may be incorrect\"Warning message in chisq.test(cont_table):\n",
      "\"Chi-squared approximation may be incorrect\"Warning message in chisq.test(cont_table):\n",
      "\"Chi-squared approximation may be incorrect\"Warning message in chisq.test(cont_table):\n",
      "\"Chi-squared approximation may be incorrect\"Warning message in chisq.test(cont_table):\n",
      "\"Chi-squared approximation may be incorrect\"Warning message in chisq.test(cont_table):\n",
      "\"Chi-squared approximation may be incorrect\"Warning message in chisq.test(cont_table):\n",
      "\"Chi-squared approximation may be incorrect\"Warning message in chisq.test(cont_table):\n",
      "\"Chi-squared approximation may be incorrect\"Warning message in chisq.test(cont_table):\n",
      "\"Chi-squared approximation may be incorrect\"Warning message in chisq.test(cont_table):\n",
      "\"Chi-squared approximation may be incorrect\"Warning message in chisq.test(cont_table):\n",
      "\"Chi-squared approximation may be incorrect\"Warning message in chisq.test(cont_table):\n",
      "\"Chi-squared approximation may be incorrect\"Warning message in chisq.test(cont_table):\n",
      "\"Chi-squared approximation may be incorrect\"Warning message in chisq.test(cont_table):\n",
      "\"Chi-squared approximation may be incorrect\"Warning message in chisq.test(cont_table):\n",
      "\"Chi-squared approximation may be incorrect\"Warning message in chisq.test(cont_table):\n",
      "\"Chi-squared approximation may be incorrect\"Warning message in chisq.test(cont_table):\n",
      "\"Chi-squared approximation may be incorrect\"Warning message in chisq.test(cont_table):\n",
      "\"Chi-squared approximation may be incorrect\"Warning message in chisq.test(cont_table):\n",
      "\"Chi-squared approximation may be incorrect\"Warning message in chisq.test(cont_table):\n",
      "\"Chi-squared approximation may be incorrect\"Warning message in chisq.test(cont_table):\n",
      "\"Chi-squared approximation may be incorrect\"Warning message in chisq.test(cont_table):\n",
      "\"Chi-squared approximation may be incorrect\"Warning message in chisq.test(cont_table):\n",
      "\"Chi-squared approximation may be incorrect\"Warning message in chisq.test(cont_table):\n",
      "\"Chi-squared approximation may be incorrect\"Warning message in chisq.test(cont_table):\n",
      "\"Chi-squared approximation may be incorrect\"Warning message in chisq.test(cont_table):\n",
      "\"Chi-squared approximation may be incorrect\"Warning message in chisq.test(cont_table):\n",
      "\"Chi-squared approximation may be incorrect\"Warning message in chisq.test(cont_table):\n",
      "\"Chi-squared approximation may be incorrect\"Warning message in chisq.test(cont_table):\n",
      "\"Chi-squared approximation may be incorrect\"Warning message in chisq.test(cont_table):\n",
      "\"Chi-squared approximation may be incorrect\"Warning message in chisq.test(cont_table):\n",
      "\"Chi-squared approximation may be incorrect\"Warning message in chisq.test(cont_table):\n",
      "\"Chi-squared approximation may be incorrect\"Warning message in chisq.test(cont_table):\n",
      "\"Chi-squared approximation may be incorrect\"Warning message in chisq.test(cont_table):\n",
      "\"Chi-squared approximation may be incorrect\"Warning message in chisq.test(cont_table):\n",
      "\"Chi-squared approximation may be incorrect\"Warning message in chisq.test(cont_table):\n",
      "\"Chi-squared approximation may be incorrect\"Warning message in chisq.test(cont_table):\n",
      "\"Chi-squared approximation may be incorrect\"Warning message in chisq.test(cont_table):\n",
      "\"Chi-squared approximation may be incorrect\"Warning message in chisq.test(cont_table):\n",
      "\"Chi-squared approximation may be incorrect\"Warning message in chisq.test(cont_table):\n",
      "\"Chi-squared approximation may be incorrect\"Warning message in chisq.test(cont_table):\n",
      "\"Chi-squared approximation may be incorrect\"Warning message in chisq.test(cont_table):\n",
      "\"Chi-squared approximation may be incorrect\"Warning message in chisq.test(cont_table):\n",
      "\"Chi-squared approximation may be incorrect\"Warning message in chisq.test(cont_table):\n",
      "\"Chi-squared approximation may be incorrect\"Warning message in chisq.test(cont_table):\n",
      "\"Chi-squared approximation may be incorrect\"Warning message in chisq.test(cont_table):\n",
      "\"Chi-squared approximation may be incorrect\"Warning message in chisq.test(cont_table):\n",
      "\"Chi-squared approximation may be incorrect\"Warning message in chisq.test(cont_table):\n",
      "\"Chi-squared approximation may be incorrect\"Warning message in chisq.test(cont_table):\n",
      "\"Chi-squared approximation may be incorrect\"Warning message in chisq.test(cont_table):\n",
      "\"Chi-squared approximation may be incorrect\"Warning message in chisq.test(cont_table):\n",
      "\"Chi-squared approximation may be incorrect\"Warning message in chisq.test(cont_table):\n",
      "\"Chi-squared approximation may be incorrect\"Warning message in chisq.test(cont_table):\n",
      "\"Chi-squared approximation may be incorrect\"Warning message in chisq.test(cont_table):\n",
      "\"Chi-squared approximation may be incorrect\"Warning message in chisq.test(cont_table):\n",
      "\"Chi-squared approximation may be incorrect\"Warning message in chisq.test(cont_table):\n",
      "\"Chi-squared approximation may be incorrect\"Warning message in chisq.test(cont_table):\n",
      "\"Chi-squared approximation may be incorrect\"Warning message in chisq.test(cont_table):\n",
      "\"Chi-squared approximation may be incorrect\"Warning message in chisq.test(cont_table):\n",
      "\"Chi-squared approximation may be incorrect\"Warning message in chisq.test(cont_table):\n",
      "\"Chi-squared approximation may be incorrect\"Warning message in chisq.test(cont_table):\n",
      "\"Chi-squared approximation may be incorrect\"Warning message in chisq.test(cont_table):\n",
      "\"Chi-squared approximation may be incorrect\"Warning message in chisq.test(cont_table):\n",
      "\"Chi-squared approximation may be incorrect\"Warning message in chisq.test(cont_table):\n",
      "\"Chi-squared approximation may be incorrect\"Warning message in chisq.test(cont_table):\n",
      "\"Chi-squared approximation may be incorrect\"Warning message in chisq.test(cont_table):\n",
      "\"Chi-squared approximation may be incorrect\"Warning message in chisq.test(cont_table):\n",
      "\"Chi-squared approximation may be incorrect\"Warning message in chisq.test(cont_table):\n",
      "\"Chi-squared approximation may be incorrect\"Warning message in chisq.test(cont_table):\n",
      "\"Chi-squared approximation may be incorrect\"Warning message in chisq.test(cont_table):\n",
      "\"Chi-squared approximation may be incorrect\"Warning message in chisq.test(cont_table):\n",
      "\"Chi-squared approximation may be incorrect\"Warning message in chisq.test(cont_table):\n",
      "\"Chi-squared approximation may be incorrect\"Warning message in chisq.test(cont_table):\n",
      "\"Chi-squared approximation may be incorrect\"Warning message in chisq.test(cont_table):\n",
      "\"Chi-squared approximation may be incorrect\"Warning message in chisq.test(cont_table):\n",
      "\"Chi-squared approximation may be incorrect\"Warning message in chisq.test(cont_table):\n",
      "\"Chi-squared approximation may be incorrect\"Warning message in chisq.test(cont_table):\n",
      "\"Chi-squared approximation may be incorrect\"Warning message in chisq.test(cont_table):\n",
      "\"Chi-squared approximation may be incorrect\"Warning message in chisq.test(cont_table):\n",
      "\"Chi-squared approximation may be incorrect\"Warning message in chisq.test(cont_table):\n",
      "\"Chi-squared approximation may be incorrect\"Warning message in chisq.test(cont_table):\n",
      "\"Chi-squared approximation may be incorrect\"Warning message in chisq.test(cont_table):\n",
      "\"Chi-squared approximation may be incorrect\"Warning message in chisq.test(cont_table):\n",
      "\"Chi-squared approximation may be incorrect\"Warning message in chisq.test(cont_table):\n",
      "\"Chi-squared approximation may be incorrect\"Warning message in chisq.test(cont_table):\n",
      "\"Chi-squared approximation may be incorrect\"Warning message in chisq.test(cont_table):\n",
      "\"Chi-squared approximation may be incorrect\"Warning message in chisq.test(cont_table):\n",
      "\"Chi-squared approximation may be incorrect\"Warning message in chisq.test(cont_table):\n",
      "\"Chi-squared approximation may be incorrect\"Warning message in chisq.test(cont_table):\n",
      "\"Chi-squared approximation may be incorrect\"Warning message in chisq.test(cont_table):\n",
      "\"Chi-squared approximation may be incorrect\"Warning message in chisq.test(cont_table):\n",
      "\"Chi-squared approximation may be incorrect\"Warning message in chisq.test(cont_table):\n",
      "\"Chi-squared approximation may be incorrect\"Warning message in chisq.test(cont_table):\n",
      "\"Chi-squared approximation may be incorrect\"Warning message in chisq.test(cont_table):\n",
      "\"Chi-squared approximation may be incorrect\"Warning message in chisq.test(cont_table):\n",
      "\"Chi-squared approximation may be incorrect\"Warning message in chisq.test(cont_table):\n",
      "\"Chi-squared approximation may be incorrect\"Warning message in chisq.test(cont_table):\n",
      "\"Chi-squared approximation may be incorrect\"Warning message in chisq.test(cont_table):\n",
      "\"Chi-squared approximation may be incorrect\"Warning message in chisq.test(cont_table):\n",
      "\"Chi-squared approximation may be incorrect\"Warning message in chisq.test(cont_table):\n",
      "\"Chi-squared approximation may be incorrect\"Warning message in chisq.test(cont_table):\n",
      "\"Chi-squared approximation may be incorrect\"Warning message in chisq.test(cont_table):\n",
      "\"Chi-squared approximation may be incorrect\"Warning message in chisq.test(cont_table):\n",
      "\"Chi-squared approximation may be incorrect\"Warning message in chisq.test(cont_table):\n",
      "\"Chi-squared approximation may be incorrect\"Warning message in chisq.test(cont_table):\n",
      "\"Chi-squared approximation may be incorrect\"Warning message in chisq.test(cont_table):\n",
      "\"Chi-squared approximation may be incorrect\"Warning message in chisq.test(cont_table):\n",
      "\"Chi-squared approximation may be incorrect\"Warning message in chisq.test(cont_table):\n",
      "\"Chi-squared approximation may be incorrect\"Warning message in chisq.test(cont_table):\n",
      "\"Chi-squared approximation may be incorrect\"Warning message in chisq.test(cont_table):\n",
      "\"Chi-squared approximation may be incorrect\"Warning message in chisq.test(cont_table):\n",
      "\"Chi-squared approximation may be incorrect\"Warning message in chisq.test(cont_table):\n",
      "\"Chi-squared approximation may be incorrect\"Warning message in chisq.test(cont_table):\n",
      "\"Chi-squared approximation may be incorrect\"Warning message in chisq.test(cont_table):\n",
      "\"Chi-squared approximation may be incorrect\"Warning message in chisq.test(cont_table):\n",
      "\"Chi-squared approximation may be incorrect\"Warning message in chisq.test(cont_table):\n",
      "\"Chi-squared approximation may be incorrect\"Warning message in chisq.test(cont_table):\n",
      "\"Chi-squared approximation may be incorrect\"Warning message in chisq.test(cont_table):\n",
      "\"Chi-squared approximation may be incorrect\"Warning message in chisq.test(cont_table):\n",
      "\"Chi-squared approximation may be incorrect\"Warning message in chisq.test(cont_table):\n",
      "\"Chi-squared approximation may be incorrect\"Warning message in chisq.test(cont_table):\n",
      "\"Chi-squared approximation may be incorrect\"Warning message in chisq.test(cont_table):\n",
      "\"Chi-squared approximation may be incorrect\"Warning message in chisq.test(cont_table):\n",
      "\"Chi-squared approximation may be incorrect\"Warning message in chisq.test(cont_table):\n",
      "\"Chi-squared approximation may be incorrect\"Warning message in chisq.test(cont_table):\n",
      "\"Chi-squared approximation may be incorrect\"Warning message in chisq.test(cont_table):\n",
      "\"Chi-squared approximation may be incorrect\"Warning message in chisq.test(cont_table):\n",
      "\"Chi-squared approximation may be incorrect\"Warning message in chisq.test(cont_table):\n",
      "\"Chi-squared approximation may be incorrect\"Warning message in chisq.test(cont_table):\n",
      "\"Chi-squared approximation may be incorrect\"Warning message in chisq.test(cont_table):\n",
      "\"Chi-squared approximation may be incorrect\"Warning message in chisq.test(cont_table):\n",
      "\"Chi-squared approximation may be incorrect\"Warning message in chisq.test(cont_table):\n",
      "\"Chi-squared approximation may be incorrect\"Warning message in chisq.test(cont_table):\n",
      "\"Chi-squared approximation may be incorrect\"Warning message in chisq.test(cont_table):\n",
      "\"Chi-squared approximation may be incorrect\"Warning message in chisq.test(cont_table):\n",
      "\"Chi-squared approximation may be incorrect\"Warning message in chisq.test(cont_table):\n",
      "\"Chi-squared approximation may be incorrect\"Warning message in chisq.test(cont_table):\n",
      "\"Chi-squared approximation may be incorrect\"Warning message in chisq.test(cont_table):\n",
      "\"Chi-squared approximation may be incorrect\"Warning message in chisq.test(cont_table):\n",
      "\"Chi-squared approximation may be incorrect\"Warning message in chisq.test(cont_table):\n",
      "\"Chi-squared approximation may be incorrect\"Warning message in chisq.test(cont_table):\n",
      "\"Chi-squared approximation may be incorrect\"Warning message in chisq.test(cont_table):\n",
      "\"Chi-squared approximation may be incorrect\"Warning message in chisq.test(cont_table):\n",
      "\"Chi-squared approximation may be incorrect\"Warning message in chisq.test(cont_table):\n",
      "\"Chi-squared approximation may be incorrect\"Warning message in chisq.test(cont_table):\n",
      "\"Chi-squared approximation may be incorrect\"Warning message in chisq.test(cont_table):\n",
      "\"Chi-squared approximation may be incorrect\"Warning message in chisq.test(cont_table):\n",
      "\"Chi-squared approximation may be incorrect\"Warning message in chisq.test(cont_table):\n",
      "\"Chi-squared approximation may be incorrect\"Warning message in chisq.test(cont_table):\n",
      "\"Chi-squared approximation may be incorrect\"Warning message in chisq.test(cont_table):\n",
      "\"Chi-squared approximation may be incorrect\"Warning message in chisq.test(cont_table):\n",
      "\"Chi-squared approximation may be incorrect\"Warning message in chisq.test(cont_table):\n",
      "\"Chi-squared approximation may be incorrect\"Warning message in chisq.test(cont_table):\n",
      "\"Chi-squared approximation may be incorrect\"Warning message in chisq.test(cont_table):\n",
      "\"Chi-squared approximation may be incorrect\"Warning message in chisq.test(cont_table):\n",
      "\"Chi-squared approximation may be incorrect\"Warning message in chisq.test(cont_table):\n",
      "\"Chi-squared approximation may be incorrect\"Warning message in chisq.test(cont_table):\n",
      "\"Chi-squared approximation may be incorrect\"Warning message in chisq.test(cont_table):\n",
      "\"Chi-squared approximation may be incorrect\""
     ]
    }
   ],
   "source": [
    "outputs=data.frame(variable_1=character(),\n",
    "                   variable_2=character(),\n",
    "                   resultado=character(), \n",
    "                   valor_p=numeric(), \n",
    "                   stringsAsFactors=FALSE) \n",
    "\n",
    "df_combin=data.frame(t(combn(datos_categoricas,2)))\n",
    "for (ith_row in 1:nrow(df_combin)){\n",
    "    test_corrs=correlaciones_categoricas(as.character(unlist(datos[as.character(df_combin[ith_row,1])])),\n",
    "                                         as.character(unlist(datos[as.character(df_combin[ith_row,2])])),\n",
    "                                         as.character(df_combin[ith_row,1]),\n",
    "                                         as.character(df_combin[ith_row,2]))\n",
    "    outputs=rbind(outputs, data.frame(variable_1=as.character(df_combin[ith_row,1]),\n",
    "                                      variable_2=as.character(df_combin[ith_row,2]),\n",
    "                                      resultado=test_corrs[1], \n",
    "                                      valor_p=test_corrs[2]), \n",
    "                                      stringsAsFactors=FALSE) \n",
    "}"
   ]
  },
  {
   "cell_type": "code",
   "execution_count": 11,
   "metadata": {},
   "outputs": [],
   "source": [
    "write.csv(outputs, \"correlaciones_1.csv\")"
   ]
  },
  {
   "cell_type": "markdown",
   "metadata": {},
   "source": [
    "# Análisis de correspondencias"
   ]
  },
  {
   "cell_type": "code",
   "execution_count": 12,
   "metadata": {},
   "outputs": [
    {
     "name": "stderr",
     "output_type": "stream",
     "text": [
      "Warning message:\n",
      "\"package 'FactoMineR' was built under R version 3.6.3\"Loading required package: lattice\n"
     ]
    }
   ],
   "source": [
    "# install.packages(\"FactoMineR\", repos=\"https://cloud.r-project.org/\")\n",
    "library(FactoMineR)\n",
    "library (caret)"
   ]
  },
  {
   "cell_type": "code",
   "execution_count": 13,
   "metadata": {},
   "outputs": [],
   "source": [
    "dmy = dummyVars(\" ~ .\", data = datos)\n",
    "trsf = data.frame(predict(dmy, newdata = datos))"
   ]
  },
  {
   "cell_type": "code",
   "execution_count": 14,
   "metadata": {},
   "outputs": [],
   "source": [
    "ca2 = CA(trsf, graph = FALSE)"
   ]
  },
  {
   "cell_type": "code",
   "execution_count": 15,
   "metadata": {},
   "outputs": [
    {
     "data": {
      "image/png": "[encoded data removed]",
      "text/plain": [
       "plot without title"
      ]
     },
     "metadata": {},
     "output_type": "display_data"
    }
   ],
   "source": [
    "plot(ca2,\n",
    "    cex=.15,\n",
    "    selectRow=\"contrib 50\")"
   ]
  },
  {
   "cell_type": "code",
   "execution_count": 16,
   "metadata": {},
   "outputs": [
    {
     "data": {
      "image/png": "[encoded data removed]",
      "text/plain": [
       "plot without title"
      ]
     },
     "metadata": {},
     "output_type": "display_data"
    }
   ],
   "source": [
    "plot(ca2,\n",
    "    shadowtext=TRUE,\n",
    "    unselect=.95,\n",
    "    cex=.25,\n",
    "#     selectRow=\"contrib 25\"\n",
    "      selectRow=\"cos2 50\"\n",
    "    )\n"
   ]
  },
  {
   "cell_type": "code",
   "execution_count": 17,
   "metadata": {},
   "outputs": [
    {
     "data": {
      "text/html": [
       "<strong>png:</strong> 2"
      ],
      "text/latex": [
       "\\textbf{png:} 2"
      ],
      "text/markdown": [
       "**png:** 2"
      ],
      "text/plain": [
       "png \n",
       "  2 "
      ]
     },
     "metadata": {},
     "output_type": "display_data"
    }
   ],
   "source": [
    "pdf(\"plano_correspondencias.pdf\", width = 12, height = 12)\n",
    "\n",
    "plot(ca2,\n",
    "    shadowtext=TRUE,\n",
    "    unselect=.95,\n",
    "    cex=.15#,\n",
    "#     selectRow=\"contrib 25\"\n",
    "    )\n",
    "# Step 3: Run dev.off() to create the file!\n",
    "dev.off()"
   ]
  }
 ],
 "metadata": {
  "kernelspec": {
   "display_name": "R",
   "language": "R",
   "name": "ir"
  },
  "language_info": {
   "codemirror_mode": "r",
   "file_extension": ".r",
   "mimetype": "text/x-r-source",
   "name": "R",
   "pygments_lexer": "r",
   "version": "3.6.1"
  }
 },
 "nbformat": 4,
 "nbformat_minor": 4
}
