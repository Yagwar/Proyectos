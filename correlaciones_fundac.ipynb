{
 "cells": [
  {
   "cell_type": "code",
   "execution_count": 44,
   "metadata": {},
   "outputs": [
    {
     "data": {
      "text/html": [
       "'R version 3.6.1 (2019-07-05)'"
      ],
      "text/latex": [
       "'R version 3.6.1 (2019-07-05)'"
      ],
      "text/markdown": [
       "'R version 3.6.1 (2019-07-05)'"
      ],
      "text/plain": [
       "[1] \"R version 3.6.1 (2019-07-05)\""
      ]
     },
     "metadata": {},
     "output_type": "display_data"
    }
   ],
   "source": [
    "# install.packages(\"FactoMineR\", repos=\"https://cloud.r-project.org/\")\n",
    "library(FactoMineR)\n",
    "library (caret)\n",
    "library(ggplot2)\n",
    "\n",
    "R.Version()$version.string"
   ]
  },
  {
   "cell_type": "code",
   "execution_count": 2,
   "metadata": {},
   "outputs": [],
   "source": [
    "correlaciones_categoricas= function(Variable_1, Variable_2,nombre_Variable_1=\"Var_1\", nombre_Variable_2=\"Var_2\", conting_tabl_visible=FALSE){\n",
    "    cont_table=table(Variable_1, Variable_2)\n",
    "    if(conting_tabl_visible){print(cont_table)}\n",
    "    ch_tst=chisq.test(cont_table)\n",
    "    fisher_tst=fisher.test(cont_table,simulate.p.value=TRUE,B=1e-5)\n",
    "    if (sum(ch_tst$expected<=5)>0){\n",
    "        fisher_signif=\"\"\n",
    "        if(as.numeric(fisher_tst$p.value)<0.05){\n",
    "            fisher_signif=\"Con una confianza del 95%, se encontró una relación estadísticamente significativa entre las variables. \"\n",
    "        }else{\n",
    "            fisher_signif=\"Con una confianza del 95%, no se encontró una relación estadísticamente significativa entre las variables. \"\n",
    "        }\n",
    "        salida=paste0(\"En lugar de la prueba chi cuadrado se realizó una prueba exacta de Fisher a dos colas para identificar la relación entre \",nombre_Variable_1,\" y \",nombre_Variable_2,\", ya que algunas celdas en la tabla de contingencias no cumplían el requisito de tener valores superiores a 5. \",\n",
    "                      fisher_signif,\n",
    "                      \"(p= \",round(as.numeric(fisher_tst$p.value),3),\", prueba exacta de Fisher).\")\n",
    "        valor_p=round(as.numeric(fisher_tst$p.value),3)\n",
    "    }else{\n",
    "        chi_signif=\"\"\n",
    "        if(as.numeric(ch_tst$p.value)<0.05){\n",
    "            chi_signif=\"Con una confianza del 95%, se encontró una relación estadísticamente significativa entre las variables. \"\n",
    "        }else{\n",
    "            chi_signif=\"Con una confianza del 95%, no se encontró una relación estadísticamente significativa entre las variables. \"\n",
    "        }\n",
    "        salida=paste0(\"Se realizó una prueba de Chi cuadrado para identificar la relación entre \",nombre_Variable_1,\" y \",nombre_Variable_2,\". \",\n",
    "                      chi_signif,\n",
    "                      \"X2 (gl=\",as.numeric(ch_tst$parameter),\", n=\",sum(cont_table),\") = \",round(as.numeric(ch_tst$statistic),2),\", p=\",round(as.numeric(ch_tst$p.value),3))\n",
    "        valor_p=round(as.numeric(ch_tst$p.value),3)\n",
    "    }\n",
    "    return (c(salida,valor_p))\n",
    "}\n",
    "\n",
    "correlaciones_num_cat= function(Variable_numerica, Variable_categorica, nombre_variable_categorica=\"**VARIABLE_CATEGORICA**\"){\n",
    "    if (length(levels(Variable_categorica))>2){\n",
    "        #ANOVA de una vía\n",
    "        aov_fit=aov(Variable_numerica ~ Variable_categorica)\n",
    "        smm_aov=summary(aov_fit)\n",
    "        aov_p=smm_aov[[1]][\"Variable_categorica\",'Pr(>F)']\n",
    "        aov_signif=\"\"\n",
    "        if(aov_p<0.05){\n",
    "            aov_signif=\"Con una confianza del 95%, se encontraron diferencias estadísticamente significativas de la edad entre los diferentes grupos. \"\n",
    "        }else{\n",
    "            aov_signif=\"Con una confianza del 95%, no se encontraron diferencias estadísticamente significativas de la edad entre los diferentes grupos. \"\n",
    "        }\n",
    "        salida=paste0(\"Se realizó una prueba de ANOVA de una vía para identificar diferencias de edad entre los grupos de \",nombre_variable_categorica,\" \",\n",
    "                      \"[F(\",smm_aov[[1]][1,\"Df\"],\",\",smm_aov[[1]][2,\"Df\"],\") = \",round(smm_aov[[1]][1,\"F value\"],2),\", p = \",round(aov_p,2),\"]. \",\n",
    "                      aov_signif)\n",
    "        valor_p=aov_p\n",
    "    }else{\n",
    "        # Biserial-Puntual (Pearson)\n",
    "        corr_test=cor.test(as.integer(Variable_categorica),Variable_numerica)\n",
    "        corr_test_p=corr_test$p.value\n",
    "        corr_test_df=as.numeric(test$parameter)\n",
    "        if(corr_test_p<0.0505){\n",
    "            corr_signif=\"Con una confianza del 95%, se encontró una correlación estadísticamente significativa \"\n",
    "        }else{\n",
    "            corr_signif=\"Con una confianza del 95%, no encontró una correlación estadísticamente significativa \"\n",
    "        }\n",
    "        salida=paste0(\"Se realizó una prueba de correlación biserial-puntual para identificar si existe relación entre la edad y \",nombre_variable_categorica,\". \",\n",
    "                      corr_signif,\"r(\",corr_test_df,\")= \",round(as.numeric(test$estimate),2),\", p= \",round(as.numeric(corr_test_p),2))\n",
    "        valor_p=corr_test_p\n",
    "    }\n",
    "    return (c(salida,valor_p))\n",
    "}\n",
    "\n"
   ]
  },
  {
   "cell_type": "code",
   "execution_count": 3,
   "metadata": {},
   "outputs": [],
   "source": [
    "datos=read.csv(\"20200306_datos.csv\", row.names=1)\n",
    "datos=datos[,2:length(colnames(datos))] ### Eliminar_Nombres(confidencialidad)\n",
    "datos=datos[datos$mmpi_valid>0,!colnames(datos)==\"mmpi_valid\"] ### Eliminar datos no válidos por MMPI y eliminar la columna de MMPI_validez"
   ]
  },
  {
   "cell_type": "code",
   "execution_count": 4,
   "metadata": {},
   "outputs": [
    {
     "data": {
      "text/html": [
       "<ol class=list-inline>\n",
       "\t<li>66</li>\n",
       "\t<li>32</li>\n",
       "</ol>\n"
      ],
      "text/latex": [
       "\\begin{enumerate*}\n",
       "\\item 66\n",
       "\\item 32\n",
       "\\end{enumerate*}\n"
      ],
      "text/markdown": [
       "1. 66\n",
       "2. 32\n",
       "\n",
       "\n"
      ],
      "text/plain": [
       "[1] 66 32"
      ]
     },
     "metadata": {},
     "output_type": "display_data"
    }
   ],
   "source": [
    "dim(datos)"
   ]
  },
  {
   "cell_type": "code",
   "execution_count": 5,
   "metadata": {},
   "outputs": [],
   "source": [
    "datos$demog_sexo = factor(datos$demog_sexo, levels = c(2,1), labels = c(\"Masculino\",\"Femenino\"))\n",
    "datos$demog_niv_educ = factor(datos$demog_niv_educ, levels = c(1,2,3,4,5,6,7,8,9), labels = c(\"PRIMARIA\",\"BACHILLER\",\"UNIVERSITARIO\",\"TECNICO\",\"TECNOLOGO\",\"PROFESIONAL\",\"ESPECIALIZACION\",\"MAESTRIA\",\"DOCTORADO\"))\n",
    "datos$sustancia_consumo = factor(datos$sustancia_consumo, levels = c(1,2,3,4), labels = c(\"ALCOHOL\",\"MARIHUANA\",\"COCAINA\",\"POLICONSUMO\"))\n",
    "datos$sustancia_tiempo_consumo = factor(datos$sustancia_tiempo_consumo, levels = c(1,2,3,4,5,6), labels = c(\"0-1 AÑO\",\"2-5 AÑOS\",\"6-10 AÑOS\",\"11-14 AÑOS\",\"15- 19 AÑOS\",\"20-\"))\n",
    "datos$moca_punt_cat = factor(datos$moca_punt_cat, levels = c(2,1), labels = c(\"NORMAL\",\"PROBABLE TC\"))\n",
    "datos$moca_VISUESPACIAL = factor(datos$moca_VISUESPACIAL, levels = c(1,0), labels = c(\"NORMAL\",\"PROBABLE TC\"))\n",
    "datos$moca_IDENTIFICACION = factor(datos$moca_IDENTIFICACION, levels = c(1,0), labels = c(\"NORMAL\",\"PROBABLE TC\"))\n",
    "datos$moca_MEMORIA = factor(datos$moca_MEMORIA, levels = c(1,0), labels = c(\"NORMAL\",\"PROBABLE TC\"))\n",
    "datos$moca_ATENCION = factor(datos$moca_ATENCION, levels = c(1,0), labels = c(\"NORMAL\",\"PROBABLE TC\"))\n",
    "datos$moca_LENGUAJE = factor(datos$moca_LENGUAJE, levels = c(1,0), labels = c(\"NORMAL\",\"PROBABLE TC\"))\n",
    "datos$moca_ABSTRACCION  = factor(datos$moca_ABSTRACCION , levels = c(1,0), labels = c(\"NORMAL\",\"PROBABLE TC\"))\n",
    "datos$moca_ORIENTACION = factor(datos$moca_ORIENTACION, levels = c(1,0), labels = c(\"NORMAL\",\"PROBABLE TC\"))\n",
    "datos$stroop_P_cat = factor(datos$stroop_P_cat, levels = c(1,2), labels = c(\"NORMAL\",\"ALTERADO\"))\n",
    "datos$stroop_C_cat = factor(datos$stroop_C_cat, levels = c(1,2), labels = c(\"NORMAL\",\"ALTERADO\"))\n",
    "datos$stroop_PC_cat = factor(datos$stroop_PC_cat, levels = c(1,2), labels = c(\"NORMAL\",\"ALTERADO\"))\n",
    "datos$stroop_I_cat = factor(datos$stroop_I_cat, levels = c(1,2), labels = c(\"NORMAL\",\"ALTERADO\"))\n",
    "datos$stroop_alterac = factor(datos$stroop_alterac, levels = c(1,2,3,4,5,6), labels = c(\"DAÑO CEREBRAL , DISLEXIA PURA\",\"LESION H IZQ O TIPO DIFUSO\",\"LESION H DER\",\"LES PRE FRONTAL AISLADA LADO IZQ O BILATERAL\",\"PACIENTE CON RASGOS PSIQUIATRICOS\",\"SIN ALTERACION\"))\n",
    "# datos$mmpi_valid = factor(datos$mmpi_valid, levels = c(1,0), labels = c(\"VALIDO\",\"NO VALIDO\"))\n",
    "datos$mmpi_hs_cat = factor(datos$mmpi_hs_cat, levels = c(1,0), labels = c(\"PATOLOGICO\",\"NO PATOLOGICO\"))\n",
    "datos$mmpi_d_cat = factor(datos$mmpi_d_cat, levels = c(1,0), labels = c(\"PATOLOGICO\",\"NO PATOLOGICO\"))\n",
    "datos$mmpi_hy_cat = factor(datos$mmpi_hy_cat, levels = c(1,0), labels = c(\"PATOLOGICO\",\"NO PATOLOGICO\"))\n",
    "datos$mmpi_pd_cat = factor(datos$mmpi_pd_cat, levels = c(1,0), labels = c(\"PATOLOGICO\",\"NO PATOLOGICO\"))\n",
    "datos$mmpi_mf_cat = factor(datos$mmpi_mf_cat, levels = c(1,0), labels = c(\"PATOLOGICO\",\"NO PATOLOGICO\"))\n",
    "datos$mmpi_pa_cat = factor(datos$mmpi_pa_cat, levels = c(1,0), labels = c(\"PATOLOGICO\",\"NO PATOLOGICO\"))\n",
    "datos$mmpi_pt_cat = factor(datos$mmpi_pt_cat, levels = c(1,0), labels = c(\"PATOLOGICO\",\"NO PATOLOGICO\"))\n",
    "datos$mmpi_sc_cat = factor(datos$mmpi_sc_cat, levels = c(1,0), labels = c(\"PATOLOGICO\",\"NO PATOLOGICO\"))\n",
    "datos$mmpi_ma_cat = factor(datos$mmpi_ma_cat, levels = c(1,0), labels = c(\"PATOLOGICO\",\"NO PATOLOGICO\"))\n",
    "datos$mmpi_si_cat = factor(datos$mmpi_si_cat, levels = c(1,0), labels = c(\"PATOLOGICO\",\"NO PATOLOGICO\"))\n",
    "datos$violencia_fis_cat = factor(datos$violencia_fis_cat, levels = c(1,0), labels = c(\"Si\",\"No\"))\n",
    "datos$violencia_sex_cat = factor(datos$violencia_sex_cat, levels = c(1,0), labels = c(\"Si\",\"No\"))\n",
    "datos$violencia_psico_cat = factor(datos$violencia_psico_cat, levels = c(1,0), labels = c(\"Si\",\"No\"))\n",
    "datos$violencia_sobrep_cat = factor(datos$violencia_sobrep_cat, levels = c(1,0), labels = c(\"Si\",\"No\"))"
   ]
  },
  {
   "cell_type": "code",
   "execution_count": 6,
   "metadata": {},
   "outputs": [
    {
     "name": "stdout",
     "output_type": "stream",
     "text": [
      "'data.frame':\t66 obs. of  32 variables:\n",
      " $ demog_edad              : int  63 20 36 52 23 30 23 23 30 30 ...\n",
      " $ demog_sexo              : Factor w/ 2 levels \"Masculino\",\"Femenino\": 1 1 2 1 1 1 1 1 1 1 ...\n",
      " $ demog_niv_educ          : Factor w/ 9 levels \"PRIMARIA\",\"BACHILLER\",..: 6 2 6 6 3 4 2 3 6 7 ...\n",
      " $ sustancia_consumo       : Factor w/ 4 levels \"ALCOHOL\",\"MARIHUANA\",..: 2 1 3 2 4 1 4 1 2 1 ...\n",
      " $ sustancia_tiempo_consumo: Factor w/ 6 levels \"0-1 AÑO\",\"2-5 AÑOS\",..: 6 3 3 6 3 5 3 3 3 4 ...\n",
      " $ moca_punt_cat           : Factor w/ 2 levels \"NORMAL\",\"PROBABLE TC\": 2 2 2 2 1 2 2 1 2 2 ...\n",
      " $ moca_VISUESPACIAL       : Factor w/ 2 levels \"NORMAL\",\"PROBABLE TC\": 1 2 2 2 1 1 2 1 2 2 ...\n",
      " $ moca_IDENTIFICACION     : Factor w/ 2 levels \"NORMAL\",\"PROBABLE TC\": 1 1 1 1 1 1 1 1 1 1 ...\n",
      " $ moca_MEMORIA            : Factor w/ 2 levels \"NORMAL\",\"PROBABLE TC\": 2 2 2 2 2 2 2 2 2 2 ...\n",
      " $ moca_ATENCION           : Factor w/ 2 levels \"NORMAL\",\"PROBABLE TC\": 2 2 2 1 1 2 2 1 2 1 ...\n",
      " $ moca_LENGUAJE           : Factor w/ 2 levels \"NORMAL\",\"PROBABLE TC\": 1 2 1 1 1 1 1 1 1 1 ...\n",
      " $ moca_ABSTRACCION        : Factor w/ 2 levels \"NORMAL\",\"PROBABLE TC\": 1 1 2 1 2 2 1 1 2 2 ...\n",
      " $ moca_ORIENTACION        : Factor w/ 2 levels \"NORMAL\",\"PROBABLE TC\": 1 1 1 1 1 1 1 1 2 1 ...\n",
      " $ stroop_P_cat            : Factor w/ 2 levels \"NORMAL\",\"ALTERADO\": 2 1 2 1 1 1 1 1 1 2 ...\n",
      " $ stroop_C_cat            : Factor w/ 2 levels \"NORMAL\",\"ALTERADO\": 1 2 2 2 1 1 2 1 1 2 ...\n",
      " $ stroop_PC_cat           : Factor w/ 2 levels \"NORMAL\",\"ALTERADO\": 2 1 2 2 1 1 2 1 1 2 ...\n",
      " $ stroop_I_cat            : Factor w/ 2 levels \"NORMAL\",\"ALTERADO\": 2 2 1 2 2 2 2 2 2 1 ...\n",
      " $ stroop_alterac          : Factor w/ 6 levels \"DAÑO CEREBRAL , DISLEXIA PURA\",..: 6 6 5 3 6 6 3 6 6 5 ...\n",
      " $ mmpi_hs_cat             : Factor w/ 2 levels \"PATOLOGICO\",\"NO PATOLOGICO\": 1 2 1 1 2 1 2 1 2 1 ...\n",
      " $ mmpi_d_cat              : Factor w/ 2 levels \"PATOLOGICO\",\"NO PATOLOGICO\": 1 2 1 2 2 1 1 1 2 2 ...\n",
      " $ mmpi_hy_cat             : Factor w/ 2 levels \"PATOLOGICO\",\"NO PATOLOGICO\": 2 1 1 2 2 1 1 1 1 1 ...\n",
      " $ mmpi_pd_cat             : Factor w/ 2 levels \"PATOLOGICO\",\"NO PATOLOGICO\": 1 1 1 2 1 1 2 1 1 1 ...\n",
      " $ mmpi_mf_cat             : Factor w/ 2 levels \"PATOLOGICO\",\"NO PATOLOGICO\": 2 1 1 2 1 2 2 2 1 1 ...\n",
      " $ mmpi_pa_cat             : Factor w/ 2 levels \"PATOLOGICO\",\"NO PATOLOGICO\": 1 1 2 1 2 1 1 1 1 1 ...\n",
      " $ mmpi_pt_cat             : Factor w/ 2 levels \"PATOLOGICO\",\"NO PATOLOGICO\": 1 1 2 2 1 1 1 1 1 1 ...\n",
      " $ mmpi_sc_cat             : Factor w/ 2 levels \"PATOLOGICO\",\"NO PATOLOGICO\": 1 1 1 2 1 1 1 1 1 1 ...\n",
      " $ mmpi_ma_cat             : Factor w/ 2 levels \"PATOLOGICO\",\"NO PATOLOGICO\": 1 1 1 2 1 1 1 1 1 1 ...\n",
      " $ mmpi_si_cat             : Factor w/ 2 levels \"PATOLOGICO\",\"NO PATOLOGICO\": 1 1 1 1 1 1 1 2 1 1 ...\n",
      " $ violencia_fis_cat       : Factor w/ 2 levels \"Si\",\"No\": 2 1 2 2 1 1 1 1 1 2 ...\n",
      " $ violencia_sex_cat       : Factor w/ 2 levels \"Si\",\"No\": 2 2 2 2 1 2 1 2 2 2 ...\n",
      " $ violencia_psico_cat     : Factor w/ 2 levels \"Si\",\"No\": 1 1 1 1 1 1 1 1 1 1 ...\n",
      " $ violencia_sobrep_cat    : Factor w/ 2 levels \"Si\",\"No\": 1 2 1 1 1 1 1 1 1 1 ...\n"
     ]
    }
   ],
   "source": [
    "str(datos)"
   ]
  },
  {
   "cell_type": "code",
   "execution_count": 7,
   "metadata": {},
   "outputs": [
    {
     "data": {
      "text/html": [
       "<table>\n",
       "<thead><tr><th></th><th scope=col>tipo_var</th></tr></thead>\n",
       "<tbody>\n",
       "\t<tr><th scope=row>demog_edad</th><td>integer</td></tr>\n",
       "\t<tr><th scope=row>demog_sexo</th><td>factor </td></tr>\n",
       "\t<tr><th scope=row>demog_niv_educ</th><td>factor </td></tr>\n",
       "\t<tr><th scope=row>sustancia_consumo</th><td>factor </td></tr>\n",
       "\t<tr><th scope=row>sustancia_tiempo_consumo</th><td>factor </td></tr>\n",
       "\t<tr><th scope=row>moca_punt_cat</th><td>factor </td></tr>\n",
       "\t<tr><th scope=row>moca_VISUESPACIAL</th><td>factor </td></tr>\n",
       "\t<tr><th scope=row>moca_IDENTIFICACION</th><td>factor </td></tr>\n",
       "\t<tr><th scope=row>moca_MEMORIA</th><td>factor </td></tr>\n",
       "\t<tr><th scope=row>moca_ATENCION</th><td>factor </td></tr>\n",
       "\t<tr><th scope=row>moca_LENGUAJE</th><td>factor </td></tr>\n",
       "\t<tr><th scope=row>moca_ABSTRACCION</th><td>factor </td></tr>\n",
       "\t<tr><th scope=row>moca_ORIENTACION</th><td>factor </td></tr>\n",
       "\t<tr><th scope=row>stroop_P_cat</th><td>factor </td></tr>\n",
       "\t<tr><th scope=row>stroop_C_cat</th><td>factor </td></tr>\n",
       "\t<tr><th scope=row>stroop_PC_cat</th><td>factor </td></tr>\n",
       "\t<tr><th scope=row>stroop_I_cat</th><td>factor </td></tr>\n",
       "\t<tr><th scope=row>stroop_alterac</th><td>factor </td></tr>\n",
       "\t<tr><th scope=row>mmpi_hs_cat</th><td>factor </td></tr>\n",
       "\t<tr><th scope=row>mmpi_d_cat</th><td>factor </td></tr>\n",
       "\t<tr><th scope=row>mmpi_hy_cat</th><td>factor </td></tr>\n",
       "\t<tr><th scope=row>mmpi_pd_cat</th><td>factor </td></tr>\n",
       "\t<tr><th scope=row>mmpi_mf_cat</th><td>factor </td></tr>\n",
       "\t<tr><th scope=row>mmpi_pa_cat</th><td>factor </td></tr>\n",
       "\t<tr><th scope=row>mmpi_pt_cat</th><td>factor </td></tr>\n",
       "\t<tr><th scope=row>mmpi_sc_cat</th><td>factor </td></tr>\n",
       "\t<tr><th scope=row>mmpi_ma_cat</th><td>factor </td></tr>\n",
       "\t<tr><th scope=row>mmpi_si_cat</th><td>factor </td></tr>\n",
       "\t<tr><th scope=row>violencia_fis_cat</th><td>factor </td></tr>\n",
       "\t<tr><th scope=row>violencia_sex_cat</th><td>factor </td></tr>\n",
       "\t<tr><th scope=row>violencia_psico_cat</th><td>factor </td></tr>\n",
       "\t<tr><th scope=row>violencia_sobrep_cat</th><td>factor </td></tr>\n",
       "</tbody>\n",
       "</table>\n"
      ],
      "text/latex": [
       "\\begin{tabular}{r|l}\n",
       "  & tipo\\_var\\\\\n",
       "\\hline\n",
       "\tdemog\\_edad & integer\\\\\n",
       "\tdemog\\_sexo & factor \\\\\n",
       "\tdemog\\_niv\\_educ & factor \\\\\n",
       "\tsustancia\\_consumo & factor \\\\\n",
       "\tsustancia\\_tiempo\\_consumo & factor \\\\\n",
       "\tmoca\\_punt\\_cat & factor \\\\\n",
       "\tmoca\\_VISUESPACIAL & factor \\\\\n",
       "\tmoca\\_IDENTIFICACION & factor \\\\\n",
       "\tmoca\\_MEMORIA & factor \\\\\n",
       "\tmoca\\_ATENCION & factor \\\\\n",
       "\tmoca\\_LENGUAJE & factor \\\\\n",
       "\tmoca\\_ABSTRACCION & factor \\\\\n",
       "\tmoca\\_ORIENTACION & factor \\\\\n",
       "\tstroop\\_P\\_cat & factor \\\\\n",
       "\tstroop\\_C\\_cat & factor \\\\\n",
       "\tstroop\\_PC\\_cat & factor \\\\\n",
       "\tstroop\\_I\\_cat & factor \\\\\n",
       "\tstroop\\_alterac & factor \\\\\n",
       "\tmmpi\\_hs\\_cat & factor \\\\\n",
       "\tmmpi\\_d\\_cat & factor \\\\\n",
       "\tmmpi\\_hy\\_cat & factor \\\\\n",
       "\tmmpi\\_pd\\_cat & factor \\\\\n",
       "\tmmpi\\_mf\\_cat & factor \\\\\n",
       "\tmmpi\\_pa\\_cat & factor \\\\\n",
       "\tmmpi\\_pt\\_cat & factor \\\\\n",
       "\tmmpi\\_sc\\_cat & factor \\\\\n",
       "\tmmpi\\_ma\\_cat & factor \\\\\n",
       "\tmmpi\\_si\\_cat & factor \\\\\n",
       "\tviolencia\\_fis\\_cat & factor \\\\\n",
       "\tviolencia\\_sex\\_cat & factor \\\\\n",
       "\tviolencia\\_psico\\_cat & factor \\\\\n",
       "\tviolencia\\_sobrep\\_cat & factor \\\\\n",
       "\\end{tabular}\n"
      ],
      "text/markdown": [
       "\n",
       "| <!--/--> | tipo_var |\n",
       "|---|---|\n",
       "| demog_edad | integer |\n",
       "| demog_sexo | factor  |\n",
       "| demog_niv_educ | factor  |\n",
       "| sustancia_consumo | factor  |\n",
       "| sustancia_tiempo_consumo | factor  |\n",
       "| moca_punt_cat | factor  |\n",
       "| moca_VISUESPACIAL | factor  |\n",
       "| moca_IDENTIFICACION | factor  |\n",
       "| moca_MEMORIA | factor  |\n",
       "| moca_ATENCION | factor  |\n",
       "| moca_LENGUAJE | factor  |\n",
       "| moca_ABSTRACCION | factor  |\n",
       "| moca_ORIENTACION | factor  |\n",
       "| stroop_P_cat | factor  |\n",
       "| stroop_C_cat | factor  |\n",
       "| stroop_PC_cat | factor  |\n",
       "| stroop_I_cat | factor  |\n",
       "| stroop_alterac | factor  |\n",
       "| mmpi_hs_cat | factor  |\n",
       "| mmpi_d_cat | factor  |\n",
       "| mmpi_hy_cat | factor  |\n",
       "| mmpi_pd_cat | factor  |\n",
       "| mmpi_mf_cat | factor  |\n",
       "| mmpi_pa_cat | factor  |\n",
       "| mmpi_pt_cat | factor  |\n",
       "| mmpi_sc_cat | factor  |\n",
       "| mmpi_ma_cat | factor  |\n",
       "| mmpi_si_cat | factor  |\n",
       "| violencia_fis_cat | factor  |\n",
       "| violencia_sex_cat | factor  |\n",
       "| violencia_psico_cat | factor  |\n",
       "| violencia_sobrep_cat | factor  |\n",
       "\n"
      ],
      "text/plain": [
       "                         tipo_var\n",
       "demog_edad               integer \n",
       "demog_sexo               factor  \n",
       "demog_niv_educ           factor  \n",
       "sustancia_consumo        factor  \n",
       "sustancia_tiempo_consumo factor  \n",
       "moca_punt_cat            factor  \n",
       "moca_VISUESPACIAL        factor  \n",
       "moca_IDENTIFICACION      factor  \n",
       "moca_MEMORIA             factor  \n",
       "moca_ATENCION            factor  \n",
       "moca_LENGUAJE            factor  \n",
       "moca_ABSTRACCION         factor  \n",
       "moca_ORIENTACION         factor  \n",
       "stroop_P_cat             factor  \n",
       "stroop_C_cat             factor  \n",
       "stroop_PC_cat            factor  \n",
       "stroop_I_cat             factor  \n",
       "stroop_alterac           factor  \n",
       "mmpi_hs_cat              factor  \n",
       "mmpi_d_cat               factor  \n",
       "mmpi_hy_cat              factor  \n",
       "mmpi_pd_cat              factor  \n",
       "mmpi_mf_cat              factor  \n",
       "mmpi_pa_cat              factor  \n",
       "mmpi_pt_cat              factor  \n",
       "mmpi_sc_cat              factor  \n",
       "mmpi_ma_cat              factor  \n",
       "mmpi_si_cat              factor  \n",
       "violencia_fis_cat        factor  \n",
       "violencia_sex_cat        factor  \n",
       "violencia_psico_cat      factor  \n",
       "violencia_sobrep_cat     factor  "
      ]
     },
     "metadata": {},
     "output_type": "display_data"
    },
    {
     "data": {
      "text/html": [
       "31"
      ],
      "text/latex": [
       "31"
      ],
      "text/markdown": [
       "31"
      ],
      "text/plain": [
       "[1] 31"
      ]
     },
     "metadata": {},
     "output_type": "display_data"
    }
   ],
   "source": [
    "info_val=data.frame(unlist(sapply(datos, class)))\n",
    "colnames(info_val)=\"tipo_var\"\n",
    "info_val\n",
    "datos_categoricas=colnames(datos)[info_val$tipo_var==\"factor\"]\n",
    "length(datos_categoricas)"
   ]
  },
  {
   "cell_type": "markdown",
   "metadata": {},
   "source": [
    "# Variables de interés\n",
    "\n",
    "matrato físico, psicologico sexual, negligencia, sobreproteción.\n",
    "policonsumidores, alcoholicos, otras sustancias\n",
    "MMPI con todas\n",
    "Stroop\n",
    "\n",
    "* Eliminar las que tienen en LFK MMPI invalido las 3 escala de validez\n",
    "* Relación entre las 5 formas de violencia "
   ]
  },
  {
   "cell_type": "markdown",
   "metadata": {},
   "source": [
    "# Correlaciones "
   ]
  },
  {
   "cell_type": "markdown",
   "metadata": {},
   "source": [
    "## entre variables categóricas.\n",
    "Test de independencia estadística:\n",
    "* [Prueba Chi cuadrado](https://www.ncbi.nlm.nih.gov/pmc/articles/PMC3900058/)\n",
    "* [Prueba exacta de Fisher](http://www.biostathandbook.com/fishers.html)\n",
    "El test exacto de fisher se utiliza cuando no se cumplen los presupuestos del chi cuadrado."
   ]
  },
  {
   "cell_type": "code",
   "execution_count": 8,
   "metadata": {},
   "outputs": [
    {
     "name": "stdout",
     "output_type": "stream",
     "text": [
      "[1] \"Como producto de la combinación de las  31  variables categóricas, se evaluaron  465  hipótesis.\"\n"
     ]
    }
   ],
   "source": [
    "df_combin=data.frame(t(combn(datos_categoricas,2)))\n",
    "print(paste(\"Como producto de la combinación de las \",length(datos_categoricas),\" variables categóricas, se evaluaron \",nrow(df_combin),\" hipótesis.\"))"
   ]
  },
  {
   "cell_type": "code",
   "execution_count": null,
   "metadata": {},
   "outputs": [],
   "source": [
    "for (ith_row in 1:nrow(df_combin)){\n",
    "    test_corrs=correlaciones_categoricas(as.character(unlist(datos[as.character(df_combin[ith_row,1])])),\n",
    "                                         as.character(unlist(datos[as.character(df_combin[ith_row,2])])),\n",
    "                                         as.character(df_combin[ith_row,1]),\n",
    "                                         as.character(df_combin[ith_row,2]))\n",
    "    if(test_corrs[2]<0.0505){\n",
    "        print(paste(\"Combinación:\",ith_row,\" || VARIABLES:\",as.character(df_combin[ith_row,1]),as.character(df_combin[ith_row,2])))\n",
    "        print(test_corrs[1])\n",
    "        print(\"********************************************\")\n",
    "    }\n",
    "                \n",
    "}"
   ]
  },
  {
   "cell_type": "code",
   "execution_count": null,
   "metadata": {},
   "outputs": [],
   "source": [
    "outputs=data.frame(variable_1=character(),\n",
    "                   variable_2=character(),\n",
    "                   resultado=character(), \n",
    "                   valor_p=numeric(), \n",
    "                   stringsAsFactors=FALSE) \n",
    "\n",
    "df_combin=data.frame(t(combn(datos_categoricas,2)))\n",
    "for (ith_row in 1:nrow(df_combin)){\n",
    "    test_corrs=correlaciones_categoricas(as.character(unlist(datos[as.character(df_combin[ith_row,1])])),\n",
    "                                         as.character(unlist(datos[as.character(df_combin[ith_row,2])])),\n",
    "                                         as.character(df_combin[ith_row,1]),\n",
    "                                         as.character(df_combin[ith_row,2]))\n",
    "    outputs=rbind(outputs, data.frame(variable_1=as.character(df_combin[ith_row,1]),\n",
    "                                      variable_2=as.character(df_combin[ith_row,2]),\n",
    "                                      resultado=test_corrs[1], \n",
    "                                      valor_p=as.numeric(test_corrs[2])), \n",
    "                                      stringsAsFactors=FALSE) \n",
    "}"
   ]
  },
  {
   "cell_type": "code",
   "execution_count": 42,
   "metadata": {},
   "outputs": [
    {
     "data": {
      "text/html": [
       "<table>\n",
       "<thead><tr><th></th><th scope=col>variable_1</th><th scope=col>variable_2</th><th scope=col>valor_p</th></tr></thead>\n",
       "<tbody>\n",
       "\t<tr><th scope=row>118</th><td>moca_punt_cat       </td><td>moca_ATENCION       </td><td>0.000               </td></tr>\n",
       "\t<tr><th scope=row>137</th><td>moca_punt_cat       </td><td>violencia_fis_cat   </td><td>0.001               </td></tr>\n",
       "\t<tr><th scope=row>460</th><td>violencia_fis_cat   </td><td>violencia_sex_cat   </td><td>0.001               </td></tr>\n",
       "\t<tr><th scope=row>376</th><td>mmpi_hs_cat         </td><td>mmpi_hy_cat         </td><td>0.002               </td></tr>\n",
       "\t<tr><th scope=row>297</th><td>stroop_P_cat        </td><td>stroop_I_cat        </td><td>0.005               </td></tr>\n",
       "\t<tr><th scope=row>214</th><td>moca_ATENCION       </td><td>moca_ABSTRACCION    </td><td>0.007               </td></tr>\n",
       "\t<tr><th scope=row>326</th><td>stroop_C_cat        </td><td>violencia_fis_cat   </td><td>0.011               </td></tr>\n",
       "\t<tr><th scope=row>115</th><td>moca_punt_cat       </td><td>moca_VISUESPACIAL   </td><td>0.012               </td></tr>\n",
       "\t<tr><th scope=row>375</th><td>mmpi_hs_cat         </td><td>mmpi_d_cat          </td><td>0.013               </td></tr>\n",
       "\t<tr><th scope=row>432</th><td>mmpi_pa_cat         </td><td>mmpi_ma_cat         </td><td>0.013               </td></tr>\n",
       "\t<tr><th scope=row>138</th><td>moca_punt_cat       </td><td>violencia_sex_cat   </td><td>0.014               </td></tr>\n",
       "\t<tr><th scope=row>392</th><td>mmpi_d_cat          </td><td>mmpi_pt_cat         </td><td>0.014               </td></tr>\n",
       "\t<tr><th scope=row>403</th><td>mmpi_hy_cat         </td><td>mmpi_pt_cat         </td><td>0.014               </td></tr>\n",
       "\t<tr><th scope=row>120</th><td>moca_punt_cat       </td><td>moca_ABSTRACCION    </td><td>0.017               </td></tr>\n",
       "\t<tr><th scope=row>131</th><td>moca_punt_cat       </td><td>mmpi_mf_cat         </td><td>0.019               </td></tr>\n",
       "\t<tr><th scope=row>132</th><td>moca_punt_cat       </td><td>mmpi_pa_cat         </td><td>0.019               </td></tr>\n",
       "\t<tr><th scope=row>226</th><td>moca_ATENCION       </td><td>mmpi_pa_cat         </td><td>0.022               </td></tr>\n",
       "\t<tr><th scope=row>133</th><td>moca_punt_cat       </td><td>mmpi_pt_cat         </td><td>0.027               </td></tr>\n",
       "\t<tr><th scope=row>144</th><td>moca_VISUESPACIAL   </td><td>moca_LENGUAJE       </td><td>0.029               </td></tr>\n",
       "\t<tr><th scope=row>430</th><td>mmpi_pa_cat         </td><td>mmpi_pt_cat         </td><td>0.037               </td></tr>\n",
       "\t<tr><th scope=row>388</th><td>mmpi_d_cat          </td><td>mmpi_hy_cat         </td><td>0.047               </td></tr>\n",
       "\t<tr><th scope=row>347</th><td>stroop_I_cat        </td><td>mmpi_hs_cat         </td><td>0.050               </td></tr>\n",
       "\t<tr><th scope=row>425</th><td>mmpi_mf_cat         </td><td>mmpi_si_cat         </td><td>0.050               </td></tr>\n",
       "\t<tr><th scope=row>123</th><td>moca_punt_cat       </td><td>stroop_C_cat        </td><td>0.053               </td></tr>\n",
       "\t<tr><th scope=row>442</th><td>mmpi_pt_cat         </td><td>violencia_sex_cat   </td><td>0.053               </td></tr>\n",
       "\t<tr><th scope=row>426</th><td>mmpi_mf_cat         </td><td>violencia_fis_cat   </td><td>0.066               </td></tr>\n",
       "\t<tr><th scope=row>7</th><td>demog_sexo          </td><td>moca_MEMORIA        </td><td>0.071               </td></tr>\n",
       "\t<tr><th scope=row>117</th><td>moca_punt_cat       </td><td>moca_MEMORIA        </td><td>0.071               </td></tr>\n",
       "\t<tr><th scope=row>213</th><td>moca_ATENCION       </td><td>moca_LENGUAJE       </td><td>0.072               </td></tr>\n",
       "\t<tr><th scope=row>295</th><td>stroop_P_cat        </td><td>stroop_C_cat        </td><td>0.073               </td></tr>\n",
       "\t<tr><th scope=row>393</th><td>mmpi_d_cat          </td><td>mmpi_sc_cat         </td><td>0.074               </td></tr>\n",
       "\t<tr><th scope=row>156</th><td>moca_VISUESPACIAL   </td><td>mmpi_mf_cat         </td><td>0.079               </td></tr>\n",
       "\t<tr><th scope=row>385</th><td>mmpi_hs_cat         </td><td>violencia_sex_cat   </td><td>0.082               </td></tr>\n",
       "\t<tr><th scope=row>438</th><td>mmpi_pt_cat         </td><td>mmpi_sc_cat         </td><td>0.087               </td></tr>\n",
       "\t<tr><th scope=row>265</th><td>moca_ABSTRACCION    </td><td>mmpi_pd_cat         </td><td>0.088               </td></tr>\n",
       "\t<tr><th scope=row>166</th><td>moca_IDENTIFICACION </td><td>moca_MEMORIA        </td><td>0.090               </td></tr>\n",
       "\t<tr><th scope=row>255</th><td>moca_LENGUAJE       </td><td>violencia_sobrep_cat</td><td>0.090               </td></tr>\n",
       "\t<tr><th scope=row>379</th><td>mmpi_hs_cat         </td><td>mmpi_pa_cat         </td><td>0.096               </td></tr>\n",
       "</tbody>\n",
       "</table>\n"
      ],
      "text/latex": [
       "\\begin{tabular}{r|lll}\n",
       "  & variable\\_1 & variable\\_2 & valor\\_p\\\\\n",
       "\\hline\n",
       "\t118 & moca\\_punt\\_cat       & moca\\_ATENCION         & 0.000                  \\\\\n",
       "\t137 & moca\\_punt\\_cat        & violencia\\_fis\\_cat    & 0.001                   \\\\\n",
       "\t460 & violencia\\_fis\\_cat    & violencia\\_sex\\_cat    & 0.001                   \\\\\n",
       "\t376 & mmpi\\_hs\\_cat          & mmpi\\_hy\\_cat          & 0.002                   \\\\\n",
       "\t297 & stroop\\_P\\_cat         & stroop\\_I\\_cat         & 0.005                   \\\\\n",
       "\t214 & moca\\_ATENCION        & moca\\_ABSTRACCION     & 0.007                 \\\\\n",
       "\t326 & stroop\\_C\\_cat         & violencia\\_fis\\_cat    & 0.011                   \\\\\n",
       "\t115 & moca\\_punt\\_cat       & moca\\_VISUESPACIAL     & 0.012                  \\\\\n",
       "\t375 & mmpi\\_hs\\_cat          & mmpi\\_d\\_cat           & 0.013                   \\\\\n",
       "\t432 & mmpi\\_pa\\_cat          & mmpi\\_ma\\_cat          & 0.013                   \\\\\n",
       "\t138 & moca\\_punt\\_cat        & violencia\\_sex\\_cat    & 0.014                   \\\\\n",
       "\t392 & mmpi\\_d\\_cat           & mmpi\\_pt\\_cat          & 0.014                   \\\\\n",
       "\t403 & mmpi\\_hy\\_cat          & mmpi\\_pt\\_cat          & 0.014                   \\\\\n",
       "\t120 & moca\\_punt\\_cat       & moca\\_ABSTRACCION      & 0.017                  \\\\\n",
       "\t131 & moca\\_punt\\_cat        & mmpi\\_mf\\_cat          & 0.019                   \\\\\n",
       "\t132 & moca\\_punt\\_cat        & mmpi\\_pa\\_cat          & 0.019                   \\\\\n",
       "\t226 & moca\\_ATENCION          & mmpi\\_pa\\_cat          & 0.022                   \\\\\n",
       "\t133 & moca\\_punt\\_cat        & mmpi\\_pt\\_cat          & 0.027                   \\\\\n",
       "\t144 & moca\\_VISUESPACIAL    & moca\\_LENGUAJE        & 0.029                 \\\\\n",
       "\t430 & mmpi\\_pa\\_cat          & mmpi\\_pt\\_cat          & 0.037                   \\\\\n",
       "\t388 & mmpi\\_d\\_cat           & mmpi\\_hy\\_cat          & 0.047                   \\\\\n",
       "\t347 & stroop\\_I\\_cat         & mmpi\\_hs\\_cat          & 0.050                   \\\\\n",
       "\t425 & mmpi\\_mf\\_cat          & mmpi\\_si\\_cat          & 0.050                   \\\\\n",
       "\t123 & moca\\_punt\\_cat        & stroop\\_C\\_cat         & 0.053                   \\\\\n",
       "\t442 & mmpi\\_pt\\_cat          & violencia\\_sex\\_cat    & 0.053                   \\\\\n",
       "\t426 & mmpi\\_mf\\_cat          & violencia\\_fis\\_cat    & 0.066                   \\\\\n",
       "\t7 & demog\\_sexo           & moca\\_MEMORIA         & 0.071                 \\\\\n",
       "\t117 & moca\\_punt\\_cat       & moca\\_MEMORIA          & 0.071                  \\\\\n",
       "\t213 & moca\\_ATENCION        & moca\\_LENGUAJE        & 0.072                 \\\\\n",
       "\t295 & stroop\\_P\\_cat         & stroop\\_C\\_cat         & 0.073                   \\\\\n",
       "\t393 & mmpi\\_d\\_cat           & mmpi\\_sc\\_cat          & 0.074                   \\\\\n",
       "\t156 & moca\\_VISUESPACIAL      & mmpi\\_mf\\_cat          & 0.079                   \\\\\n",
       "\t385 & mmpi\\_hs\\_cat          & violencia\\_sex\\_cat    & 0.082                   \\\\\n",
       "\t438 & mmpi\\_pt\\_cat          & mmpi\\_sc\\_cat          & 0.087                   \\\\\n",
       "\t265 & moca\\_ABSTRACCION       & mmpi\\_pd\\_cat          & 0.088                   \\\\\n",
       "\t166 & moca\\_IDENTIFICACION  & moca\\_MEMORIA         & 0.090                 \\\\\n",
       "\t255 & moca\\_LENGUAJE          & violencia\\_sobrep\\_cat & 0.090                   \\\\\n",
       "\t379 & mmpi\\_hs\\_cat          & mmpi\\_pa\\_cat          & 0.096                   \\\\\n",
       "\\end{tabular}\n"
      ],
      "text/markdown": [
       "\n",
       "| <!--/--> | variable_1 | variable_2 | valor_p |\n",
       "|---|---|---|---|\n",
       "| 118 | moca_punt_cat        | moca_ATENCION        | 0.000                |\n",
       "| 137 | moca_punt_cat        | violencia_fis_cat    | 0.001                |\n",
       "| 460 | violencia_fis_cat    | violencia_sex_cat    | 0.001                |\n",
       "| 376 | mmpi_hs_cat          | mmpi_hy_cat          | 0.002                |\n",
       "| 297 | stroop_P_cat         | stroop_I_cat         | 0.005                |\n",
       "| 214 | moca_ATENCION        | moca_ABSTRACCION     | 0.007                |\n",
       "| 326 | stroop_C_cat         | violencia_fis_cat    | 0.011                |\n",
       "| 115 | moca_punt_cat        | moca_VISUESPACIAL    | 0.012                |\n",
       "| 375 | mmpi_hs_cat          | mmpi_d_cat           | 0.013                |\n",
       "| 432 | mmpi_pa_cat          | mmpi_ma_cat          | 0.013                |\n",
       "| 138 | moca_punt_cat        | violencia_sex_cat    | 0.014                |\n",
       "| 392 | mmpi_d_cat           | mmpi_pt_cat          | 0.014                |\n",
       "| 403 | mmpi_hy_cat          | mmpi_pt_cat          | 0.014                |\n",
       "| 120 | moca_punt_cat        | moca_ABSTRACCION     | 0.017                |\n",
       "| 131 | moca_punt_cat        | mmpi_mf_cat          | 0.019                |\n",
       "| 132 | moca_punt_cat        | mmpi_pa_cat          | 0.019                |\n",
       "| 226 | moca_ATENCION        | mmpi_pa_cat          | 0.022                |\n",
       "| 133 | moca_punt_cat        | mmpi_pt_cat          | 0.027                |\n",
       "| 144 | moca_VISUESPACIAL    | moca_LENGUAJE        | 0.029                |\n",
       "| 430 | mmpi_pa_cat          | mmpi_pt_cat          | 0.037                |\n",
       "| 388 | mmpi_d_cat           | mmpi_hy_cat          | 0.047                |\n",
       "| 347 | stroop_I_cat         | mmpi_hs_cat          | 0.050                |\n",
       "| 425 | mmpi_mf_cat          | mmpi_si_cat          | 0.050                |\n",
       "| 123 | moca_punt_cat        | stroop_C_cat         | 0.053                |\n",
       "| 442 | mmpi_pt_cat          | violencia_sex_cat    | 0.053                |\n",
       "| 426 | mmpi_mf_cat          | violencia_fis_cat    | 0.066                |\n",
       "| 7 | demog_sexo           | moca_MEMORIA         | 0.071                |\n",
       "| 117 | moca_punt_cat        | moca_MEMORIA         | 0.071                |\n",
       "| 213 | moca_ATENCION        | moca_LENGUAJE        | 0.072                |\n",
       "| 295 | stroop_P_cat         | stroop_C_cat         | 0.073                |\n",
       "| 393 | mmpi_d_cat           | mmpi_sc_cat          | 0.074                |\n",
       "| 156 | moca_VISUESPACIAL    | mmpi_mf_cat          | 0.079                |\n",
       "| 385 | mmpi_hs_cat          | violencia_sex_cat    | 0.082                |\n",
       "| 438 | mmpi_pt_cat          | mmpi_sc_cat          | 0.087                |\n",
       "| 265 | moca_ABSTRACCION     | mmpi_pd_cat          | 0.088                |\n",
       "| 166 | moca_IDENTIFICACION  | moca_MEMORIA         | 0.090                |\n",
       "| 255 | moca_LENGUAJE        | violencia_sobrep_cat | 0.090                |\n",
       "| 379 | mmpi_hs_cat          | mmpi_pa_cat          | 0.096                |\n",
       "\n"
      ],
      "text/plain": [
       "    variable_1          variable_2           valor_p\n",
       "118 moca_punt_cat       moca_ATENCION        0.000  \n",
       "137 moca_punt_cat       violencia_fis_cat    0.001  \n",
       "460 violencia_fis_cat   violencia_sex_cat    0.001  \n",
       "376 mmpi_hs_cat         mmpi_hy_cat          0.002  \n",
       "297 stroop_P_cat        stroop_I_cat         0.005  \n",
       "214 moca_ATENCION       moca_ABSTRACCION     0.007  \n",
       "326 stroop_C_cat        violencia_fis_cat    0.011  \n",
       "115 moca_punt_cat       moca_VISUESPACIAL    0.012  \n",
       "375 mmpi_hs_cat         mmpi_d_cat           0.013  \n",
       "432 mmpi_pa_cat         mmpi_ma_cat          0.013  \n",
       "138 moca_punt_cat       violencia_sex_cat    0.014  \n",
       "392 mmpi_d_cat          mmpi_pt_cat          0.014  \n",
       "403 mmpi_hy_cat         mmpi_pt_cat          0.014  \n",
       "120 moca_punt_cat       moca_ABSTRACCION     0.017  \n",
       "131 moca_punt_cat       mmpi_mf_cat          0.019  \n",
       "132 moca_punt_cat       mmpi_pa_cat          0.019  \n",
       "226 moca_ATENCION       mmpi_pa_cat          0.022  \n",
       "133 moca_punt_cat       mmpi_pt_cat          0.027  \n",
       "144 moca_VISUESPACIAL   moca_LENGUAJE        0.029  \n",
       "430 mmpi_pa_cat         mmpi_pt_cat          0.037  \n",
       "388 mmpi_d_cat          mmpi_hy_cat          0.047  \n",
       "347 stroop_I_cat        mmpi_hs_cat          0.050  \n",
       "425 mmpi_mf_cat         mmpi_si_cat          0.050  \n",
       "123 moca_punt_cat       stroop_C_cat         0.053  \n",
       "442 mmpi_pt_cat         violencia_sex_cat    0.053  \n",
       "426 mmpi_mf_cat         violencia_fis_cat    0.066  \n",
       "7   demog_sexo          moca_MEMORIA         0.071  \n",
       "117 moca_punt_cat       moca_MEMORIA         0.071  \n",
       "213 moca_ATENCION       moca_LENGUAJE        0.072  \n",
       "295 stroop_P_cat        stroop_C_cat         0.073  \n",
       "393 mmpi_d_cat          mmpi_sc_cat          0.074  \n",
       "156 moca_VISUESPACIAL   mmpi_mf_cat          0.079  \n",
       "385 mmpi_hs_cat         violencia_sex_cat    0.082  \n",
       "438 mmpi_pt_cat         mmpi_sc_cat          0.087  \n",
       "265 moca_ABSTRACCION    mmpi_pd_cat          0.088  \n",
       "166 moca_IDENTIFICACION moca_MEMORIA         0.090  \n",
       "255 moca_LENGUAJE       violencia_sobrep_cat 0.090  \n",
       "379 mmpi_hs_cat         mmpi_pa_cat          0.096  "
      ]
     },
     "metadata": {},
     "output_type": "display_data"
    }
   ],
   "source": [
    "outputs=outputs[order(outputs$valor_p),]\n",
    "significativas=outputs[outputs$valor_p<0.1,]\n",
    "significativas[,c(1,2,4)]"
   ]
  },
  {
   "cell_type": "code",
   "execution_count": 43,
   "metadata": {},
   "outputs": [],
   "source": [
    "write.csv(outputs, \"correlaciones_1.csv\")"
   ]
  },
  {
   "cell_type": "markdown",
   "metadata": {},
   "source": [
    "# Análisis Multivariados"
   ]
  },
  {
   "cell_type": "markdown",
   "metadata": {},
   "source": [
    "## Correspondencias"
   ]
  },
  {
   "cell_type": "code",
   "execution_count": 13,
   "metadata": {},
   "outputs": [],
   "source": [
    "dmy = dummyVars(\" ~ .\", data = datos)\n",
    "trsf = data.frame(predict(dmy, newdata = datos))"
   ]
  },
  {
   "cell_type": "code",
   "execution_count": 14,
   "metadata": {},
   "outputs": [],
   "source": [
    "ca2 = CA(trsf, graph = FALSE)"
   ]
  },
  {
   "cell_type": "code",
   "execution_count": 15,
   "metadata": {},
   "outputs": [
    {
     "data": {
      "image/png": "[encoded data removed]",
      "text/plain": [
       "plot without title"
      ]
     },
     "metadata": {},
     "output_type": "display_data"
    }
   ],
   "source": [
    "plot(ca2,\n",
    "    cex=.15,\n",
    "    selectRow=\"contrib 50\")"
   ]
  },
  {
   "cell_type": "code",
   "execution_count": 16,
   "metadata": {},
   "outputs": [
    {
     "data": {
      "image/png": "[encoded data removed]",
      "text/plain": [
       "plot without title"
      ]
     },
     "metadata": {},
     "output_type": "display_data"
    }
   ],
   "source": [
    "plot(ca2,\n",
    "    shadowtext=TRUE,\n",
    "    unselect=.95,\n",
    "    cex=.25,\n",
    "#     selectRow=\"contrib 25\"\n",
    "      selectRow=\"cos2 50\"\n",
    "    )\n"
   ]
  },
  {
   "cell_type": "code",
   "execution_count": 48,
   "metadata": {},
   "outputs": [
    {
     "data": {
      "text/html": [
       "<strong>png:</strong> 2"
      ],
      "text/latex": [
       "\\textbf{png:} 2"
      ],
      "text/markdown": [
       "**png:** 2"
      ],
      "text/plain": [
       "png \n",
       "  2 "
      ]
     },
     "metadata": {},
     "output_type": "display_data"
    }
   ],
   "source": [
    "pdf(\"plano_correspondencias.pdf\", width = 12, height = 12)\n",
    "\n",
    "plot(ca2,\n",
    "    shadowtext=TRUE,\n",
    "    unselect=.95,\n",
    "    cex=.15#,\n",
    "#     selectRow=\"contrib 25\"\n",
    "    )\n",
    "# Step 3: Run dev.off() to create the file!\n",
    "dev.off()"
   ]
  },
  {
   "cell_type": "markdown",
   "metadata": {},
   "source": [
    "## Componentes principales\n",
    "* [PCA FactoMineR](http://factominer.free.fr/factomethods/principal-components-analysis.html)\n",
    "* [Intro PCA](http://www.sthda.com/english/articles/31-principal-component-methods-in-r-practical-guide/118-principal-component-analysis-in-r-prcomp-vs-princomp/)\n",
    "* [PCA practical gide](http://www.sthda.com/english/articles/31-principal-component-methods-in-r-practical-guide/112-pca-principal-component-analysis-essentials/)"
   ]
  },
  {
   "cell_type": "code",
   "execution_count": 54,
   "metadata": {},
   "outputs": [],
   "source": [
    "pca_vars= PCA(trsf, scale.unit=TRUE, ncp=5, graph=T)"
   ]
  },
  {
   "cell_type": "code",
   "execution_count": 61,
   "metadata": {},
   "outputs": [
    {
     "ename": "ERROR",
     "evalue": "Error in get_pca_var(res.pca): no se pudo encontrar la función \"get_pca_var\"\n",
     "output_type": "error",
     "traceback": [
      "Error in get_pca_var(res.pca): no se pudo encontrar la función \"get_pca_var\"\nTraceback:\n"
     ]
    }
   ],
   "source": [
    "# fviz_eig(res.pca)\n",
    "# get_pca_var(res.pca)"
   ]
  },
  {
   "cell_type": "code",
   "execution_count": 57,
   "metadata": {},
   "outputs": [
    {
     "data": {
      "image/png": "[encoded data removed]",
      "text/plain": [
       "plot without title"
      ]
     },
     "metadata": {},
     "output_type": "display_data"
    }
   ],
   "source": [
    "plot.PCA(pca_vars)"
   ]
  },
  {
   "cell_type": "code",
   "execution_count": 63,
   "metadata": {},
   "outputs": [
    {
     "name": "stdout",
     "output_type": "stream",
     "text": [
      "**Results for the Principal Component Analysis (PCA)**\n",
      "The analysis was performed on 66 individuals, described by 80 variables\n",
      "*The results are available in the following objects:\n",
      "\n",
      "   name               description                          \n",
      "1  \"$eig\"             \"eigenvalues\"                        \n",
      "2  \"$var\"             \"results for the variables\"          \n",
      "3  \"$var$coord\"       \"coord. for the variables\"           \n",
      "4  \"$var$cor\"         \"correlations variables - dimensions\"\n",
      "5  \"$var$cos2\"        \"cos2 for the variables\"             \n",
      "6  \"$var$contrib\"     \"contributions of the variables\"     \n",
      "7  \"$ind\"             \"results for the individuals\"        \n",
      "8  \"$ind$coord\"       \"coord. for the individuals\"         \n",
      "9  \"$ind$cos2\"        \"cos2 for the individuals\"           \n",
      "10 \"$ind$contrib\"     \"contributions of the individuals\"   \n",
      "11 \"$call\"            \"summary statistics\"                 \n",
      "12 \"$call$centre\"     \"mean of the variables\"              \n",
      "13 \"$call$ecart.type\" \"standard error of the variables\"    \n",
      "14 \"$call$row.w\"      \"weights for the individuals\"        \n",
      "15 \"$call$col.w\"      \"weights for the variables\"          \n"
     ]
    }
   ],
   "source": [
    "print(pca_vars)\n"
   ]
  }
 ],
 "metadata": {
  "kernelspec": {
   "display_name": "R",
   "language": "R",
   "name": "ir"
  },
  "language_info": {
   "codemirror_mode": "r",
   "file_extension": ".r",
   "mimetype": "text/x-r-source",
   "name": "R",
   "pygments_lexer": "r",
   "version": "3.6.1"
  }
 },
 "nbformat": 4,
 "nbformat_minor": 4
}
