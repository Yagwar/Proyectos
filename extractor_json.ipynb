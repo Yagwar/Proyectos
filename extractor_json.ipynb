{
 "cells": [
  {
   "cell_type": "code",
   "execution_count": 20,
   "metadata": {},
   "outputs": [],
   "source": [
    "import json\n",
    "import pandas as pd\n",
    "import matplotlib.pyplot as plt\n",
    "import numpy as np\n",
    "import random\n",
    "# import networkx as nx\n",
    "import multiprocessing as mp\n",
    "import csv\n",
    "\n",
    "\n",
    "import time\n",
    "import seaborn as sns\n",
    "sns.set(color_codes=True)\n",
    "\n",
    "import matplotlib.gridspec as gridspec\n",
    "from scipy.cluster import hierarchy\n",
    "\n",
    "import matplotlib as mpl\n",
    "mpl.style.use('seaborn-talk')\n",
    "%matplotlib inline"
   ]
  },
  {
   "cell_type": "code",
   "execution_count": 21,
   "metadata": {},
   "outputs": [],
   "source": [
    "def tweet_extrac(tweet):\n",
    "  tweet_id = tweet[\"id_str\"] # Identificador del tweet\n",
    "  date_tweet=tweet[\"created_at\"]\n",
    "  user_id = tweet[\"user\"][\"id_str\"] # Identificador del usuario\n",
    "  user_name = tweet[\"user\"][\"screen_name\"] # Nombre del usuario\n",
    "  user_location = tweet[\"user\"][\"location\"]\n",
    "  user_verified = tweet[\"user\"][\"verified\"]\n",
    "  user_followers_count = tweet[\"user\"][\"followers_count\"]\n",
    "  user_friends_count = tweet[\"user\"][\"friends_count\"]\n",
    "  user_favourites_count = tweet[\"user\"][\"favourites_count\"]\n",
    "  user_statuses_count = tweet[\"user\"][\"statuses_count\"]\n",
    "  user_created_at = tweet[\"user\"][\"created_at\"]\n",
    "  is_retweet=False\n",
    "\n",
    "  tw_text=tweet[\"text\"]\n",
    "  if tweet[\"truncated\"]:#==\"True\": # Truncated indica si el tweet es corto o largo; si truncado, busca extendido\n",
    "      tw_text=tweet[\"extended_tweet\"][\"full_text\"]\n",
    "  else:\n",
    "      if tweet[\"text\"][0:2]==\"RT\":\n",
    "          is_retweet=True\n",
    "          try:\n",
    "            if tweet[\"retweeted_status\"][\"truncated\"]:\n",
    "              tw_text=tweet[\"retweeted_status\"][\"extended_tweet\"][\"full_text\"]\n",
    "            else: \n",
    "                tw_text=tweet[\"retweeted_status\"][\"text\"]\n",
    "          except:\n",
    "            tw_text=tweet[\"text\"]\n",
    "  is_quote_status=tweet[\"is_quote_status\"] #True/False\n",
    "  user_id_replyed=tweet['in_reply_to_user_id']#\n",
    "  user_name_replyed=tweet[\"in_reply_to_screen_name\"]\n",
    "  tweet_id_replyed=tweet['in_reply_to_status_id']\n",
    "  quote_count=tweet['quote_count']\n",
    "  reply_count=tweet['reply_count']\n",
    "  retweet_count=tweet['retweet_count']\n",
    "  retweeted=tweet[\"retweeted\"]\n",
    "  tweet_url=\"https://twitter.com/\"+user_name+\"/status/\"+tweet_id\n",
    "  is_reply=False\n",
    "  if not(tweet['in_reply_to_user_id']==None):\n",
    "    is_reply=True\n",
    "\n",
    "  return {\"tweet_id\":tweet_id,\n",
    "          \"date_tweet\":date_tweet,\n",
    "          \"user_id\":user_id,\n",
    "          \"user_name\":user_name,\n",
    "          \"user_location\":user_location,\n",
    "          \"user_verified\":user_verified,\n",
    "          \"user_followers_count\":user_followers_count,\n",
    "          \"user_friends_count\":user_friends_count,\n",
    "          \"user_favourites_count\":user_favourites_count,\n",
    "          \"user_statuses_count\":user_statuses_count,\n",
    "          \"user_created_at\":user_created_at,\n",
    "          \"is_retweet\":is_retweet,\n",
    "          \"tw_text\":tw_text,\n",
    "          \"is_quote_status\":is_quote_status,\n",
    "          \"is_reply\":is_reply,\n",
    "          \"user_id_replyed\":user_id_replyed,\n",
    "          \"user_name_replyed\":user_name_replyed,\n",
    "          \"tweet_id_replyed\":tweet_id_replyed,\n",
    "          \"quote_count\":quote_count,\n",
    "          \"reply_count\":reply_count,\n",
    "          \"retweet_count\":retweet_count,\n",
    "          \"retweeted\":retweeted,\n",
    "          \"tweet_url\":tweet_url\n",
    "         }\n"
   ]
  },
  {
   "cell_type": "code",
   "execution_count": 22,
   "metadata": {},
   "outputs": [],
   "source": [
    "tweets_datas_path = [\"observatorio_genero_14.json\"]"
   ]
  },
  {
   "cell_type": "code",
   "execution_count": 39,
   "metadata": {},
   "outputs": [
    {
     "name": "stdout",
     "output_type": "stream",
     "text": [
      "observatorio_genero_14.json completed. Total time: 210.06323504447937 seconds. Tweets: 47905\n"
     ]
    }
   ],
   "source": [
    "time_1_read=time.time()\n",
    "i_th=0\n",
    "\n",
    "for json_file in tweets_datas_path:\n",
    "    with open(json_file, \"r\") as tweets_file:\n",
    "        for line in tweets_file:\n",
    "            try:\n",
    "                tw_entities=[]\n",
    "                tweet = json.loads(line)\n",
    "                tw_entities.extend(tweet[\"entities\"][\"user_mentions\"])\n",
    "                if tweet[\"text\"][0:2]==\"RT\":\n",
    "                    try:\n",
    "                        if tweet[\"retweeted_status\"][\"truncated\"]:\n",
    "                            tw_entities.extend(tweet[\"retweeted_status\"][\"extended_tweet\"][\"entities\"][\"user_mentions\"])\n",
    "                        else:\n",
    "                            tw_entities.extend(tweet[\"retweeted_status\"][\"entities\"][\"user_mentions\"])\n",
    "                    except:\n",
    "                        tw_entities.extend(tweet[\"entities\"][\"user_mentions\"])\n",
    "                extracted=tweet_extrac(tweet) #extracts_twts.append(extracted)\n",
    "                mentions_info=[tweet[\"id_str\"],\n",
    "                               tweet[\"user\"][\"screen_name\"],\n",
    "                               list(set([ent[\"id_str\"] for ent in tw_entities])),\n",
    "                               list(set([ent[\"screen_name\"] for ent in tw_entities]))]\n",
    "#                 out_mentions_cands=[tweet[\"id_str\"]]\n",
    "#                 out_mentions_cands.extend([cand_id in mentions_info[2] for cand_id in ids_cands])\n",
    "#                 with open('cands_mentions.csv', 'a', newline='') as cnd_mnts:\n",
    "#                     writer = csv.writer(cnd_mnts)\n",
    "#                     writer.writerow(out_mentions_cands)#tweet[\"id_str\"],\n",
    "                with open('mentions.csv', 'a', newline='') as ments_gral:\n",
    "                    writer = csv.writer(ments_gral)\n",
    "                    writer.writerow(mentions_info)\n",
    "                with open('extracted_dict.csv', 'a', newline='') as ext_dict:\n",
    "                    writer = csv.writer(ext_dict)\n",
    "                    writer.writerow(list(extracted.values()))\n",
    "                i_th+=1\n",
    "            except:\n",
    "                continue\n",
    "print(json_file,\"completed. Total time:\", str(time.time()-time_1_read),\"seconds. Tweets:\",i_th)\n",
    "# print(str(time.time()-time_1_read),\"seconds; \",str(len(tweet_complete)),\"registros\")"
   ]
  },
  {
   "cell_type": "code",
   "execution_count": 117,
   "metadata": {},
   "outputs": [
    {
     "data": {
      "text/plain": [
       "dict_keys(['tweet_id', 'date_tweet', 'user_id', 'user_name', 'user_location', 'user_verified', 'user_followers_count', 'user_friends_count', 'user_favourites_count', 'user_statuses_count', 'user_created_at', 'is_retweet', 'tw_text', 'is_quote_status', 'is_reply', 'user_id_replyed', 'user_name_replyed', 'tweet_id_replyed', 'quote_count', 'reply_count', 'retweet_count', 'retweeted', 'tweet_url'])"
      ]
     },
     "execution_count": 117,
     "metadata": {},
     "output_type": "execute_result"
    }
   ],
   "source": [
    "extracted.keys()"
   ]
  },
  {
   "cell_type": "markdown",
   "metadata": {},
   "source": [
    "# Explorar un tuit"
   ]
  },
  {
   "cell_type": "code",
   "execution_count": 35,
   "metadata": {},
   "outputs": [],
   "source": [
    "limit=100\n",
    "tw_completo=[]\n",
    "with open(\"observatorio_genero_14.json\", \"r\") as tweets_file:\n",
    "    count=0\n",
    "    for line in tweets_file:\n",
    "        tweet=json.loads(line)\n",
    "        tw_completo.append(tweet)\n",
    "        if count>limit:\n",
    "            break\n",
    "        count+=1\n"
   ]
  },
  {
   "cell_type": "code",
   "execution_count": 102,
   "metadata": {},
   "outputs": [],
   "source": [
    "tweet=tw_completo[6]\n",
    "# print(json.dumps(tweet, indent=4, sort_keys=True))"
   ]
  },
  {
   "cell_type": "code",
   "execution_count": 120,
   "metadata": {},
   "outputs": [
    {
     "name": "stdout",
     "output_type": "stream",
     "text": [
      "📽💞 Marxismo, socialismo, obreras y huelgas: sí, todas estas son claves para entender cómo nació el #DiaDeLaMujer\n",
      "#8M #8M2020 #8marzo2020\n",
      "https://t.co/Z7JKuZzKEl\n"
     ]
    }
   ],
   "source": [
    "print(tweet_extrac(tweet)[\"tw_text\"])"
   ]
  },
  {
   "cell_type": "code",
   "execution_count": 104,
   "metadata": {},
   "outputs": [],
   "source": [
    "tw_entities_mentions=[]\n",
    "# tweet = tw_completo[82]#json.loads(line)\n",
    "tw_entities_mentions.extend(tweet[\"entities\"][\"user_mentions\"])\n",
    "if tweet[\"text\"][0:2]==\"RT\":\n",
    "    try:\n",
    "        if tweet[\"retweeted_status\"][\"truncated\"]:\n",
    "            tw_entities_mentions.extend(tweet[\"retweeted_status\"][\"extended_tweet\"][\"entities\"][\"user_mentions\"])\n",
    "        else:\n",
    "            tw_entities_mentions.extend(tweet[\"retweeted_status\"][\"entities\"][\"user_mentions\"])\n",
    "    except:\n",
    "        tw_entities_mentions.extend(tweet[\"entities\"][\"user_mentions\"])\n",
    "extracted=tweet_extrac(tweet) #extracts_twts.append(extracted)\n",
    "names_mentions=list(set([ent[\"screen_name\"] for ent in tw_entities_mentions]))\n",
    "mentions_info=[tweet[\"id_str\"],\n",
    "               tweet[\"user\"][\"screen_name\"],\n",
    "               tweet[\"user\"][\"id_str\"],\n",
    "#                list(set([ent[\"id_str\"] for ent in tw_entities])),\n",
    "               \n",
    "# out_mentions_cands=[tweet[\"id_str\"]]\n",
    "# out_mentions_cands.extend([cand_id in mentions_info[2] for cand_id in ids_cands])\n"
   ]
  },
  {
   "cell_type": "code",
   "execution_count": 105,
   "metadata": {},
   "outputs": [],
   "source": [
    "tw_entities_hashtags=[]\n",
    "# tweet = tw_completo[82]#json.loads(line)\n",
    "tw_entities_hashtags.extend(tweet[\"entities\"][\"hashtags\"])\n",
    "if tweet[\"text\"][0:2]==\"RT\":\n",
    "    try:\n",
    "        if tweet[\"retweeted_status\"][\"truncated\"]:\n",
    "            tw_entities_hashtags.extend(tweet[\"retweeted_status\"][\"extended_tweet\"][\"entities\"][\"hashtags\"])\n",
    "        else:\n",
    "            tw_entities_hashtags.extend(tweet[\"retweeted_status\"][\"entities\"][\"hashtags\"])\n",
    "    except:\n",
    "        tw_entities_hashtags.extend(tweet[\"entities\"][\"hashtags\"])\n",
    "extracted=tweet_extrac(tweet) #extracts_twts.append(extracted)\n",
    "# mentions_info=[tweet[\"id_str\"],\n",
    "#                tweet[\"user\"][\"screen_name\"],\n",
    "#                tweet[\"user\"][\"id_str\"],\n",
    "#                list(set([ent[\"id_str\"] for ent in tw_entities])),\n",
    "#                list(set([ent[\"screen_name\"] for ent in tw_entities]))]\n",
    "# out_mentions_cands=[tweet[\"id_str\"]]\n",
    "# out_mentions_cands.extend([cand_id in mentions_info[2] for cand_id in ids_cands])\n"
   ]
  },
  {
   "cell_type": "code",
   "execution_count": 106,
   "metadata": {},
   "outputs": [
    {
     "data": {
      "text/plain": [
       "[{'text': 'DiaDeLaMujer', 'indices': [120, 133]},\n",
       " {'text': '8M', 'indices': [134, 137]},\n",
       " {'text': 'DiaDeLaMujer', 'indices': [99, 112]},\n",
       " {'text': '8M', 'indices': [113, 116]},\n",
       " {'text': '8M2020', 'indices': [117, 124]},\n",
       " {'text': '8marzo2020', 'indices': [125, 136]}]"
      ]
     },
     "execution_count": 106,
     "metadata": {},
     "output_type": "execute_result"
    }
   ],
   "source": [
    "tw_entities_hashtags\n",
    "# extracted\n",
    "# mentions_info"
   ]
  },
  {
   "cell_type": "code",
   "execution_count": 107,
   "metadata": {},
   "outputs": [
    {
     "data": {
      "text/plain": [
       "[{'screen_name': 'ChalecosAmarill',\n",
       "  'name': '©halecos Amarillosᴳᴸᴼᴮᴬᴸ 🔥ʷAͤNͣOͬNͤYˡMͤOᵍUͥSͦⁿ🔥',\n",
       "  'id': 1071499269880901639,\n",
       "  'id_str': '1071499269880901639',\n",
       "  'indices': [3, 19]}]"
      ]
     },
     "execution_count": 107,
     "metadata": {},
     "output_type": "execute_result"
    }
   ],
   "source": [
    "tw_entities_mentions"
   ]
  },
  {
   "cell_type": "markdown",
   "metadata": {},
   "source": [
    "# Actualizaciones\n",
    "    Exportar [id tuit, user_name, user_id, id_str, screen_name] for mention in tw_entities_mention <-- es importante eliminar duplicados.\n",
    "    Exportar [id tuit, user_name, text,] for hashtag in tw_entities_hashtags <-- es importante eliminar duplicados.\n",
    "    \n",
    "Ambos a archivos separados independientes"
   ]
  },
  {
   "cell_type": "code",
   "execution_count": null,
   "metadata": {},
   "outputs": [],
   "source": []
  }
 ],
 "metadata": {
  "kernelspec": {
   "display_name": "Python 3",
   "language": "python",
   "name": "python3"
  },
  "language_info": {
   "codemirror_mode": {
    "name": "ipython",
    "version": 3
   },
   "file_extension": ".py",
   "mimetype": "text/x-python",
   "name": "python",
   "nbconvert_exporter": "python",
   "pygments_lexer": "ipython3",
   "version": "3.7.7"
  }
 },
 "nbformat": 4,
 "nbformat_minor": 4
}
