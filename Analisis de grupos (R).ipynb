{
 "cells": [
  {
   "cell_type": "markdown",
   "metadata": {},
   "source": [
    "# Analisis de grupos.\n",
    "\n",
    "## Requerimiento:\n",
    "\n",
    "### Descripción\n",
    "\n",
    "Análisis comparativo de los datos por sexo\n",
    "- Prueba t de diferencia de medias de dos grupos (de la misma población), a dos colas.\n",
    "- Claves de interpretación\n",
    "- Gráficos curvas de los dos grupos por variables\n",
    "\n",
    "### Entregable \n",
    "\n",
    "- Sección de resultados (APA, 6a)\n",
    "- Gráficos de curvas\n",
    "- Tabla de puntajes\n",
    "- Claves de interpretación\n",
    "- Señalar las diferencias estadísticamente significativas."
   ]
  },
  {
   "cell_type": "code",
   "execution_count": 1,
   "metadata": {
    "collapsed": false,
    "scrolled": false
   },
   "outputs": [
    {
     "name": "stdout",
     "output_type": "stream",
     "text": [
      "[1] \"sin reincidencia\" \"16292\"           \n",
      "[1] \"con reincidencia\" \"11652\"           \n",
      "[1] \"tamaño inicial\" \"27944\"         \n",
      "[1] \"cuestionario filtrado\" \"11641\"                \n",
      "[1] \"diferencia\" \"16303\"     \n"
     ]
    }
   ],
   "source": [
    "cuestionario=read.csv2(file=\"SOLO IVIC.csv\", header = T)\n",
    "carga=nrow(cuestionario)\n",
    "print(c(\"sin reincidencia\",sum(cuestionario$REINCIDENCIARECO==0)))\n",
    "print(c(\"con reincidencia\",sum(!cuestionario$REINCIDENCIARECO==0)))\n",
    "print(c(\"tamaño inicial\",nrow(cuestionario)))\n",
    "row.names(cuestionario)=cuestionario$INTERNO\n",
    "cuestionario=cuestionario[cuestionario$REINCIDENCIARECO==1\n",
    "                          &cuestionario$EDAD_INGRESO>17\n",
    "                          &cuestionario$EDAD_INGRESO<76 \n",
    "                          ,-1]\n",
    "\n",
    "print (c(\"cuestionario filtrado\",nrow(cuestionario)))\n",
    "filtrado=nrow(cuestionario)\n",
    "print(c(\"diferencia\", carga-filtrado))"
   ]
  },
  {
   "cell_type": "code",
   "execution_count": 2,
   "metadata": {
    "collapsed": false
   },
   "outputs": [],
   "source": [
    "cuestionario$Durantesuinfanciafuemaltratado=factor(cuestionario$Durantesuinfanciafuemaltratado,\n",
    "                                                  labels=c(\"No reporta\",\"Físico\",\"Psico.\",\"Sexual\",\"Varios\")\n",
    "                                                  )\n",
    "\n",
    "cuestionario$Ustedhaconsumidoalmenosunavezensuvidasustanciaspsicoactivasodrog=factor(cuestionario$Ustedhaconsumidoalmenosunavezensuvidasustanciaspsicoactivasodrog,\n",
    "                                                                                    labels=c(\"No\",\"Si\")\n",
    "                                                                                    )\n",
    "\n",
    "cuestionario$Cualdeestasdrogasconsumeohaconsumido=factor(cuestionario$Cualdeestasdrogasconsumeohaconsumido,\n",
    "                                                        labels=c(\"Ninguna\",\"Anfetam.\",\"Bazuco\",\"Cocaína\",\"Heroína\",\"Inhalantes\",\"Marihuana\",\"Sedantes\",\"2 SPA\",\"3 o más\")\n",
    "                                                        )\n",
    "cuestionario$Ustedhaestadoentratamientopsiquiatrico=factor(cuestionario$Ustedhaestadoentratamientopsiquiatrico,\n",
    "       labels=c(\"No\",\"Si\")\n",
    "       )\n",
    "\n",
    "cuestionario$Suultimogradoescolaraprobadoseencuentraentre=factor(cuestionario$Suultimogradoescolaraprobadoseencuentraentre,\n",
    "       labels=c(\"Analfabeta\",\"1-3\",\"4-5\",\"6-7\",\"8-9\",\"10\",\"11\",\"Ed.Sup\")\n",
    "       )\n",
    "\n",
    "cuestionario$Enlaactualidadustedconsumeotomasustanciaspsicoactivasodrogasaluc=factor(cuestionario$Enlaactualidadustedconsumeotomasustanciaspsicoactivasodrogasaluc,\n",
    "       labels=c(\"No\",\"Si\")\n",
    "       )\n"
   ]
  },
  {
   "cell_type": "code",
   "execution_count": 3,
   "metadata": {
    "collapsed": false
   },
   "outputs": [
    {
     "data": {
      "text/plain": [
       "\n",
       "No reporta     Físico     Psico.     Sexual     Varios \n",
       "      7663       2537        715         92        634 "
      ]
     },
     "metadata": {},
     "output_type": "display_data"
    },
    {
     "data": {
      "text/plain": [
       "\n",
       "  No   Si \n",
       "4368 7185 "
      ]
     },
     "metadata": {},
     "output_type": "display_data"
    },
    {
     "data": {
      "text/plain": [
       "\n",
       "   Ninguna   Anfetam.     Bazuco    Cocaína    Heroína Inhalantes  Marihuana \n",
       "      4816        115        189        263         12         21       3994 \n",
       "  Sedantes      2 SPA    3 o más \n",
       "        22       1024       1115 "
      ]
     },
     "metadata": {},
     "output_type": "display_data"
    },
    {
     "data": {
      "text/plain": [
       "\n",
       "   No    Si \n",
       "10534  1004 "
      ]
     },
     "metadata": {},
     "output_type": "display_data"
    },
    {
     "data": {
      "text/plain": [
       "\n",
       "Analfabeta        1-3        4-5        6-7        8-9         10         11 \n",
       "       438       1811       2428       2219       1855        574       1680 \n",
       "    Ed.Sup \n",
       "       611 "
      ]
     },
     "metadata": {},
     "output_type": "display_data"
    },
    {
     "data": {
      "text/plain": [
       "\n",
       "  No   Si \n",
       "9198 2354 "
      ]
     },
     "metadata": {},
     "output_type": "display_data"
    }
   ],
   "source": [
    "table(cuestionario$Durantesuinfanciafuemaltratado)\n",
    "table(cuestionario$Ustedhaconsumidoalmenosunavezensuvidasustanciaspsicoactivasodrog)\n",
    "table(cuestionario$Cualdeestasdrogasconsumeohaconsumido)\n",
    "table(cuestionario$Ustedhaestadoentratamientopsiquiatrico)\n",
    "table(cuestionario$Suultimogradoescolaraprobadoseencuentraentre)\n",
    "table(cuestionario$Enlaactualidadustedconsumeotomasustanciaspsicoactivasodrogasaluc)"
   ]
  },
  {
   "cell_type": "code",
   "execution_count": 4,
   "metadata": {
    "collapsed": false
   },
   "outputs": [
    {
     "data": {
      "text/html": [
       "<table>\n",
       "<thead><tr><th></th><th scope=col>OTROS_INGRE</th><th scope=col>N_INGRESOS</th><th scope=col>REINCIDENCIA</th><th scope=col>REINCIDENCIARECO</th><th scope=col>N_HIJOS</th><th scope=col>ESTADO_CIVIL</th><th scope=col>REALIZO_ACTIVIDAD</th><th scope=col>CALIFICACION</th><th scope=col>SANCIONES</th><th scope=col>EDAD_INGRESO</th><th scope=col>...</th><th scope=col>Enqueespaciosdelestablecimientopermaneceustedconmasfrecuencia</th><th scope=col>Parahablarconsusfamiliaresyamigosustedutilizapalabrasaprendidase</th><th scope=col>Actualmenteustedsabequehacerconsuvida</th><th scope=col>Lasalternativasqueustedhaelegidopararesolverproblemaslehanpermit</th><th scope=col>eltiempoquehaestadoenelestablecimientolehaservidoprincipalmentep</th><th scope=col>Duranteestacondenaustedhasolicitadomedidasdeproteccionespecialal</th><th scope=col>Ustedtieneunaenfermedadgrave</th><th scope=col>Ustedseconsideraunapersonaquecuidaelmedioambiente</th><th scope=col>Cuandoustedtomaunadecision</th><th scope=col>Austedlesirvepagarestacondenapara</th></tr></thead>\n",
       "<tbody>\n",
       "\t<tr><th scope=row>22</th><td>2  </td><td>4  </td><td>1  </td><td>1  </td><td>NA </td><td>1  </td><td>1  </td><td>0  </td><td>1  </td><td>24 </td><td>...</td><td>1  </td><td>1  </td><td>2  </td><td>2  </td><td>3  </td><td>1  </td><td>1  </td><td>3  </td><td>3  </td><td>3  </td></tr>\n",
       "\t<tr><th scope=row>55</th><td>0  </td><td>3  </td><td>2  </td><td>1  </td><td>3  </td><td>0  </td><td>1  </td><td>3  </td><td>0  </td><td>37 </td><td>...</td><td>1  </td><td>1  </td><td>1  </td><td>3  </td><td>3  </td><td>1  </td><td>1  </td><td>3  </td><td>3  </td><td>2  </td></tr>\n",
       "\t<tr><th scope=row>309</th><td>0  </td><td>2  </td><td>1  </td><td>1  </td><td>2  </td><td>5  </td><td>1  </td><td>4  </td><td>0  </td><td>48 </td><td>...</td><td>1  </td><td>1  </td><td>NA </td><td>3  </td><td>3  </td><td>1  </td><td>1  </td><td>2  </td><td>3  </td><td>2  </td></tr>\n",
       "\t<tr><th scope=row>512</th><td>0  </td><td>2  </td><td>1  </td><td>1  </td><td>NA </td><td>5  </td><td>1  </td><td>4  </td><td>0  </td><td>28 </td><td>...</td><td>1  </td><td>1  </td><td>2  </td><td>3  </td><td>3  </td><td>1  </td><td>1  </td><td>2  </td><td>3  </td><td>3  </td></tr>\n",
       "\t<tr><th scope=row>544</th><td>0  </td><td>2  </td><td>1  </td><td>1  </td><td>NA </td><td>0  </td><td>1  </td><td>3  </td><td>0  </td><td>28 </td><td>...</td><td>1  </td><td>1  </td><td>2  </td><td>2  </td><td>3  </td><td>1  </td><td>1  </td><td>3  </td><td>3  </td><td>2  </td></tr>\n",
       "\t<tr><th scope=row>805</th><td>0  </td><td>2  </td><td>1  </td><td>1  </td><td>NA </td><td>0  </td><td>1  </td><td>0  </td><td>0  </td><td>32 </td><td>...</td><td>1  </td><td>1  </td><td>2  </td><td>2  </td><td>3  </td><td>1  </td><td>1  </td><td>2  </td><td>3  </td><td>2  </td></tr>\n",
       "</tbody>\n",
       "</table>\n"
      ],
      "text/latex": [
       "\\begin{tabular}{r|llllllllllllllllllllllllllllllllllllllllllllllllllllllllllllllllllllllllllllllllllllllllllllllllllllllllllllllllllllllllllllllllllllllllllllllllllllllllllllllllllllllllllllllllllllllllllllllllllllllllllllllllllllllllllllllllllllllllllllllllllllllllllllllllllllllllllllllllllllllllllllllllllllllllllllllllllllllllllll}\n",
       "  & OTROS\\_INGRE & N\\_INGRESOS & REINCIDENCIA & REINCIDENCIARECO & N\\_HIJOS & ESTADO\\_CIVIL & REALIZO\\_ACTIVIDAD & CALIFICACION & SANCIONES & EDAD\\_INGRESO & ... & Enqueespaciosdelestablecimientopermaneceustedconmasfrecuencia & Parahablarconsusfamiliaresyamigosustedutilizapalabrasaprendidase & Actualmenteustedsabequehacerconsuvida & Lasalternativasqueustedhaelegidopararesolverproblemaslehanpermit & eltiempoquehaestadoenelestablecimientolehaservidoprincipalmentep & Duranteestacondenaustedhasolicitadomedidasdeproteccionespecialal & Ustedtieneunaenfermedadgrave & Ustedseconsideraunapersonaquecuidaelmedioambiente & Cuandoustedtomaunadecision & Austedlesirvepagarestacondenapara\\\\\n",
       "\\hline\n",
       "\t22 & 2   & 4   & 1   & 1   & NA  & 1   & 1   & 0   & 1   & 24  & ... & 1   & 1   & 2   & 2   & 3   & 1   & 1   & 3   & 3   & 3  \\\\\n",
       "\t55 & 0   & 3   & 2   & 1   & 3   & 0   & 1   & 3   & 0   & 37  & ... & 1   & 1   & 1   & 3   & 3   & 1   & 1   & 3   & 3   & 2  \\\\\n",
       "\t309 & 0   & 2   & 1   & 1   & 2   & 5   & 1   & 4   & 0   & 48  & ... & 1   & 1   & NA  & 3   & 3   & 1   & 1   & 2   & 3   & 2  \\\\\n",
       "\t512 & 0   & 2   & 1   & 1   & NA  & 5   & 1   & 4   & 0   & 28  & ... & 1   & 1   & 2   & 3   & 3   & 1   & 1   & 2   & 3   & 3  \\\\\n",
       "\t544 & 0   & 2   & 1   & 1   & NA  & 0   & 1   & 3   & 0   & 28  & ... & 1   & 1   & 2   & 2   & 3   & 1   & 1   & 3   & 3   & 2  \\\\\n",
       "\t805 & 0   & 2   & 1   & 1   & NA  & 0   & 1   & 0   & 0   & 32  & ... & 1   & 1   & 2   & 2   & 3   & 1   & 1   & 2   & 3   & 2  \\\\\n",
       "\\end{tabular}\n"
      ],
      "text/plain": [
       "    OTROS_INGRE N_INGRESOS REINCIDENCIA REINCIDENCIARECO N_HIJOS ESTADO_CIVIL\n",
       "22            2          4            1                1      NA            1\n",
       "55            0          3            2                1       3            0\n",
       "309           0          2            1                1       2            5\n",
       "512           0          2            1                1      NA            5\n",
       "544           0          2            1                1      NA            0\n",
       "805           0          2            1                1      NA            0\n",
       "    REALIZO_ACTIVIDAD CALIFICACION SANCIONES EDAD_INGRESO ...\n",
       "22                  1            0         1           24 ...\n",
       "55                  1            3         0           37 ...\n",
       "309                 1            4         0           48 ...\n",
       "512                 1            4         0           28 ...\n",
       "544                 1            3         0           28 ...\n",
       "805                 1            0         0           32 ...\n",
       "    Enqueespaciosdelestablecimientopermaneceustedconmasfrecuencia\n",
       "22                                                              1\n",
       "55                                                              1\n",
       "309                                                             1\n",
       "512                                                             1\n",
       "544                                                             1\n",
       "805                                                             1\n",
       "    Parahablarconsusfamiliaresyamigosustedutilizapalabrasaprendidase\n",
       "22                                                                 1\n",
       "55                                                                 1\n",
       "309                                                                1\n",
       "512                                                                1\n",
       "544                                                                1\n",
       "805                                                                1\n",
       "    Actualmenteustedsabequehacerconsuvida\n",
       "22                                      2\n",
       "55                                      1\n",
       "309                                    NA\n",
       "512                                     2\n",
       "544                                     2\n",
       "805                                     2\n",
       "    Lasalternativasqueustedhaelegidopararesolverproblemaslehanpermit\n",
       "22                                                                 2\n",
       "55                                                                 3\n",
       "309                                                                3\n",
       "512                                                                3\n",
       "544                                                                2\n",
       "805                                                                2\n",
       "    eltiempoquehaestadoenelestablecimientolehaservidoprincipalmentep\n",
       "22                                                                 3\n",
       "55                                                                 3\n",
       "309                                                                3\n",
       "512                                                                3\n",
       "544                                                                3\n",
       "805                                                                3\n",
       "    Duranteestacondenaustedhasolicitadomedidasdeproteccionespecialal\n",
       "22                                                                 1\n",
       "55                                                                 1\n",
       "309                                                                1\n",
       "512                                                                1\n",
       "544                                                                1\n",
       "805                                                                1\n",
       "    Ustedtieneunaenfermedadgrave\n",
       "22                             1\n",
       "55                             1\n",
       "309                            1\n",
       "512                            1\n",
       "544                            1\n",
       "805                            1\n",
       "    Ustedseconsideraunapersonaquecuidaelmedioambiente\n",
       "22                                                  3\n",
       "55                                                  3\n",
       "309                                                 2\n",
       "512                                                 2\n",
       "544                                                 3\n",
       "805                                                 2\n",
       "    Cuandoustedtomaunadecision Austedlesirvepagarestacondenapara\n",
       "22                           3                                 3\n",
       "55                           3                                 2\n",
       "309                          3                                 2\n",
       "512                          3                                 3\n",
       "544                          3                                 2\n",
       "805                          3                                 2"
      ]
     },
     "metadata": {},
     "output_type": "display_data"
    }
   ],
   "source": [
    "SEXO=factor(cuestionario[,\"SEXO\"], labels=c(\"Hombre\",\"Mujer\"))\n",
    "var_crit=cuestionario[,!colnames(cuestionario)==\"SEXO\"]\n",
    "chisq_test_var=c(\"REINCIDENCIARECO\",\"X.103\",\"X.111\",\"X.168\",\"X.169\",\"X.205\",\"X.208\",\"X.209\",\"X.229\",\"X.233\",\"X.244\",\"X.246\",\"X.289\",\"X.295\",\"X.329\",\"X.365\",\"X.376\",\"X.382\",\"X.435\",\"X.447\",\"X.467\",\"X.9999\",\"Durantesuinfanciafuemaltratado\",\"Ustedhaconsumidoalmenosunavezensuvidasustanciaspsicoactivasodrog\",\"Cualdeestasdrogasconsumeohaconsumido\",\"Ustedhaestadoentratamientopsiquiatrico\",\"Suultimogradoescolaraprobadoseencuentraentre\",\"Enlaactualidadustedconsumeotomasustanciaspsicoactivasodrogasaluc\")\n",
    "t_test_var=c(\"OTROS_INGRE\",\"N_INGRESOS\",\"REINCIDENCIA\",\"EDAD_INGRESO\")\n",
    "chisq_test=var_crit[,colnames(var_crit)%in%chisq_test_var]\n",
    "t_test=var_crit[,colnames(var_crit)%in%t_test_var]\n",
    "head(var_crit)"
   ]
  },
  {
   "cell_type": "code",
   "execution_count": 5,
   "metadata": {
    "collapsed": false
   },
   "outputs": [],
   "source": [
    "chisq_test_pltitl=c(\n",
    "\"Reincidencia\",\n",
    "\"Homicidio\",\n",
    "\"Lesiones Personales\",\n",
    "\"Secuestro Simple\",\n",
    "\"Secuestro Extorsivo\",\n",
    "\"Acceso Carnal Violento\",\n",
    "\"Acceso Carnal Abusivo con Menor de 14 Años\",\n",
    "\"Actos Sexuales con Menor de 14 Años\",\n",
    "\"Violencia intrafamiliar\",\n",
    "\"Inasistencia Alimentaria\",\n",
    "\"Extorsión\",\n",
    "\"Estafa\",\n",
    "\"Falsedad en Documento Privado\",\n",
    "\"Falsedad para Obtener Prueba de Hecho Verdadero\",\n",
    "\"Violación de Fronteras para la Explotación de Recursos Naturales\",\n",
    "\"Fabricación, Tráfico y Porte de Armas de Fuego o Municiones\",\n",
    "\"Tráfico, Fabricación o Porte de Estupefacientes\",\n",
    "\"Tráfico de Sustancias para Procesamiento de Narcóticos\",\n",
    "\"Falsa Denuncia\",\n",
    "\"Receptación\",\n",
    "\"Rebelión\",\n",
    "\"Otros Delitos\",\n",
    "\"Tipos de Maltrato Durante la Infancia\",\n",
    "\"Prevalencia de Consumo Alguna Vez en la Vida\",\n",
    "\"SPA Consumida por lo Menos en una Ocasión\",\n",
    "\"Tratamiento Psiquiátrico\",\n",
    "\"Último Grado Escolar Aprobado\",\n",
    "\"Consumo Actual de SPA\"\n",
    "    )\n"
   ]
  },
  {
   "cell_type": "code",
   "execution_count": 6,
   "metadata": {
    "collapsed": false,
    "scrolled": true
   },
   "outputs": [],
   "source": [
    "prueba_t=NULL\n",
    "for(i in 1: length(colnames(t_test))){\n",
    "    varname=colnames(t_test)[i]\n",
    "    var=t_test[,i]\n",
    "    \n",
    "    jpeg(filename=paste(varname,\"-Sexo.jpg\"),width = 600, height = 600,quality = 95)\n",
    "    boxplot(var~SEXO, col=\"gray75\",xlab=\"Sexo\", ylab=varname, main=paste(varname,\"- Sexo\"))\n",
    "    dev.off()\n",
    "    \n",
    "    test_var_sex=t.test(var~SEXO,var.equal=T)\n",
    "    valor_t=round(test_var_sex$statistic[\"t\"],2)\n",
    "    valor_p=round(test_var_sex$p.value,2)\n",
    "    decis=NULL\n",
    "    if (valor_p<0.05){decis=\"Si existen diferencias\"}else{decis=\"No existen diferencias\"}\n",
    "    prueba_t=rbind(prueba_t,c(varname,valor_t,valor_p,decis))\n",
    "    colnames(prueba_t)=c(\"Variable\", \"Valor_t\", \"Valor_p\", \"Decisión\")\n",
    "    \n",
    "    \n",
    "}\n",
    "write.csv2(prueba_t, file=\"resultados prueba t.csv\")"
   ]
  },
  {
   "cell_type": "code",
   "execution_count": 7,
   "metadata": {
    "collapsed": false,
    "scrolled": true
   },
   "outputs": [
    {
     "name": "stderr",
     "output_type": "stream",
     "text": [
      "Warning message:\n",
      "In prop.test(data_prop): Chi-squared approximation may be incorrectWarning message:\n",
      "In prop.test(data_prop): Chi-squared approximation may be incorrectWarning message:\n",
      "In prop.test(data_prop): Chi-squared approximation may be incorrectWarning message:\n",
      "In prop.test(data_prop): Chi-squared approximation may be incorrect"
     ]
    }
   ],
   "source": [
    "prueba_x=NULL\n",
    "for(i in 1: length(colnames(chisq_test))){\n",
    "    varname=colnames(chisq_test)[i]\n",
    "    var=chisq_test[,i]\n",
    "    data_prop=table(var,SEXO)\n",
    "    \n",
    "    jpeg(filename=paste(varname,\"-Sexo.jpg\"),width = 600, height = 600,quality = 95)\n",
    "    barplot(t(data_prop), main=chisq_test_pltitl[i], beside=T,las=2)\n",
    "    legend(\"topright\", legend = c(\"Hombre\", \"Mujer\"), fill = c(\"gray15\", \"gray85\"))\n",
    "    #plot(SEXO,factor(var),xlab=\"Sexo\", ylab=varname, main=paste(varname,\"- Sexo\"))\n",
    "    dev.off()\n",
    "    \n",
    "    test_var_sex=prop.test(data_prop)\n",
    "    valor_x=round(test_var_sex$statistic,2)\n",
    "    valor_p=round(test_var_sex$p.value,2)\n",
    "    decis=NULL\n",
    "    if (valor_p<0.05){decis=\"Si existen diferencias\"}else{decis=\"No existen diferencias\"}\n",
    "    prueba_x=rbind(prueba_x,c(varname,valor_x,valor_p,decis))\n",
    "    colnames(prueba_x)=c(\"Variable\", \"Valor_chi\", \"Valor_p\", \"Decisión\")\n",
    "}\n",
    "write.csv2(prueba_x, file=\"resultados prueba chi.csv\")"
   ]
  },
  {
   "cell_type": "code",
   "execution_count": 8,
   "metadata": {
    "collapsed": false
   },
   "outputs": [
    {
     "data": {
      "text/html": [
       "<table>\n",
       "<thead><tr><th scope=col>Variable</th><th scope=col>Valor_t</th><th scope=col>Valor_p</th><th scope=col>Decisión</th></tr></thead>\n",
       "<tbody>\n",
       "\t<tr><td>OTROS_INGRE           </td><td>1.51                  </td><td>0.13                  </td><td>No existen diferencias</td></tr>\n",
       "\t<tr><td>N_INGRESOS            </td><td>-4.8                  </td><td>0                     </td><td>Si existen diferencias</td></tr>\n",
       "\t<tr><td>REINCIDENCIA          </td><td>-7.61                 </td><td>0                     </td><td>Si existen diferencias</td></tr>\n",
       "\t<tr><td>EDAD_INGRESO          </td><td>-12.08                </td><td>0                     </td><td>Si existen diferencias</td></tr>\n",
       "</tbody>\n",
       "</table>\n"
      ],
      "text/latex": [
       "\\begin{tabular}{llll}\n",
       " Variable & Valor\\_t & Valor\\_p & Decisión\\\\\n",
       "\\hline\n",
       "\t OTROS\\_INGRE          & 1.51                   & 0.13                   & No existen diferencias\\\\\n",
       "\t N\\_INGRESOS           & -4.8                   & 0                      & Si existen diferencias\\\\\n",
       "\t REINCIDENCIA           & -7.61                  & 0                      & Si existen diferencias\\\\\n",
       "\t EDAD\\_INGRESO         & -12.08                 & 0                      & Si existen diferencias\\\\\n",
       "\\end{tabular}\n"
      ],
      "text/markdown": [
       "1. \"OTROS_INGRE\"\n",
       "2. \"N_INGRESOS\"\n",
       "3. \"REINCIDENCIA\"\n",
       "4. \"EDAD_INGRESO\"\n",
       "5. \"1.51\"\n",
       "6. \"-4.8\"\n",
       "7. \"-7.61\"\n",
       "8. \"-12.08\"\n",
       "9. \"0.13\"\n",
       "10. \"0\"\n",
       "11. \"0\"\n",
       "12. \"0\"\n",
       "13. \"No existen diferencias\"\n",
       "14. \"Si existen diferencias\"\n",
       "15. \"Si existen diferencias\"\n",
       "16. \"Si existen diferencias\"\n",
       "\n",
       "\n"
      ],
      "text/plain": [
       "     Variable       Valor_t  Valor_p Decisión                \n",
       "[1,] \"OTROS_INGRE\"  \"1.51\"   \"0.13\"  \"No existen diferencias\"\n",
       "[2,] \"N_INGRESOS\"   \"-4.8\"   \"0\"     \"Si existen diferencias\"\n",
       "[3,] \"REINCIDENCIA\" \"-7.61\"  \"0\"     \"Si existen diferencias\"\n",
       "[4,] \"EDAD_INGRESO\" \"-12.08\" \"0\"     \"Si existen diferencias\""
      ]
     },
     "metadata": {},
     "output_type": "display_data"
    },
    {
     "data": {
      "text/html": [
       "<table>\n",
       "<thead><tr><th scope=col>Variable</th><th scope=col>Valor_chi</th><th scope=col>Valor_p</th><th scope=col>Decisión</th></tr></thead>\n",
       "<tbody>\n",
       "\t<tr><td>REINCIDENCIARECO      </td><td>8240.05               </td><td>0                     </td><td>Si existen diferencias</td></tr>\n",
       "\t<tr><td>X.103                 </td><td>70.4                  </td><td>0                     </td><td>Si existen diferencias</td></tr>\n",
       "\t<tr><td>X.111                 </td><td>38.73                 </td><td>0                     </td><td>Si existen diferencias</td></tr>\n",
       "\t<tr><td>X.168                 </td><td>16.19                 </td><td>0                     </td><td>Si existen diferencias</td></tr>\n",
       "\t<tr><td>X.169                 </td><td>0.11                  </td><td>0.74                  </td><td>No existen diferencias</td></tr>\n",
       "\t<tr><td>X.205                 </td><td>14.48                 </td><td>0                     </td><td>Si existen diferencias</td></tr>\n",
       "\t<tr><td>X.208                 </td><td>7.89                  </td><td>0                     </td><td>Si existen diferencias</td></tr>\n",
       "\t<tr><td>X.209                 </td><td>10.86                 </td><td>0                     </td><td>Si existen diferencias</td></tr>\n",
       "\t<tr><td>X.229                 </td><td>7.57                  </td><td>0.01                  </td><td>Si existen diferencias</td></tr>\n",
       "\t<tr><td>X.233                 </td><td>10.78                 </td><td>0                     </td><td>Si existen diferencias</td></tr>\n",
       "\t<tr><td>X.244                 </td><td>10.66                 </td><td>0                     </td><td>Si existen diferencias</td></tr>\n",
       "\t<tr><td>X.246                 </td><td>2.78                  </td><td>0.1                   </td><td>No existen diferencias</td></tr>\n",
       "\t<tr><td>X.289                 </td><td>0.02                  </td><td>0.9                   </td><td>No existen diferencias</td></tr>\n",
       "\t<tr><td>X.295                 </td><td>0.15                  </td><td>0.7                   </td><td>No existen diferencias</td></tr>\n",
       "\t<tr><td>X.329                 </td><td>346.08                </td><td>0                     </td><td>Si existen diferencias</td></tr>\n",
       "\t<tr><td>X.365                 </td><td>235.09                </td><td>0                     </td><td>Si existen diferencias</td></tr>\n",
       "\t<tr><td>X.376                 </td><td>531.59                </td><td>0                     </td><td>Si existen diferencias</td></tr>\n",
       "\t<tr><td>X.382                 </td><td>0.93                  </td><td>0.34                  </td><td>No existen diferencias</td></tr>\n",
       "\t<tr><td>X.435                 </td><td>0.96                  </td><td>0.33                  </td><td>No existen diferencias</td></tr>\n",
       "\t<tr><td>X.447                 </td><td>13.55                 </td><td>0                     </td><td>Si existen diferencias</td></tr>\n",
       "\t<tr><td>X.467                 </td><td>1.3                   </td><td>0.25                  </td><td>No existen diferencias</td></tr>\n",
       "\t<tr><td>X.9999                </td><td>9.09                  </td><td>0.43                  </td><td>No existen diferencias</td></tr>\n",
       "\t<tr><td>Durantesuinfanciafuemaltratado</td><td>308.95                        </td><td>0                             </td><td>Si existen diferencias        </td></tr>\n",
       "\t<tr><td>Ustedhaconsumidoalmenosunavezensuvidasustanciaspsicoactivasodrog</td><td>160.09                                                          </td><td>0                                                               </td><td>Si existen diferencias                                          </td></tr>\n",
       "\t<tr><td>Cualdeestasdrogasconsumeohaconsumido</td><td>168.21                              </td><td>0                                   </td><td>Si existen diferencias              </td></tr>\n",
       "\t<tr><td>Ustedhaestadoentratamientopsiquiatrico</td><td>0.04                                  </td><td>0.84                                  </td><td>No existen diferencias                </td></tr>\n",
       "\t<tr><td>Suultimogradoescolaraprobadoseencuentraentre</td><td>42.84                                       </td><td>0                                           </td><td>Si existen diferencias                      </td></tr>\n",
       "\t<tr><td>Enlaactualidadustedconsumeotomasustanciaspsicoactivasodrogasaluc</td><td>108.54                                                          </td><td>0                                                               </td><td>Si existen diferencias                                          </td></tr>\n",
       "</tbody>\n",
       "</table>\n"
      ],
      "text/latex": [
       "\\begin{tabular}{llll}\n",
       " Variable & Valor\\_chi & Valor\\_p & Decisión\\\\\n",
       "\\hline\n",
       "\t REINCIDENCIARECO       & 8240.05                & 0                      & Si existen diferencias\\\\\n",
       "\t X.103                  & 70.4                   & 0                      & Si existen diferencias\\\\\n",
       "\t X.111                  & 38.73                  & 0                      & Si existen diferencias\\\\\n",
       "\t X.168                  & 16.19                  & 0                      & Si existen diferencias\\\\\n",
       "\t X.169                  & 0.11                   & 0.74                   & No existen diferencias\\\\\n",
       "\t X.205                  & 14.48                  & 0                      & Si existen diferencias\\\\\n",
       "\t X.208                  & 7.89                   & 0                      & Si existen diferencias\\\\\n",
       "\t X.209                  & 10.86                  & 0                      & Si existen diferencias\\\\\n",
       "\t X.229                  & 7.57                   & 0.01                   & Si existen diferencias\\\\\n",
       "\t X.233                  & 10.78                  & 0                      & Si existen diferencias\\\\\n",
       "\t X.244                  & 10.66                  & 0                      & Si existen diferencias\\\\\n",
       "\t X.246                  & 2.78                   & 0.1                    & No existen diferencias\\\\\n",
       "\t X.289                  & 0.02                   & 0.9                    & No existen diferencias\\\\\n",
       "\t X.295                  & 0.15                   & 0.7                    & No existen diferencias\\\\\n",
       "\t X.329                  & 346.08                 & 0                      & Si existen diferencias\\\\\n",
       "\t X.365                  & 235.09                 & 0                      & Si existen diferencias\\\\\n",
       "\t X.376                  & 531.59                 & 0                      & Si existen diferencias\\\\\n",
       "\t X.382                  & 0.93                   & 0.34                   & No existen diferencias\\\\\n",
       "\t X.435                  & 0.96                   & 0.33                   & No existen diferencias\\\\\n",
       "\t X.447                  & 13.55                  & 0                      & Si existen diferencias\\\\\n",
       "\t X.467                  & 1.3                    & 0.25                   & No existen diferencias\\\\\n",
       "\t X.9999                 & 9.09                   & 0.43                   & No existen diferencias\\\\\n",
       "\t Durantesuinfanciafuemaltratado & 308.95                         & 0                              & Si existen diferencias        \\\\\n",
       "\t Ustedhaconsumidoalmenosunavezensuvidasustanciaspsicoactivasodrog & 160.09                                                           & 0                                                                & Si existen diferencias                                          \\\\\n",
       "\t Cualdeestasdrogasconsumeohaconsumido & 168.21                               & 0                                    & Si existen diferencias              \\\\\n",
       "\t Ustedhaestadoentratamientopsiquiatrico & 0.04                                   & 0.84                                   & No existen diferencias                \\\\\n",
       "\t Suultimogradoescolaraprobadoseencuentraentre & 42.84                                        & 0                                            & Si existen diferencias                      \\\\\n",
       "\t Enlaactualidadustedconsumeotomasustanciaspsicoactivasodrogasaluc & 108.54                                                           & 0                                                                & Si existen diferencias                                          \\\\\n",
       "\\end{tabular}\n"
      ],
      "text/markdown": [
       "1. \"REINCIDENCIARECO\"\n",
       "2. \"X.103\"\n",
       "3. \"X.111\"\n",
       "4. \"X.168\"\n",
       "5. \"X.169\"\n",
       "6. \"X.205\"\n",
       "7. \"X.208\"\n",
       "8. \"X.209\"\n",
       "9. \"X.229\"\n",
       "10. \"X.233\"\n",
       "11. \"X.244\"\n",
       "12. \"X.246\"\n",
       "13. \"X.289\"\n",
       "14. \"X.295\"\n",
       "15. \"X.329\"\n",
       "16. \"X.365\"\n",
       "17. \"X.376\"\n",
       "18. \"X.382\"\n",
       "19. \"X.435\"\n",
       "20. \"X.447\"\n",
       "21. \"X.467\"\n",
       "22. \"X.9999\"\n",
       "23. \"Durantesuinfanciafuemaltratado\"\n",
       "24. \"Ustedhaconsumidoalmenosunavezensuvidasustanciaspsicoactivasodrog\"\n",
       "25. \"Cualdeestasdrogasconsumeohaconsumido\"\n",
       "26. \"Ustedhaestadoentratamientopsiquiatrico\"\n",
       "27. \"Suultimogradoescolaraprobadoseencuentraentre\"\n",
       "28. \"Enlaactualidadustedconsumeotomasustanciaspsicoactivasodrogasaluc\"\n",
       "29. \"8240.05\"\n",
       "30. \"70.4\"\n",
       "31. \"38.73\"\n",
       "32. \"16.19\"\n",
       "33. \"0.11\"\n",
       "34. \"14.48\"\n",
       "35. \"7.89\"\n",
       "36. \"10.86\"\n",
       "37. \"7.57\"\n",
       "38. \"10.78\"\n",
       "39. \"10.66\"\n",
       "40. \"2.78\"\n",
       "41. \"0.02\"\n",
       "42. \"0.15\"\n",
       "43. \"346.08\"\n",
       "44. \"235.09\"\n",
       "45. \"531.59\"\n",
       "46. \"0.93\"\n",
       "47. \"0.96\"\n",
       "48. \"13.55\"\n",
       "49. \"1.3\"\n",
       "50. \"9.09\"\n",
       "51. \"308.95\"\n",
       "52. \"160.09\"\n",
       "53. \"168.21\"\n",
       "54. \"0.04\"\n",
       "55. \"42.84\"\n",
       "56. \"108.54\"\n",
       "57. \"0\"\n",
       "58. \"0\"\n",
       "59. \"0\"\n",
       "60. \"0\"\n",
       "61. \"0.74\"\n",
       "62. \"0\"\n",
       "63. \"0\"\n",
       "64. \"0\"\n",
       "65. \"0.01\"\n",
       "66. \"0\"\n",
       "67. \"0\"\n",
       "68. \"0.1\"\n",
       "69. \"0.9\"\n",
       "70. \"0.7\"\n",
       "71. \"0\"\n",
       "72. \"0\"\n",
       "73. \"0\"\n",
       "74. \"0.34\"\n",
       "75. \"0.33\"\n",
       "76. \"0\"\n",
       "77. \"0.25\"\n",
       "78. \"0.43\"\n",
       "79. \"0\"\n",
       "80. \"0\"\n",
       "81. \"0\"\n",
       "82. \"0.84\"\n",
       "83. \"0\"\n",
       "84. \"0\"\n",
       "85. \"Si existen diferencias\"\n",
       "86. \"Si existen diferencias\"\n",
       "87. \"Si existen diferencias\"\n",
       "88. \"Si existen diferencias\"\n",
       "89. \"No existen diferencias\"\n",
       "90. \"Si existen diferencias\"\n",
       "91. \"Si existen diferencias\"\n",
       "92. \"Si existen diferencias\"\n",
       "93. \"Si existen diferencias\"\n",
       "94. \"Si existen diferencias\"\n",
       "95. \"Si existen diferencias\"\n",
       "96. \"No existen diferencias\"\n",
       "97. \"No existen diferencias\"\n",
       "98. \"No existen diferencias\"\n",
       "99. \"Si existen diferencias\"\n",
       "100. \"Si existen diferencias\"\n",
       "101. \"Si existen diferencias\"\n",
       "102. \"No existen diferencias\"\n",
       "103. \"No existen diferencias\"\n",
       "104. \"Si existen diferencias\"\n",
       "105. \"No existen diferencias\"\n",
       "106. \"No existen diferencias\"\n",
       "107. \"Si existen diferencias\"\n",
       "108. \"Si existen diferencias\"\n",
       "109. \"Si existen diferencias\"\n",
       "110. \"No existen diferencias\"\n",
       "111. \"Si existen diferencias\"\n",
       "112. \"Si existen diferencias\"\n",
       "\n",
       "\n"
      ],
      "text/plain": [
       "      Variable                                                          \n",
       " [1,] \"REINCIDENCIARECO\"                                                \n",
       " [2,] \"X.103\"                                                           \n",
       " [3,] \"X.111\"                                                           \n",
       " [4,] \"X.168\"                                                           \n",
       " [5,] \"X.169\"                                                           \n",
       " [6,] \"X.205\"                                                           \n",
       " [7,] \"X.208\"                                                           \n",
       " [8,] \"X.209\"                                                           \n",
       " [9,] \"X.229\"                                                           \n",
       "[10,] \"X.233\"                                                           \n",
       "[11,] \"X.244\"                                                           \n",
       "[12,] \"X.246\"                                                           \n",
       "[13,] \"X.289\"                                                           \n",
       "[14,] \"X.295\"                                                           \n",
       "[15,] \"X.329\"                                                           \n",
       "[16,] \"X.365\"                                                           \n",
       "[17,] \"X.376\"                                                           \n",
       "[18,] \"X.382\"                                                           \n",
       "[19,] \"X.435\"                                                           \n",
       "[20,] \"X.447\"                                                           \n",
       "[21,] \"X.467\"                                                           \n",
       "[22,] \"X.9999\"                                                          \n",
       "[23,] \"Durantesuinfanciafuemaltratado\"                                  \n",
       "[24,] \"Ustedhaconsumidoalmenosunavezensuvidasustanciaspsicoactivasodrog\"\n",
       "[25,] \"Cualdeestasdrogasconsumeohaconsumido\"                            \n",
       "[26,] \"Ustedhaestadoentratamientopsiquiatrico\"                          \n",
       "[27,] \"Suultimogradoescolaraprobadoseencuentraentre\"                    \n",
       "[28,] \"Enlaactualidadustedconsumeotomasustanciaspsicoactivasodrogasaluc\"\n",
       "      Valor_chi Valor_p Decisión                \n",
       " [1,] \"8240.05\" \"0\"     \"Si existen diferencias\"\n",
       " [2,] \"70.4\"    \"0\"     \"Si existen diferencias\"\n",
       " [3,] \"38.73\"   \"0\"     \"Si existen diferencias\"\n",
       " [4,] \"16.19\"   \"0\"     \"Si existen diferencias\"\n",
       " [5,] \"0.11\"    \"0.74\"  \"No existen diferencias\"\n",
       " [6,] \"14.48\"   \"0\"     \"Si existen diferencias\"\n",
       " [7,] \"7.89\"    \"0\"     \"Si existen diferencias\"\n",
       " [8,] \"10.86\"   \"0\"     \"Si existen diferencias\"\n",
       " [9,] \"7.57\"    \"0.01\"  \"Si existen diferencias\"\n",
       "[10,] \"10.78\"   \"0\"     \"Si existen diferencias\"\n",
       "[11,] \"10.66\"   \"0\"     \"Si existen diferencias\"\n",
       "[12,] \"2.78\"    \"0.1\"   \"No existen diferencias\"\n",
       "[13,] \"0.02\"    \"0.9\"   \"No existen diferencias\"\n",
       "[14,] \"0.15\"    \"0.7\"   \"No existen diferencias\"\n",
       "[15,] \"346.08\"  \"0\"     \"Si existen diferencias\"\n",
       "[16,] \"235.09\"  \"0\"     \"Si existen diferencias\"\n",
       "[17,] \"531.59\"  \"0\"     \"Si existen diferencias\"\n",
       "[18,] \"0.93\"    \"0.34\"  \"No existen diferencias\"\n",
       "[19,] \"0.96\"    \"0.33\"  \"No existen diferencias\"\n",
       "[20,] \"13.55\"   \"0\"     \"Si existen diferencias\"\n",
       "[21,] \"1.3\"     \"0.25\"  \"No existen diferencias\"\n",
       "[22,] \"9.09\"    \"0.43\"  \"No existen diferencias\"\n",
       "[23,] \"308.95\"  \"0\"     \"Si existen diferencias\"\n",
       "[24,] \"160.09\"  \"0\"     \"Si existen diferencias\"\n",
       "[25,] \"168.21\"  \"0\"     \"Si existen diferencias\"\n",
       "[26,] \"0.04\"    \"0.84\"  \"No existen diferencias\"\n",
       "[27,] \"42.84\"   \"0\"     \"Si existen diferencias\"\n",
       "[28,] \"108.54\"  \"0\"     \"Si existen diferencias\""
      ]
     },
     "metadata": {},
     "output_type": "display_data"
    }
   ],
   "source": [
    "prueba_t\n",
    "prueba_x\n"
   ]
  },
  {
   "cell_type": "code",
   "execution_count": 9,
   "metadata": {
    "collapsed": false
   },
   "outputs": [
    {
     "data": {
      "text/html": [
       "<table>\n",
       "<thead><tr><th></th><th scope=col>Media</th><th scope=col>Media Hombre</th><th scope=col>Media Mujer</th><th scope=col>Desviación estándar</th><th scope=col>Desviación estándar Hombre</th><th scope=col>Desviación estándar Mujer</th><th scope=col>Valor_t</th><th scope=col>Valor_p</th><th scope=col>Decisión</th></tr></thead>\n",
       "<tbody>\n",
       "\t<tr><th scope=row>OTROS_INGRE</th><td>0.28                  </td><td>0.28                  </td><td>0.23                  </td><td>0.9                   </td><td>0.92                  </td><td>0.56                  </td><td>1.51                  </td><td>0.13                  </td><td>No existen diferencias</td></tr>\n",
       "\t<tr><th scope=row>N_INGRESOS</th><td>2.97                  </td><td>2.95                  </td><td>3.22                  </td><td>1.61                  </td><td>1.59                  </td><td>1.77                  </td><td>-4.8                  </td><td>0                     </td><td>Si existen diferencias</td></tr>\n",
       "\t<tr><th scope=row>REINCIDENCIA</th><td>1.7                   </td><td>1.67                  </td><td>1.98                  </td><td>1.19                  </td><td>1.15                  </td><td>1.58                  </td><td>-7.61                 </td><td>0                     </td><td>Si existen diferencias</td></tr>\n",
       "\t<tr><th scope=row>EDAD_INGRESO</th><td>29.21                 </td><td>28.92                 </td><td>32.62                 </td><td>8.99                  </td><td>8.84                  </td><td>9.92                  </td><td>-12.08                </td><td>0                     </td><td>Si existen diferencias</td></tr>\n",
       "</tbody>\n",
       "</table>\n"
      ],
      "text/latex": [
       "\\begin{tabular}{r|lllllllll}\n",
       "  & Media & Media Hombre & Media Mujer & Desviación estándar & Desviación estándar Hombre & Desviación estándar Mujer & Valor\\_t & Valor\\_p & Decisión\\\\\n",
       "\\hline\n",
       "\tOTROS\\_INGRE & 0.28                   & 0.28                   & 0.23                   & 0.9                    & 0.92                   & 0.56                   & 1.51                   & 0.13                   & No existen diferencias\\\\\n",
       "\tN\\_INGRESOS & 2.97                   & 2.95                   & 3.22                   & 1.61                   & 1.59                   & 1.77                   & -4.8                   & 0                      & Si existen diferencias\\\\\n",
       "\tREINCIDENCIA & 1.7                    & 1.67                   & 1.98                   & 1.19                   & 1.15                   & 1.58                   & -7.61                  & 0                      & Si existen diferencias\\\\\n",
       "\tEDAD\\_INGRESO & 29.21                  & 28.92                  & 32.62                  & 8.99                   & 8.84                   & 9.92                   & -12.08                 & 0                      & Si existen diferencias\\\\\n",
       "\\end{tabular}\n"
      ],
      "text/markdown": [
       "1. \"0.28\"\n",
       "2. \"2.97\"\n",
       "3. \"1.7\"\n",
       "4. \"29.21\"\n",
       "5. \"0.28\"\n",
       "6. \"2.95\"\n",
       "7. \"1.67\"\n",
       "8. \"28.92\"\n",
       "9. \"0.23\"\n",
       "10. \"3.22\"\n",
       "11. \"1.98\"\n",
       "12. \"32.62\"\n",
       "13. \"0.9\"\n",
       "14. \"1.61\"\n",
       "15. \"1.19\"\n",
       "16. \"8.99\"\n",
       "17. \"0.92\"\n",
       "18. \"1.59\"\n",
       "19. \"1.15\"\n",
       "20. \"8.84\"\n",
       "21. \"0.56\"\n",
       "22. \"1.77\"\n",
       "23. \"1.58\"\n",
       "24. \"9.92\"\n",
       "25. \"1.51\"\n",
       "26. \"-4.8\"\n",
       "27. \"-7.61\"\n",
       "28. \"-12.08\"\n",
       "29. \"0.13\"\n",
       "30. \"0\"\n",
       "31. \"0\"\n",
       "32. \"0\"\n",
       "33. \"No existen diferencias\"\n",
       "34. \"Si existen diferencias\"\n",
       "35. \"Si existen diferencias\"\n",
       "36. \"Si existen diferencias\"\n",
       "\n",
       "\n"
      ],
      "text/plain": [
       "             Media   Media Hombre Media Mujer Desviación estándar\n",
       "OTROS_INGRE  \"0.28\"  \"0.28\"       \"0.23\"      \"0.9\"              \n",
       "N_INGRESOS   \"2.97\"  \"2.95\"       \"3.22\"      \"1.61\"             \n",
       "REINCIDENCIA \"1.7\"   \"1.67\"       \"1.98\"      \"1.19\"             \n",
       "EDAD_INGRESO \"29.21\" \"28.92\"      \"32.62\"     \"8.99\"             \n",
       "             Desviación estándar Hombre Desviación estándar Mujer Valor_t \n",
       "OTROS_INGRE  \"0.92\"                     \"0.56\"                    \"1.51\"  \n",
       "N_INGRESOS   \"1.59\"                     \"1.77\"                    \"-4.8\"  \n",
       "REINCIDENCIA \"1.15\"                     \"1.58\"                    \"-7.61\" \n",
       "EDAD_INGRESO \"8.84\"                     \"9.92\"                    \"-12.08\"\n",
       "             Valor_p Decisión                \n",
       "OTROS_INGRE  \"0.13\"  \"No existen diferencias\"\n",
       "N_INGRESOS   \"0\"     \"Si existen diferencias\"\n",
       "REINCIDENCIA \"0\"     \"Si existen diferencias\"\n",
       "EDAD_INGRESO \"0\"     \"Si existen diferencias\""
      ]
     },
     "metadata": {},
     "output_type": "display_data"
    }
   ],
   "source": [
    "Descriptivos=NULL\n",
    "#Descriptivos=rbind(Descriptivos,apply(t_test, 2, range))\n",
    "\n",
    "Descriptivos=rbind(Descriptivos,apply(t_test, 2, mean))\n",
    "Descriptivos=rbind(Descriptivos,apply(t_test[SEXO==\"Hombre\",], 2, mean))\n",
    "Descriptivos=rbind(Descriptivos,apply(t_test[SEXO==\"Mujer\",], 2, mean))\n",
    "\n",
    "Descriptivos=rbind(Descriptivos,apply(t_test, 2, sd))\n",
    "Descriptivos=rbind(Descriptivos,apply(t_test[SEXO==\"Hombre\",], 2, sd))\n",
    "Descriptivos=rbind(Descriptivos,apply(t_test[SEXO==\"Mujer\",], 2, sd))\n",
    "\n",
    "rownames(Descriptivos)=c(\"Media\",\"Media Hombre\",\"Media Mujer\",\"Desviación estándar\",\"Desviación estándar Hombre\",\"Desviación estándar Mujer\")\n",
    "#t(t_test)\n",
    "#Descriptivos=rbind(Descriptivos,t(t_test))\n",
    "tabl_res=cbind(round(t(Descriptivos),2),prueba_t[,2:4])\n",
    "tabl_res\n",
    "write.csv2(tabl_res,file=\"Estadisticos descriptivos.csv\")"
   ]
  },
  {
   "cell_type": "code",
   "execution_count": 10,
   "metadata": {
    "collapsed": false
   },
   "outputs": [
    {
     "data": {
      "text/plain": [
       "SEXO\n",
       "Hombre  Mujer \n",
       " 10718    923 "
      ]
     },
     "metadata": {},
     "output_type": "display_data"
    }
   ],
   "source": [
    "table(SEXO)"
   ]
  },
  {
   "cell_type": "code",
   "execution_count": 11,
   "metadata": {
    "collapsed": false
   },
   "outputs": [],
   "source": [
    "for(i in 1:ncol(t_test)){\n",
    "    hombres=t_test[SEXO==\"Hombre\",i]\n",
    "    mujeres=t_test[SEXO==\"Mujer\",i]\n",
    "    dens_h=density(hombres)#,bw=sd(hombres))\n",
    "    dens_m=density(mujeres)#,bw=sd(mujeres))\n",
    "    \n",
    "    jpeg(filename=paste(\"Distribuciones de\",colnames(t_test)[i],\"por Sexo.jpg\"),width = 600, height = 600,quality = 95)\n",
    "    plot(0,0,col=\"white\",xlim=c(min(c(dens_h$x,dens_m$x)),max(c(dens_h$x,dens_m$x))),\n",
    "         ylim=c(min(c(dens_h$y,dens_m$y)),max(c(dens_h$y,dens_m$y))),\n",
    "         main=paste(\"Distribuciones de\",colnames(t_test)[i],\"por Sexo\"),\n",
    "         xlab=colnames(t_test)[i],\n",
    "         ylab=\"Densidad\"\n",
    "        )\n",
    "    lines(dens_h,lty=2)\n",
    "    lines(dens_m,lty=1)\n",
    "\n",
    "    r_x=max(dens_h$x,dens_m$x)-min(c(dens_h$x,dens_m$x))\n",
    "    r_y=max(dens_h$y,dens_m$y)-min(c(dens_h$y,dens_m$y))\n",
    "\n",
    "    legend(min(c(dens_h$x,dens_m$x))+(r_x*.7),min(c(dens_h$y,dens_m$y))+(r_y*.95),c(\"Hombres\", \"Mujeres\"),lty=c(2,1))\n",
    "    dev.off()\n",
    "}"
   ]
  },
  {
   "cell_type": "code",
   "execution_count": 12,
   "metadata": {
    "collapsed": false
   },
   "outputs": [
    {
     "data": {
      "text/html": [
       "77.149460858102"
      ],
      "text/latex": [
       "77.149460858102"
      ],
      "text/markdown": [
       "77.149460858102"
      ],
      "text/plain": [
       "[1] 77.14946"
      ]
     },
     "metadata": {},
     "output_type": "display_data"
    },
    {
     "data": {
      "text/html": [
       "11.1657280387177"
      ],
      "text/latex": [
       "11.1657280387177"
      ],
      "text/markdown": [
       "11.1657280387177"
      ],
      "text/plain": [
       "[1] 11.16573"
      ]
     },
     "metadata": {},
     "output_type": "display_data"
    },
    {
     "data": {
      "text/html": [
       "0.062211358942076"
      ],
      "text/latex": [
       "0.062211358942076"
      ],
      "text/markdown": [
       "0.062211358942076"
      ],
      "text/plain": [
       "[1] 0.06221136"
      ]
     },
     "metadata": {},
     "output_type": "display_data"
    },
    {
     "data": {
      "text/html": [
       "1.21963659800782e-06"
      ],
      "text/latex": [
       "1.21963659800782e-06"
      ],
      "text/markdown": [
       "1.21963659800782e-06"
      ],
      "text/plain": [
       "[1] 1.219637e-06"
      ]
     },
     "metadata": {},
     "output_type": "display_data"
    }
   ],
   "source": [
    "max(c(dens_h$x,dens_m$x))\n",
    "min(c(dens_h$x,dens_m$x))\n",
    "\n",
    "max(c(dens_h$y,dens_m$y))\n",
    "min(c(dens_h$y,dens_m$y))"
   ]
  },
  {
   "cell_type": "code",
   "execution_count": 13,
   "metadata": {
    "collapsed": false
   },
   "outputs": [
    {
     "data": {
      "text/html": [
       "<table>\n",
       "<thead><tr><th></th><th scope=col>Media</th><th scope=col>Media Hombre</th><th scope=col>Media Mujer</th><th scope=col>Desviación estándar</th><th scope=col>Desviación estándar Hombre</th><th scope=col>Desviación estándar Mujer</th><th scope=col>Valor_t</th><th scope=col>Valor_p</th><th scope=col>Decisión</th></tr></thead>\n",
       "<tbody>\n",
       "\t<tr><th scope=row>OTROS_INGRE</th><td>0.275835409329095     </td><td>0.279529763015488     </td><td>0.232936078006501     </td><td>0.901377930501335     </td><td>0.924737470216288     </td><td>0.561720651453758     </td><td>1.51                  </td><td>0.13                  </td><td>No existen diferencias</td></tr>\n",
       "\t<tr><th scope=row>N_INGRESOS</th><td>2.97354179194227      </td><td>2.95260309759283      </td><td>3.21668472372698      </td><td>1.60657612476549      </td><td>1.58983199475241      </td><td>1.7724889222979       </td><td>-4.8                  </td><td>0                     </td><td>Si existen diferencias</td></tr>\n",
       "\t<tr><th scope=row>REINCIDENCIA</th><td>1.69770638261318      </td><td>1.67307333457735      </td><td>1.98374864572048      </td><td>1.19302197796112      </td><td>1.15029273060705      </td><td>1.58105521947669      </td><td>-7.61                 </td><td>0                     </td><td>Si existen diferencias</td></tr>\n",
       "\t<tr><th scope=row>EDAD_INGRESO</th><td>29.2129542135555      </td><td>28.9193879455122      </td><td>32.6218851570964      </td><td>8.98936507255164      </td><td>8.84425256915686      </td><td>9.91673785666518      </td><td>-12.08                </td><td>0                     </td><td>Si existen diferencias</td></tr>\n",
       "</tbody>\n",
       "</table>\n"
      ],
      "text/latex": [
       "\\begin{tabular}{r|lllllllll}\n",
       "  & Media & Media Hombre & Media Mujer & Desviación estándar & Desviación estándar Hombre & Desviación estándar Mujer & Valor\\_t & Valor\\_p & Decisión\\\\\n",
       "\\hline\n",
       "\tOTROS\\_INGRE & 0.275835409329095      & 0.279529763015488      & 0.232936078006501      & 0.901377930501335      & 0.924737470216288      & 0.561720651453758      & 1.51                   & 0.13                   & No existen diferencias\\\\\n",
       "\tN\\_INGRESOS & 2.97354179194227       & 2.95260309759283       & 3.21668472372698       & 1.60657612476549       & 1.58983199475241       & 1.7724889222979        & -4.8                   & 0                      & Si existen diferencias\\\\\n",
       "\tREINCIDENCIA & 1.69770638261318       & 1.67307333457735       & 1.98374864572048       & 1.19302197796112       & 1.15029273060705       & 1.58105521947669       & -7.61                  & 0                      & Si existen diferencias\\\\\n",
       "\tEDAD\\_INGRESO & 29.2129542135555       & 28.9193879455122       & 32.6218851570964       & 8.98936507255164       & 8.84425256915686       & 9.91673785666518       & -12.08                 & 0                      & Si existen diferencias\\\\\n",
       "\\end{tabular}\n"
      ],
      "text/markdown": [
       "1. \"0.275835409329095\"\n",
       "2. \"2.97354179194227\"\n",
       "3. \"1.69770638261318\"\n",
       "4. \"29.2129542135555\"\n",
       "5. \"0.279529763015488\"\n",
       "6. \"2.95260309759283\"\n",
       "7. \"1.67307333457735\"\n",
       "8. \"28.9193879455122\"\n",
       "9. \"0.232936078006501\"\n",
       "10. \"3.21668472372698\"\n",
       "11. \"1.98374864572048\"\n",
       "12. \"32.6218851570964\"\n",
       "13. \"0.901377930501335\"\n",
       "14. \"1.60657612476549\"\n",
       "15. \"1.19302197796112\"\n",
       "16. \"8.98936507255164\"\n",
       "17. \"0.924737470216288\"\n",
       "18. \"1.58983199475241\"\n",
       "19. \"1.15029273060705\"\n",
       "20. \"8.84425256915686\"\n",
       "21. \"0.561720651453758\"\n",
       "22. \"1.7724889222979\"\n",
       "23. \"1.58105521947669\"\n",
       "24. \"9.91673785666518\"\n",
       "25. \"1.51\"\n",
       "26. \"-4.8\"\n",
       "27. \"-7.61\"\n",
       "28. \"-12.08\"\n",
       "29. \"0.13\"\n",
       "30. \"0\"\n",
       "31. \"0\"\n",
       "32. \"0\"\n",
       "33. \"No existen diferencias\"\n",
       "34. \"Si existen diferencias\"\n",
       "35. \"Si existen diferencias\"\n",
       "36. \"Si existen diferencias\"\n",
       "\n",
       "\n"
      ],
      "text/plain": [
       "             Media               Media Hombre        Media Mujer        \n",
       "OTROS_INGRE  \"0.275835409329095\" \"0.279529763015488\" \"0.232936078006501\"\n",
       "N_INGRESOS   \"2.97354179194227\"  \"2.95260309759283\"  \"3.21668472372698\" \n",
       "REINCIDENCIA \"1.69770638261318\"  \"1.67307333457735\"  \"1.98374864572048\" \n",
       "EDAD_INGRESO \"29.2129542135555\"  \"28.9193879455122\"  \"32.6218851570964\" \n",
       "             Desviación estándar Desviación estándar Hombre\n",
       "OTROS_INGRE  \"0.901377930501335\" \"0.924737470216288\"       \n",
       "N_INGRESOS   \"1.60657612476549\"  \"1.58983199475241\"        \n",
       "REINCIDENCIA \"1.19302197796112\"  \"1.15029273060705\"        \n",
       "EDAD_INGRESO \"8.98936507255164\"  \"8.84425256915686\"        \n",
       "             Desviación estándar Mujer Valor_t  Valor_p\n",
       "OTROS_INGRE  \"0.561720651453758\"       \"1.51\"   \"0.13\" \n",
       "N_INGRESOS   \"1.7724889222979\"         \"-4.8\"   \"0\"    \n",
       "REINCIDENCIA \"1.58105521947669\"        \"-7.61\"  \"0\"    \n",
       "EDAD_INGRESO \"9.91673785666518\"        \"-12.08\" \"0\"    \n",
       "             Decisión                \n",
       "OTROS_INGRE  \"No existen diferencias\"\n",
       "N_INGRESOS   \"Si existen diferencias\"\n",
       "REINCIDENCIA \"Si existen diferencias\"\n",
       "EDAD_INGRESO \"Si existen diferencias\""
      ]
     },
     "metadata": {},
     "output_type": "display_data"
    }
   ],
   "source": [
    "cbind(t(Descriptivos),(prueba_t[,2:4]))\n"
   ]
  },
  {
   "cell_type": "code",
   "execution_count": 14,
   "metadata": {
    "collapsed": false
   },
   "outputs": [
    {
     "data": {
      "image/png": "[encoded data removed]",
      "text/plain": [
       "Plot with title \"density.default(x = t_test$EDAD_INGRESO)\""
      ]
     },
     "metadata": {},
     "output_type": "display_data"
    }
   ],
   "source": [
    "plot(density(t_test$EDAD_INGRESO))"
   ]
  },
  {
   "cell_type": "code",
   "execution_count": 27,
   "metadata": {
    "collapsed": false
   },
   "outputs": [
    {
     "data": {
      "text/plain": [
       "        \n",
       "SEXO     Anfetam. Bazuco Cocaína Heroína Inhalantes Marihuana Sedantes 2 SPA\n",
       "  Hombre      108    164     248      10         19      3815       21   955\n",
       "  Mujer         7     25      15       2          2       179        1    69\n",
       "        \n",
       "SEXO     3 o más\n",
       "  Hombre    1050\n",
       "  Mujer       65"
      ]
     },
     "metadata": {},
     "output_type": "display_data"
    },
    {
     "data": {
      "text/html": [
       "<strong>png:</strong> 2"
      ],
      "text/latex": [
       "\\textbf{png:} 2"
      ],
      "text/markdown": [
       "**png:** 2"
      ],
      "text/plain": [
       "png \n",
       "  2 "
      ]
     },
     "metadata": {},
     "output_type": "display_data"
    }
   ],
   "source": [
    "sex_consm=table(SEXO,chisq_test$Cualdeestasdrogasconsumeohaconsumido)\n",
    "sex_consm[,2:ncol(sex_consm)]\n",
    "\n",
    "jpeg(filename=paste(chisq_test_pltitl[25],\"-Sexo.jpg\"),width = 600, height = 600,quality = 95)\n",
    "barplot(sex_consm[,2:ncol(sex_consm)], main=chisq_test_pltitl[25], beside=T,las=2)\n",
    "    legend(\"topright\", legend = c(\"Hombre\", \"Mujer\"), fill = c(\"gray15\", \"gray85\"))\n",
    "dev.off()\n"
   ]
  },
  {
   "cell_type": "code",
   "execution_count": 15,
   "metadata": {
    "collapsed": false,
    "scrolled": true
   },
   "outputs": [
    {
     "name": "stdout",
     "output_type": "stream",
     "text": [
      "[1] \"Durantesuinfanciafuemaltratado\"\n",
      "            SEXO\n",
      "var          Hombre Mujer\n",
      "  No reporta   7114   549\n",
      "  Físico       2380   157\n",
      "  Psico.        668    47\n",
      "  Sexual         53    39\n",
      "  Varios        503   131\n",
      "[1] \"Ustedhaconsumidoalmenosunavezensuvidasustanciaspsicoactivasodrog\"\n",
      "    SEXO\n",
      "var  Hombre Mujer\n",
      "  No   3843   525\n",
      "  Si   6794   391\n"
     ]
    },
    {
     "data": {
      "image/png": "[encoded data removed]",
      "text/plain": [
       "Plot with title \"Tipos de Maltrato Durante la Infancia\""
      ]
     },
     "metadata": {},
     "output_type": "display_data"
    },
    {
     "name": "stdout",
     "output_type": "stream",
     "text": [
      "[1] \"Cualdeestasdrogasconsumeohaconsumido\"\n",
      "            SEXO\n",
      "var          Hombre Mujer\n",
      "  Ninguna      4263   553\n",
      "  Anfetam.      108     7\n",
      "  Bazuco        164    25\n",
      "  Cocaína       248    15\n",
      "  Heroína        10     2\n",
      "  Inhalantes     19     2\n",
      "  Marihuana    3815   179\n",
      "  Sedantes       21     1\n",
      "  2 SPA         955    69\n",
      "  3 o más      1050    65\n"
     ]
    },
    {
     "data": {
      "image/png": "[encoded data removed]",
      "text/plain": [
       "Plot with title \"Prevalencia de Consumo Alguna Vez en la Vida\""
      ]
     },
     "metadata": {},
     "output_type": "display_data"
    },
    {
     "name": "stdout",
     "output_type": "stream",
     "text": [
      "[1] \"Ustedhaestadoentratamientopsiquiatrico\"\n",
      "    SEXO\n",
      "var  Hombre Mujer\n",
      "  No   9698   836\n",
      "  Si    922    82\n"
     ]
    },
    {
     "data": {
      "image/png": "[encoded data removed]",
      "text/plain": [
       "Plot with title \"SPA Consumida por lo Menos en una Ocasión\""
      ]
     },
     "metadata": {},
     "output_type": "display_data"
    },
    {
     "name": "stdout",
     "output_type": "stream",
     "text": [
      "[1] \"Suultimogradoescolaraprobadoseencuentraentre\"\n",
      "            SEXO\n",
      "var          Hombre Mujer\n",
      "  Analfabeta    384    54\n",
      "  1-3          1625   186\n",
      "  4-5          2231   197\n",
      "  6-7          2055   164\n",
      "  8-9          1709   146\n",
      "  10            546    28\n",
      "  11           1580   100\n",
      "  Ed.Sup        566    45\n"
     ]
    },
    {
     "data": {
      "image/png": "[encoded data removed]",
      "text/plain": [
       "Plot with title \"Tratamiento Psiquiátrico\""
      ]
     },
     "metadata": {},
     "output_type": "display_data"
    },
    {
     "name": "stdout",
     "output_type": "stream",
     "text": [
      "[1] \"Enlaactualidadustedconsumeotomasustanciaspsicoactivasodrogasaluc\"\n",
      "    SEXO\n",
      "var  Hombre Mujer\n",
      "  No   8348   850\n",
      "  Si   2290    64\n"
     ]
    },
    {
     "data": {
      "image/png": "[encoded data removed]",
      "text/plain": [
       "Plot with title \"Último Grado Escolar Aprobado\""
      ]
     },
     "metadata": {},
     "output_type": "display_data"
    },
    {
     "data": {
      "image/png": "[encoded data removed]",
      "text/plain": [
       "Plot with title \"Consumo Actual de SPA\""
      ]
     },
     "metadata": {},
     "output_type": "display_data"
    }
   ],
   "source": [
    "prueba_x=NULL\n",
    "for(i in 23: length(colnames(chisq_test))){\n",
    "    varname=colnames(chisq_test)[i]\n",
    "    var=chisq_test[,i]\n",
    "    data_prop=table(var,SEXO)\n",
    "    \n",
    "    print(varname)\n",
    "    print(data_prop)\n",
    "    \n",
    "    barplot(t(data_prop), main=chisq_test_pltitl[i], beside=T,las=2)\n",
    "    legend(\"topright\", legend = c(\"Hombre\", \"Mujer\"), fill = c(\"gray15\", \"gray85\"))\n",
    "    #jpeg(filename=paste(varname,\"-Sexo.jpg\"),width = 600, height = 600,quality = 95)\n",
    "    #plot(SEXO,factor(var),xlab=\"Sexo\", ylab=varname, main=paste(varname,\"- Sexo\"))\n",
    "    #dev.off()\n",
    "    \n",
    "    #test_var_sex=prop.test(data_prop)\n",
    "    #valor_x=round(test_var_sex$statistic,2)\n",
    "    #valor_p=round(test_var_sex$p.value,2)\n",
    "    #decis=NULL\n",
    "    #if (valor_p<0.05){decis=\"Si existen diferencias\"}else{decis=\"No existen diferencias\"}\n",
    "    #prueba_x=rbind(prueba_x,c(varname,valor_x,valor_p,decis))\n",
    "    #colnames(prueba_x)=c(\"Variable\", \"Valor_chi\", \"Valor_p\", \"Decisión\")\n",
    "}\n",
    "#write.csv2(prueba_x, file=\"resultados prueba chi.csv\")"
   ]
  }
 ],
 "metadata": {
  "anaconda-cloud": {},
  "kernelspec": {
   "display_name": "R",
   "language": "R",
   "name": "ir"
  },
  "language_info": {
   "codemirror_mode": "r",
   "file_extension": ".r",
   "mimetype": "text/x-r-source",
   "name": "R",
   "pygments_lexer": "r",
   "version": "3.3.1"
  }
 },
 "nbformat": 4,
 "nbformat_minor": 1
}
