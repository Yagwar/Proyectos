{
 "cells": [
  {
   "cell_type": "code",
   "execution_count": 62,
   "metadata": {
    "collapsed": true
   },
   "outputs": [],
   "source": [
    "library (ggplot2)"
   ]
  },
  {
   "cell_type": "code",
   "execution_count": 63,
   "metadata": {},
   "outputs": [
    {
     "data": {
      "text/html": [
       "<ol class=list-inline>\n",
       "\t<li>'R_1'</li>\n",
       "\t<li>'R_2'</li>\n",
       "\t<li>'R_3'</li>\n",
       "\t<li>'R_4'</li>\n",
       "\t<li>'R_5'</li>\n",
       "\t<li>'R_6'</li>\n",
       "\t<li>'R_7'</li>\n",
       "\t<li>'R_8'</li>\n",
       "\t<li>'R_9'</li>\n",
       "\t<li>'R_10'</li>\n",
       "\t<li>'R_11'</li>\n",
       "\t<li>'R_12'</li>\n",
       "\t<li>'R_13'</li>\n",
       "\t<li>'R_14'</li>\n",
       "\t<li>'R_15'</li>\n",
       "\t<li>'R_16'</li>\n",
       "\t<li>'R_17'</li>\n",
       "\t<li>'R_18'</li>\n",
       "\t<li>'R_19'</li>\n",
       "\t<li>'R_20'</li>\n",
       "\t<li>'R_21'</li>\n",
       "\t<li>'R_22'</li>\n",
       "\t<li>'R_23'</li>\n",
       "\t<li>'R_24'</li>\n",
       "\t<li>'R_25'</li>\n",
       "\t<li>'R_26'</li>\n",
       "\t<li>'R_27'</li>\n",
       "\t<li>'R_28'</li>\n",
       "\t<li>'R_29'</li>\n",
       "\t<li>'R_30'</li>\n",
       "\t<li>'R_31'</li>\n",
       "\t<li>'R_32'</li>\n",
       "\t<li>'R_33'</li>\n",
       "\t<li>'R_34'</li>\n",
       "\t<li>'R_35'</li>\n",
       "\t<li>'R_36'</li>\n",
       "\t<li>'edad'</li>\n",
       "\t<li>'Sexo'</li>\n",
       "\t<li>'Jornada'</li>\n",
       "\t<li>'promedio'</li>\n",
       "\t<li>'Trabaja'</li>\n",
       "\t<li>'Puntuacion.total'</li>\n",
       "</ol>\n"
      ],
      "text/latex": [
       "\\begin{enumerate*}\n",
       "\\item 'R\\_1'\n",
       "\\item 'R\\_2'\n",
       "\\item 'R\\_3'\n",
       "\\item 'R\\_4'\n",
       "\\item 'R\\_5'\n",
       "\\item 'R\\_6'\n",
       "\\item 'R\\_7'\n",
       "\\item 'R\\_8'\n",
       "\\item 'R\\_9'\n",
       "\\item 'R\\_10'\n",
       "\\item 'R\\_11'\n",
       "\\item 'R\\_12'\n",
       "\\item 'R\\_13'\n",
       "\\item 'R\\_14'\n",
       "\\item 'R\\_15'\n",
       "\\item 'R\\_16'\n",
       "\\item 'R\\_17'\n",
       "\\item 'R\\_18'\n",
       "\\item 'R\\_19'\n",
       "\\item 'R\\_20'\n",
       "\\item 'R\\_21'\n",
       "\\item 'R\\_22'\n",
       "\\item 'R\\_23'\n",
       "\\item 'R\\_24'\n",
       "\\item 'R\\_25'\n",
       "\\item 'R\\_26'\n",
       "\\item 'R\\_27'\n",
       "\\item 'R\\_28'\n",
       "\\item 'R\\_29'\n",
       "\\item 'R\\_30'\n",
       "\\item 'R\\_31'\n",
       "\\item 'R\\_32'\n",
       "\\item 'R\\_33'\n",
       "\\item 'R\\_34'\n",
       "\\item 'R\\_35'\n",
       "\\item 'R\\_36'\n",
       "\\item 'edad'\n",
       "\\item 'Sexo'\n",
       "\\item 'Jornada'\n",
       "\\item 'promedio'\n",
       "\\item 'Trabaja'\n",
       "\\item 'Puntuacion.total'\n",
       "\\end{enumerate*}\n"
      ],
      "text/markdown": [
       "1. 'R_1'\n",
       "2. 'R_2'\n",
       "3. 'R_3'\n",
       "4. 'R_4'\n",
       "5. 'R_5'\n",
       "6. 'R_6'\n",
       "7. 'R_7'\n",
       "8. 'R_8'\n",
       "9. 'R_9'\n",
       "10. 'R_10'\n",
       "11. 'R_11'\n",
       "12. 'R_12'\n",
       "13. 'R_13'\n",
       "14. 'R_14'\n",
       "15. 'R_15'\n",
       "16. 'R_16'\n",
       "17. 'R_17'\n",
       "18. 'R_18'\n",
       "19. 'R_19'\n",
       "20. 'R_20'\n",
       "21. 'R_21'\n",
       "22. 'R_22'\n",
       "23. 'R_23'\n",
       "24. 'R_24'\n",
       "25. 'R_25'\n",
       "26. 'R_26'\n",
       "27. 'R_27'\n",
       "28. 'R_28'\n",
       "29. 'R_29'\n",
       "30. 'R_30'\n",
       "31. 'R_31'\n",
       "32. 'R_32'\n",
       "33. 'R_33'\n",
       "34. 'R_34'\n",
       "35. 'R_35'\n",
       "36. 'R_36'\n",
       "37. 'edad'\n",
       "38. 'Sexo'\n",
       "39. 'Jornada'\n",
       "40. 'promedio'\n",
       "41. 'Trabaja'\n",
       "42. 'Puntuacion.total'\n",
       "\n",
       "\n"
      ],
      "text/plain": [
       " [1] \"R_1\"              \"R_2\"              \"R_3\"              \"R_4\"             \n",
       " [5] \"R_5\"              \"R_6\"              \"R_7\"              \"R_8\"             \n",
       " [9] \"R_9\"              \"R_10\"             \"R_11\"             \"R_12\"            \n",
       "[13] \"R_13\"             \"R_14\"             \"R_15\"             \"R_16\"            \n",
       "[17] \"R_17\"             \"R_18\"             \"R_19\"             \"R_20\"            \n",
       "[21] \"R_21\"             \"R_22\"             \"R_23\"             \"R_24\"            \n",
       "[25] \"R_25\"             \"R_26\"             \"R_27\"             \"R_28\"            \n",
       "[29] \"R_29\"             \"R_30\"             \"R_31\"             \"R_32\"            \n",
       "[33] \"R_33\"             \"R_34\"             \"R_35\"             \"R_36\"            \n",
       "[37] \"edad\"             \"Sexo\"             \"Jornada\"          \"promedio\"        \n",
       "[41] \"Trabaja\"          \"Puntuacion.total\""
      ]
     },
     "metadata": {},
     "output_type": "display_data"
    }
   ],
   "source": [
    "datos=read.csv2(\"datos.csv\", header = TRUE)\n",
    "notas=datos$promedio\n",
    "DERS=datos$Puntuacion.total\n",
    "colnames(datos)"
   ]
  },
  {
   "cell_type": "markdown",
   "metadata": {},
   "source": [
    "# Análisis DERS"
   ]
  },
  {
   "cell_type": "code",
   "execution_count": 74,
   "metadata": {},
   "outputs": [
    {
     "data": {
      "image/png": "[encoded data removed]",
      "text/plain": [
       "Plot with title \"Dispersión Notas DERS\""
      ]
     },
     "metadata": {},
     "output_type": "display_data"
    }
   ],
   "source": [
    "plot(DERS, notas, pch=16, col=\"gray35\", cex=0.75, main=\"Dispersión Notas DERS\", ylab=\"Notas\")"
   ]
  },
  {
   "cell_type": "code",
   "execution_count": 65,
   "metadata": {},
   "outputs": [
    {
     "data": {
      "text/plain": [
       "\n",
       "\tPearson's product-moment correlation\n",
       "\n",
       "data:  DERS and notas\n",
       "t = -1.458, df = 93, p-value = 0.1482\n",
       "alternative hypothesis: true correlation is not equal to 0\n",
       "95 percent confidence interval:\n",
       " -0.34076330  0.05367326\n",
       "sample estimates:\n",
       "       cor \n",
       "-0.1494868 \n"
      ]
     },
     "metadata": {},
     "output_type": "display_data"
    }
   ],
   "source": [
    "cor.test(DERS,notas)"
   ]
  },
  {
   "cell_type": "markdown",
   "metadata": {},
   "source": [
    "## Comparaciones DERS\n",
    "###  Sexo\n"
   ]
  },
  {
   "cell_type": "code",
   "execution_count": 67,
   "metadata": {
    "scrolled": true
   },
   "outputs": [
    {
     "data": {
      "text/plain": [
       "\n",
       "\tWelch Two Sample t-test\n",
       "\n",
       "data:  Puntuacion.total by Sexo\n",
       "t = 1.6885, df = 31.23, p-value = 0.1013\n",
       "alternative hypothesis: true difference in means is not equal to 0\n",
       "95 percent confidence interval:\n",
       " -1.308069 13.913332\n",
       "sample estimates:\n",
       "mean in group F mean in group M \n",
       "       84.30263        78.00000 \n"
      ]
     },
     "metadata": {},
     "output_type": "display_data"
    }
   ],
   "source": [
    "t.test(Puntuacion.total~Sexo, data = datos)"
   ]
  },
  {
   "cell_type": "markdown",
   "metadata": {},
   "source": [
    "### Edad"
   ]
  },
  {
   "cell_type": "code",
   "execution_count": 75,
   "metadata": {},
   "outputs": [
    {
     "data": {
      "image/png": "[encoded data removed]",
      "text/plain": [
       "Plot with title \"Dispersión Edad DERS\""
      ]
     },
     "metadata": {},
     "output_type": "display_data"
    }
   ],
   "source": [
    "plot(DERS, datos$edad, \n",
    "     pch=16, \n",
    "     col=\"gray35\", \n",
    "     cex=0.75,\n",
    "     ylab=\"Edad\",\n",
    "     main=\"Dispersión Edad DERS\")"
   ]
  },
  {
   "cell_type": "code",
   "execution_count": 69,
   "metadata": {},
   "outputs": [
    {
     "data": {
      "text/plain": [
       "\n",
       "\tPearson's product-moment correlation\n",
       "\n",
       "data:  DERS and datos$edad\n",
       "t = -1.7375, df = 93, p-value = 0.0856\n",
       "alternative hypothesis: true correlation is not equal to 0\n",
       "95 percent confidence interval:\n",
       " -0.36579065  0.02512063\n",
       "sample estimates:\n",
       "       cor \n",
       "-0.1773201 \n"
      ]
     },
     "metadata": {},
     "output_type": "display_data"
    }
   ],
   "source": [
    "cor.test(DERS, datos$edad)"
   ]
  },
  {
   "cell_type": "markdown",
   "metadata": {},
   "source": [
    "###  Jornada"
   ]
  },
  {
   "cell_type": "code",
   "execution_count": 70,
   "metadata": {
    "scrolled": true
   },
   "outputs": [
    {
     "data": {
      "text/plain": [
       "\n",
       "\tWelch Two Sample t-test\n",
       "\n",
       "data:  Puntuacion.total by Jornada\n",
       "t = 1.0697, df = 90.506, p-value = 0.2876\n",
       "alternative hypothesis: true difference in means is not equal to 0\n",
       "95 percent confidence interval:\n",
       " -3.015813 10.052486\n",
       "sample estimates:\n",
       "mean in group D mean in group N \n",
       "       84.63462        81.11628 \n"
      ]
     },
     "metadata": {},
     "output_type": "display_data"
    }
   ],
   "source": [
    "t.test(Puntuacion.total~Jornada, data = datos)"
   ]
  },
  {
   "cell_type": "markdown",
   "metadata": {},
   "source": [
    "###  Trabaja"
   ]
  },
  {
   "cell_type": "code",
   "execution_count": 71,
   "metadata": {
    "scrolled": true
   },
   "outputs": [
    {
     "data": {
      "text/plain": [
       "\n",
       "\tWelch Two Sample t-test\n",
       "\n",
       "data:  Puntuacion.total by Trabaja\n",
       "t = -0.25873, df = 90.686, p-value = 0.7964\n",
       "alternative hypothesis: true difference in means is not equal to 0\n",
       "95 percent confidence interval:\n",
       " -7.128980  5.485923\n",
       "sample estimates:\n",
       "mean in group NO mean in group SI \n",
       "        82.54054         83.36207 \n"
      ]
     },
     "metadata": {},
     "output_type": "display_data"
    }
   ],
   "source": [
    "t.test(Puntuacion.total~Trabaja, data = datos)"
   ]
  },
  {
   "cell_type": "markdown",
   "metadata": {},
   "source": [
    "## Regresiones múltiples\n",
    "\n",
    "'edad' 'Sexo' 'Jornada' 'promedio' 'Trabaja' 'Puntuacion.total'"
   ]
  },
  {
   "cell_type": "code",
   "execution_count": 76,
   "metadata": {
    "collapsed": true
   },
   "outputs": [],
   "source": [
    "reg_lin_DERS <- lm(Puntuacion.total ~ edad+Sexo+Jornada+promedio+Trabaja, datos)"
   ]
  },
  {
   "cell_type": "code",
   "execution_count": 78,
   "metadata": {},
   "outputs": [
    {
     "data": {
      "text/plain": [
       "\n",
       "Call:\n",
       "lm(formula = Puntuacion.total ~ edad + Sexo + Jornada + promedio + \n",
       "    Trabaja, data = datos)\n",
       "\n",
       "Residuals:\n",
       "    Min      1Q  Median      3Q     Max \n",
       "-32.985 -10.388  -1.048  11.462  42.739 \n",
       "\n",
       "Coefficients:\n",
       "            Estimate Std. Error t value Pr(>|t|)    \n",
       "(Intercept) 149.5333    31.0998   4.808 6.16e-06 ***\n",
       "edad         -1.2704     0.9322  -1.363    0.176    \n",
       "SexoM        -5.0590     4.3047  -1.175    0.243    \n",
       "JornadaN     -2.2790     3.8283  -0.595    0.553    \n",
       "promedio     -9.8813     6.3459  -1.557    0.123    \n",
       "TrabajaSI     3.0151     3.7057   0.814    0.418    \n",
       "---\n",
       "Signif. codes:  0 '***' 0.001 '**' 0.01 '*' 0.05 '.' 0.1 ' ' 1\n",
       "\n",
       "Residual standard error: 15.78 on 89 degrees of freedom\n",
       "Multiple R-squared:  0.07992,\tAdjusted R-squared:  0.02823 \n",
       "F-statistic: 1.546 on 5 and 89 DF,  p-value: 0.1837\n"
      ]
     },
     "metadata": {},
     "output_type": "display_data"
    }
   ],
   "source": [
    "summary(reg_lin_DERS)"
   ]
  },
  {
   "cell_type": "code",
   "execution_count": 81,
   "metadata": {},
   "outputs": [
    {
     "data": {
      "image/png": "[encoded data removed]",
      "text/plain": [
       "Plot with title \"\""
      ]
     },
     "metadata": {},
     "output_type": "display_data"
    }
   ],
   "source": [
    "layout(matrix(c(1,2,3,4),2,2)) # optional 4 graphs/page\n",
    "plot(reg_lin_DERS)"
   ]
  },
  {
   "cell_type": "markdown",
   "metadata": {},
   "source": [
    "### Regresión Notas"
   ]
  },
  {
   "cell_type": "code",
   "execution_count": 79,
   "metadata": {
    "collapsed": true
   },
   "outputs": [],
   "source": [
    "reg_lin_notas <- lm(promedio ~ edad+Sexo+Jornada+Puntuacion.total+Trabaja, datos)"
   ]
  },
  {
   "cell_type": "code",
   "execution_count": 80,
   "metadata": {},
   "outputs": [
    {
     "data": {
      "text/plain": [
       "\n",
       "Call:\n",
       "lm(formula = promedio ~ edad + Sexo + Jornada + Puntuacion.total + \n",
       "    Trabaja, data = datos)\n",
       "\n",
       "Residuals:\n",
       "     Min       1Q   Median       3Q      Max \n",
       "-0.60916 -0.12659  0.02811  0.15147  0.64195 \n",
       "\n",
       "Coefficients:\n",
       "                   Estimate Std. Error t value Pr(>|t|)    \n",
       "(Intercept)       4.0452804  0.3835035  10.548   <2e-16 ***\n",
       "edad              0.0024844  0.0155203   0.160    0.873    \n",
       "SexoM            -0.0759428  0.0710389  -1.069    0.288    \n",
       "JornadaN         -0.0003171  0.0632192  -0.005    0.996    \n",
       "Puntuacion.total -0.0026839  0.0017236  -1.557    0.123    \n",
       "TrabajaSI         0.0278140  0.0612282   0.454    0.651    \n",
       "---\n",
       "Signif. codes:  0 '***' 0.001 '**' 0.01 '*' 0.05 '.' 0.1 ' ' 1\n",
       "\n",
       "Residual standard error: 0.2601 on 89 degrees of freedom\n",
       "Multiple R-squared:  0.03847,\tAdjusted R-squared:  -0.01555 \n",
       "F-statistic: 0.7121 on 5 and 89 DF,  p-value: 0.6159\n"
      ]
     },
     "metadata": {},
     "output_type": "display_data"
    }
   ],
   "source": [
    "summary(reg_lin_notas)"
   ]
  },
  {
   "cell_type": "code",
   "execution_count": 82,
   "metadata": {},
   "outputs": [
    {
     "data": {
      "image/png": "[encoded data removed]",
      "text/plain": [
       "Plot with title \"\""
      ]
     },
     "metadata": {},
     "output_type": "display_data"
    }
   ],
   "source": [
    "layout(matrix(c(1,2,3,4),2,2)) # optional 4 graphs/page\n",
    "plot(reg_lin_notas)"
   ]
  }
 ],
 "metadata": {
  "kernelspec": {
   "display_name": "R",
   "language": "R",
   "name": "ir"
  },
  "language_info": {
   "codemirror_mode": "r",
   "file_extension": ".r",
   "mimetype": "text/x-r-source",
   "name": "R",
   "pygments_lexer": "r",
   "version": "3.4.2"
  }
 },
 "nbformat": 4,
 "nbformat_minor": 2
}
