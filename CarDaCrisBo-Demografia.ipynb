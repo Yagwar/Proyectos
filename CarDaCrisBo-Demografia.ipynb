{
 "cells": [
  {
   "cell_type": "code",
   "execution_count": 8,
   "metadata": {},
   "outputs": [],
   "source": [
    "library(dplyr)\n",
    "library(ggplot2)\n",
    "# library(MortalitySmooth)\n",
    "library(foreign)\n",
    "# library(tidyverse)\n",
    "library(base)"
   ]
  },
  {
   "cell_type": "markdown",
   "metadata": {},
   "source": [
    "# Carga de Datos\n",
    "\n",
    "Integración de las bases"
   ]
  },
  {
   "cell_type": "code",
   "execution_count": 9,
   "metadata": {},
   "outputs": [
    {
     "name": "stdout",
     "output_type": "stream",
     "text": [
      "[1] \"1 Loaded\"\n",
      "[1] \"2 Loaded\"\n",
      "[1] \"All Loaded\"\n"
     ]
    }
   ],
   "source": [
    "D1 = read.dbf(\"DEFUN04.dbf\")\n",
    "print(\"1 Loaded\")\n",
    "D2 = read.dbf(\"DEFUN05.dbf\")\n",
    "print(\"2 Loaded\")\n",
    "D3 = read.dbf(\"DEFUN06.dbf\")\n",
    "D4 = read.dbf(\"DEFUN07.dbf\")\n",
    "D5 = read.dbf(\"DEFUN08.dbf\")\n",
    "D6 = read.dbf(\"DEFUN09.dbf\")\n",
    "D7 = read.dbf(\"DEFUN10.dbf\")\n",
    "D8 = read.dbf(\"DEFUN11.dbf\")\n",
    "D9 = read.dbf(\"DEFUN12.dbf\")\n",
    "D10 = read.dbf(\"DEFUN13.dbf\")\n",
    "D11 = read.dbf(\"DEFUN14.dbf\")\n",
    "D12 = read.dbf(\"DEFUN15.dbf\")\n",
    "D13 = read.dbf(\"DEFUN16.dbf\")\n",
    "D14 = read.dbf(\"DEFUN00.dbf\")\n",
    "D15 = read.dbf(\"DEFUN01.dbf\")\n",
    "D16 = read.dbf(\"DEFUN02.dbf\")\n",
    "D17 = read.dbf(\"DEFUN03.dbf\")\n",
    "print(\"All Loaded\")"
   ]
  },
  {
   "cell_type": "code",
   "execution_count": 10,
   "metadata": {},
   "outputs": [
    {
     "name": "stdout",
     "output_type": "stream",
     "text": [
      "[1] \"Data binded\"\n",
      "[1] \"transform done\"\n"
     ]
    }
   ],
   "source": [
    "LT1=rbind(D1,D2,D3,D4,D5,D6,D7,D8)\n",
    "print(\"Data binded\")\n",
    "LT1=LT1 %>% select(CAUSA_DEF,SEXO,ANIO_OCUR,ANIO_REGIS,NACIONALID,EDAD_AGRU,ENT_REGIS,MUN_REGIS,ENT_OCURR,MUN_OCURR,VIO_FAMI, ENT_RESID, EDAD)\n",
    "print(\"transform done\")"
   ]
  },
  {
   "cell_type": "code",
   "execution_count": 11,
   "metadata": {},
   "outputs": [
    {
     "name": "stdout",
     "output_type": "stream",
     "text": [
      "[1] \"done\"\n"
     ]
    }
   ],
   "source": [
    "LT2=D9 %>% select(CAUSA_DEF,SEXO,ANIO_OCUR,ANIO_REGIS,NACIONALID,EDAD_AGRU,ENT_REGIS,MUN_REGIS,ENT_OCURR,MUN_OCURR,VIO_FAMI, ENT_RESID, EDAD)\n",
    "print(\"done\")"
   ]
  },
  {
   "cell_type": "code",
   "execution_count": 12,
   "metadata": {},
   "outputs": [
    {
     "name": "stdout",
     "output_type": "stream",
     "text": [
      "[1] \"transform done\"\n"
     ]
    }
   ],
   "source": [
    "LT3=rbind(D10,D11,D12,D13)\n",
    "LT3=LT3 %>% select(CAUSA_DEF,SEXO,ANIO_OCUR,ANIO_REGIS,NACIONALID,EDAD_AGRU,ENT_REGIS,MUN_REGIS,ENT_OCURR,MUN_OCURR,VIO_FAMI, ENT_RESID,EDAD)\n",
    "print(\"transform done\")"
   ]
  },
  {
   "cell_type": "code",
   "execution_count": 13,
   "metadata": {},
   "outputs": [
    {
     "name": "stdout",
     "output_type": "stream",
     "text": [
      "[1] \"transform done\"\n"
     ]
    }
   ],
   "source": [
    "LT4=rbind(D14,D15)\n",
    "LT4=LT4 %>% select(CAUSA_DEF,SEXO,ANIO_OCUR,ANIO_REGIS,NACIONALID,EDAD_AGRU,ENT_REGIS,MUN_REGIS,ENT_OCURR,MUN_OCURR,VIO_FAMI, ENT_RESID,EDAD)\n",
    "print(\"transform done\")\n"
   ]
  },
  {
   "cell_type": "code",
   "execution_count": 14,
   "metadata": {},
   "outputs": [
    {
     "name": "stdout",
     "output_type": "stream",
     "text": [
      "[1] \"transform done\"\n"
     ]
    }
   ],
   "source": [
    "LT5=rbind(D16,D17)\n",
    "LT5=LT5 %>% select(CAUSA_DEF,SEXO,ANIO_OCUR,ANIO_REGIS,NACIONALID,EDAD_AGRU,ENT_REGIS,MUN_REGIS,ENT_OCURR,MUN_OCURR,VIO_FAMI, ENT_RESID, EDAD)\n",
    "print(\"transform done\")"
   ]
  },
  {
   "cell_type": "markdown",
   "metadata": {},
   "source": [
    "## Integración"
   ]
  },
  {
   "cell_type": "code",
   "execution_count": 16,
   "metadata": {},
   "outputs": [],
   "source": [
    "LTt=rbind(LT1,LT2,LT3,LT4,LT5)"
   ]
  },
  {
   "cell_type": "code",
   "execution_count": 21,
   "metadata": {},
   "outputs": [
    {
     "name": "stdout",
     "output_type": "stream",
     "text": [
      "'data.frame':\t9262717 obs. of  13 variables:\n",
      " $ CAUSA_DEF : Factor w/ 6814 levels \"A010\",\"A014\",..: 864 3442 1496 1496 1960 26 567 467 1496 949 ...\n",
      " $ SEXO      : int  2 1 2 1 2 1 2 2 2 1 ...\n",
      " $ ANIO_OCUR : int  2004 2004 2004 2003 2004 2004 2004 2004 2003 2004 ...\n",
      " $ ANIO_REGIS: int  2004 2004 2004 2004 2004 2004 2004 2004 2004 2004 ...\n",
      " $ NACIONALID: int  1 1 1 1 1 1 1 1 1 1 ...\n",
      " $ EDAD_AGRU : Factor w/ 30 levels \"01\",\"02\",\"03\",..: 20 8 21 22 14 1 17 18 22 11 ...\n",
      " $ ENT_REGIS : chr  \"1\" \"1\" \"1\" \"1\" ...\n",
      " $ MUN_REGIS : chr  \"1\" \"1\" \"1\" \"1\" ...\n",
      " $ ENT_OCURR : chr  \"1\" \"1\" \"1\" \"1\" ...\n",
      " $ MUN_OCURR : chr  \"1\" \"1\" \"1\" \"1\" ...\n",
      " $ VIO_FAMI  : int  8 8 8 8 8 8 8 8 8 8 ...\n",
      " $ ENT_RESID : chr  \"1\" \"1\" \"1\" \"1\" ...\n",
      " $ EDAD      : int  4078 4019 4084 4085 4045 3007 4060 4066 4087 4031 ...\n",
      " - attr(*, \"data_types\")= chr  \"N\" \"N\" \"N\" \"N\" ...\n"
     ]
    }
   ],
   "source": [
    "str(LTt)"
   ]
  },
  {
   "cell_type": "code",
   "execution_count": 22,
   "metadata": {},
   "outputs": [],
   "source": [
    "LT=filter(LTt,ANIO_OCUR==2000|ANIO_OCUR==2001|ANIO_OCUR==2002|ANIO_OCUR==2003|ANIO_OCUR==2004|ANIO_OCUR==2005|ANIO_OCUR==2006|ANIO_OCUR==2007|ANIO_OCUR==2008|ANIO_OCUR==2009|ANIO_OCUR==2010|ANIO_OCUR==2011|ANIO_OCUR==2012|ANIO_OCUR==2013|ANIO_OCUR==2014|ANIO_OCUR==2015|ANIO_OCUR==2016)"
   ]
  },
  {
   "cell_type": "code",
   "execution_count": 24,
   "metadata": {},
   "outputs": [
    {
     "name": "stdout",
     "output_type": "stream",
     "text": [
      "'data.frame':\t9254528 obs. of  13 variables:\n",
      " $ CAUSA_DEF : Factor w/ 6814 levels \"A010\",\"A014\",..: 864 3442 1496 1496 1960 26 567 467 1496 949 ...\n",
      " $ SEXO      : int  2 1 2 1 2 1 2 2 2 1 ...\n",
      " $ ANIO_OCUR : int  2004 2004 2004 2003 2004 2004 2004 2004 2003 2004 ...\n",
      " $ ANIO_REGIS: int  2004 2004 2004 2004 2004 2004 2004 2004 2004 2004 ...\n",
      " $ NACIONALID: int  1 1 1 1 1 1 1 1 1 1 ...\n",
      " $ EDAD_AGRU : Factor w/ 30 levels \"01\",\"02\",\"03\",..: 20 8 21 22 14 1 17 18 22 11 ...\n",
      " $ ENT_REGIS : chr  \"1\" \"1\" \"1\" \"1\" ...\n",
      " $ MUN_REGIS : chr  \"1\" \"1\" \"1\" \"1\" ...\n",
      " $ ENT_OCURR : chr  \"1\" \"1\" \"1\" \"1\" ...\n",
      " $ MUN_OCURR : chr  \"1\" \"1\" \"1\" \"1\" ...\n",
      " $ VIO_FAMI  : int  8 8 8 8 8 8 8 8 8 8 ...\n",
      " $ ENT_RESID : chr  \"1\" \"1\" \"1\" \"1\" ...\n",
      " $ EDAD      : int  4078 4019 4084 4085 4045 3007 4060 4066 4087 4031 ...\n",
      " - attr(*, \"data_types\")= chr  \"N\" \"N\" \"N\" \"N\" ...\n"
     ]
    }
   ],
   "source": [
    "str(LT)"
   ]
  },
  {
   "cell_type": "code",
   "execution_count": 27,
   "metadata": {},
   "outputs": [],
   "source": [
    "write.csv(LT,file=\"demografia.csv\")"
   ]
  },
  {
   "cell_type": "markdown",
   "metadata": {},
   "source": [
    "# Lectura de salida"
   ]
  },
  {
   "cell_type": "code",
   "execution_count": 1,
   "metadata": {},
   "outputs": [],
   "source": [
    "data=read.csv(\"demografia.csv\")"
   ]
  },
  {
   "cell_type": "code",
   "execution_count": 2,
   "metadata": {},
   "outputs": [
    {
     "name": "stdout",
     "output_type": "stream",
     "text": [
      "'data.frame':\t9254528 obs. of  14 variables:\n",
      " $ X         : int  1 2 3 4 5 6 7 8 9 10 ...\n",
      " $ CAUSA_DEF : Factor w/ 6806 levels \"A010\",\"A011\",..: 1430 6135 2458 2458 3326 45 908 753 2458 1591 ...\n",
      " $ SEXO      : int  2 1 2 1 2 1 2 2 2 1 ...\n",
      " $ ANIO_OCUR : int  2004 2004 2004 2003 2004 2004 2004 2004 2003 2004 ...\n",
      " $ ANIO_REGIS: int  2004 2004 2004 2004 2004 2004 2004 2004 2004 2004 ...\n",
      " $ NACIONALID: int  1 1 1 1 1 1 1 1 1 1 ...\n",
      " $ EDAD_AGRU : int  20 8 21 22 14 1 17 18 22 11 ...\n",
      " $ ENT_REGIS : int  1 1 1 1 1 1 1 1 1 1 ...\n",
      " $ MUN_REGIS : int  1 1 1 1 1 1 1 1 1 1 ...\n",
      " $ ENT_OCURR : int  1 1 1 1 1 1 1 1 1 1 ...\n",
      " $ MUN_OCURR : int  1 1 1 1 1 1 1 1 1 1 ...\n",
      " $ VIO_FAMI  : int  8 8 8 8 8 8 8 8 8 8 ...\n",
      " $ ENT_RESID : int  1 1 1 1 1 1 1 1 1 1 ...\n",
      " $ EDAD      : int  4078 4019 4084 4085 4045 3007 4060 4066 4087 4031 ...\n"
     ]
    }
   ],
   "source": [
    "str(data)"
   ]
  },
  {
   "cell_type": "code",
   "execution_count": null,
   "metadata": {},
   "outputs": [],
   "source": []
  }
 ],
 "metadata": {
  "kernelspec": {
   "display_name": "R",
   "language": "R",
   "name": "ir"
  },
  "language_info": {
   "codemirror_mode": "r",
   "file_extension": ".r",
   "mimetype": "text/x-r-source",
   "name": "R",
   "pygments_lexer": "r",
   "version": "3.3.1"
  }
 },
 "nbformat": 4,
 "nbformat_minor": 2
}
